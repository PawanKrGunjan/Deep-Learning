{
 "cells": [
  {
   "cell_type": "markdown",
   "id": "dd67761f",
   "metadata": {
    "papermill": {
     "duration": 0.003586,
     "end_time": "2023-04-25T15:30:44.737389",
     "exception": false,
     "start_time": "2023-04-25T15:30:44.733803",
     "status": "completed"
    },
    "tags": []
   },
   "source": [
    "# Custom Perceptron Model"
   ]
  },
  {
   "cell_type": "code",
   "execution_count": 1,
   "id": "8b6e3201",
   "metadata": {
    "execution": {
     "iopub.execute_input": "2023-04-25T15:30:44.745828Z",
     "iopub.status.busy": "2023-04-25T15:30:44.745129Z",
     "iopub.status.idle": "2023-04-25T15:30:47.030869Z",
     "shell.execute_reply": "2023-04-25T15:30:47.029685Z"
    },
    "papermill": {
     "duration": 2.293863,
     "end_time": "2023-04-25T15:30:47.034291",
     "exception": false,
     "start_time": "2023-04-25T15:30:44.740428",
     "status": "completed"
    },
    "tags": []
   },
   "outputs": [
    {
     "name": "stdout",
     "output_type": "stream",
     "text": [
      "Accuracy: 0.9298245614035088\n"
     ]
    }
   ],
   "source": [
    "# Import the necessary library\n",
    "import numpy as np\n",
    "\n",
    "# Set the random seed legacy\n",
    "np.random.seed(523)\n",
    "from sklearn.datasets import load_breast_cancer\n",
    "from sklearn.model_selection import train_test_split\n",
    "from sklearn.preprocessing import StandardScaler\n",
    "np.random.seed(523)\n",
    "\n",
    "# Build the Perceptron Model\n",
    "class Perceptron:\n",
    "    \n",
    "    def __init__(self, num_inputs, learning_rate=0.1):\n",
    "        # Initialize the weight and learning rate\n",
    "        self.weights = np.random.rand(num_inputs + 1)\n",
    "        self.learning_rate = learning_rate\n",
    "    \n",
    "    # Define the first linear layer \n",
    "    def linear(self, inputs):\n",
    "        Z = inputs @ self.weights[1:].T + + self.weights[0]\n",
    "        return Z\n",
    "    \n",
    "    # Define the Heaviside Step function.\n",
    "    def Heaviside_step_fn(self, z):\n",
    "        if z >= 0:\n",
    "            return 1\n",
    "        else:\n",
    "            return 0\n",
    "        \n",
    "    # Define the Prediction\n",
    "    def predict(self, inputs):\n",
    "        Z = self.linear(inputs)\n",
    "        try:\n",
    "            pred = []\n",
    "            for z in Z:\n",
    "                pred.append(self.Heaviside_step_fn(z))\n",
    "        except:\n",
    "            return self.Heaviside_step_fn(Z)\n",
    "        return pred\n",
    "    \n",
    "    # Define the Hinge Loss function\n",
    "    def hinge_loss(self, prediction, target):\n",
    "        loss = np.maximum(0, 1 - prediction * target)\n",
    "        return loss\n",
    "    \n",
    "    #Define training\n",
    "    def train(self, inputs, target):\n",
    "        prediction = self.predict(inputs)\n",
    "        loss = self.hinge_loss(prediction, target)\n",
    "        error = target * (loss > 0)\n",
    "        self.weights[1:] += self.learning_rate * error * inputs\n",
    "        self.weights[0]  += self.learning_rate * error\n",
    "        \n",
    "    # Fit the model\n",
    "    def fit(self, X, y, num_epochs):\n",
    "        for epoch in range(num_epochs):\n",
    "            for inputs, target in zip(X, y):\n",
    "                self.train(inputs, target)\n",
    "\n",
    "\n",
    "# Load the Breast Cancer dataset\n",
    "cancer = load_breast_cancer()\n",
    "\n",
    "\n",
    "# Split the dataset into training and testing sets\n",
    "X_train, X_test, y_train, y_test = train_test_split(cancer.data, cancer.target, test_size=0.2, random_state=23)\n",
    "\n",
    "\n",
    "# Scale the input features to have zero mean and unit variance\n",
    "scaler = StandardScaler()\n",
    "X_train = scaler.fit_transform(X_train)\n",
    "X_test = scaler.transform(X_test)\n",
    "\n",
    "# Initialize the Perceptron with the appropriate number of inputs\n",
    "perceptron = Perceptron(num_inputs=X_train.shape[1])\n",
    "\n",
    "# Train the Perceptron on the training data\n",
    "perceptron.fit(X_train, y_train, num_epochs=100)\n",
    "\n",
    "# Prediction\n",
    "pred = perceptron.predict(X_test)\n",
    "\n",
    "# Test the accuracy of the trained Perceptron on the testing data\n",
    "accuracy = np.mean(pred == y_test)\n",
    "print(\"Accuracy:\", accuracy)"
   ]
  },
  {
   "cell_type": "markdown",
   "id": "e5224c9f",
   "metadata": {
    "papermill": {
     "duration": 0.002106,
     "end_time": "2023-04-25T15:30:47.039176",
     "exception": false,
     "start_time": "2023-04-25T15:30:47.037070",
     "status": "completed"
    },
    "tags": []
   },
   "source": [
    "# Perceptron with PyTorch"
   ]
  },
  {
   "cell_type": "code",
   "execution_count": 2,
   "id": "f945fd24",
   "metadata": {
    "execution": {
     "iopub.execute_input": "2023-04-25T15:30:47.047726Z",
     "iopub.status.busy": "2023-04-25T15:30:47.046605Z",
     "iopub.status.idle": "2023-04-25T15:30:50.455355Z",
     "shell.execute_reply": "2023-04-25T15:30:50.453756Z"
    },
    "papermill": {
     "duration": 3.416542,
     "end_time": "2023-04-25T15:30:50.458040",
     "exception": false,
     "start_time": "2023-04-25T15:30:47.041498",
     "status": "completed"
    },
    "tags": []
   },
   "outputs": [
    {
     "name": "stdout",
     "output_type": "stream",
     "text": [
      "Accuracy: 0.9649122953414917\n"
     ]
    }
   ],
   "source": [
    "# Import the necessary libraries\n",
    "import torch\n",
    "import torch.nn as nn\n",
    "from sklearn.datasets import load_breast_cancer\n",
    "from sklearn.model_selection import train_test_split\n",
    "from sklearn.preprocessing import StandardScaler\n",
    "\n",
    "# Load the Breast Cancer dataset\n",
    "cancer = load_breast_cancer()\n",
    "\n",
    "# Split the dataset into training and testing sets\n",
    "X_train, X_test, y_train, y_test = train_test_split(cancer.data, cancer.target, test_size=0.2, random_state=42)\n",
    "\n",
    "# Scale the input features to have zero mean and unit variance\n",
    "scaler = StandardScaler()\n",
    "X_train = scaler.fit_transform(X_train)\n",
    "X_test = scaler.transform(X_test)\n",
    "\n",
    "# Convert the data to PyTorch tensors\n",
    "X_train = torch.tensor(X_train, dtype=torch.float32)\n",
    "X_test = torch.tensor(X_test, dtype=torch.float32)\n",
    "y_train = torch.tensor(y_train, dtype=torch.float32)\n",
    "y_test = torch.tensor(y_test, dtype=torch.float32)\n",
    "\n",
    "# reshape the target tensor to match the predicted output tensor\n",
    "y_train = y_train.reshape(-1, 1)\n",
    "y_test = y_test.reshape(-1, 1)\n",
    "\n",
    "\n",
    "# Define the Perceptron model\n",
    "class Perceptron(nn.Module):\n",
    "    def __init__(self, num_inputs):\n",
    "        super(Perceptron, self).__init__()\n",
    "        self.linear = nn.Linear(num_inputs, 1)\n",
    "    \n",
    "    def forward(self, x):\n",
    "        return torch.sigmoid(self.linear(x))\n",
    "\n",
    "# Initialize the Perceptron with the appropriate number of inputs\n",
    "perceptron = Perceptron(num_inputs=X_train.shape[1])\n",
    "\n",
    "\n",
    "# Binary Cross Entropy / Log likelyhood\n",
    "def Binary_Cross_Entropy(y_pred,Y):\n",
    "    cost = torch.mean((-Y * torch.log(y_pred)) - ((1-Y) * torch.log(1-y_pred)))\n",
    "    return cost\n",
    "\n",
    "# Define optimizer\n",
    "optimizer = torch.optim.SGD(perceptron.parameters(), lr=0.01)\n",
    "\n",
    "# Train the Perceptron on the training data\n",
    "num_epochs = 500\n",
    "for epoch in range(num_epochs):\n",
    "    # Forward pass\n",
    "    y_pred = perceptron(X_train)\n",
    "    loss = Binary_Cross_Entropy(y_pred, y_train)\n",
    "\n",
    "    # Backward pass\n",
    "    optimizer.zero_grad()\n",
    "    loss.backward()\n",
    "    optimizer.step()\n",
    "\n",
    "# Test the accuracy of the trained Perceptron on the testing data\n",
    "with torch.no_grad():\n",
    "    y_pred = perceptron(X_test)\n",
    "    pred = torch.round(y_pred)\n",
    "    accuracy = (pred == y_test).float().mean()\n",
    "    print(\"Accuracy:\", accuracy.item())"
   ]
  }
 ],
 "metadata": {
  "kernelspec": {
   "display_name": "Python 3",
   "language": "python",
   "name": "python3"
  },
  "language_info": {
   "codemirror_mode": {
    "name": "ipython",
    "version": 3
   },
   "file_extension": ".py",
   "mimetype": "text/x-python",
   "name": "python",
   "nbconvert_exporter": "python",
   "pygments_lexer": "ipython3",
   "version": "3.7.12"
  },
  "papermill": {
   "default_parameters": {},
   "duration": 20.522094,
   "end_time": "2023-04-25T15:30:52.090294",
   "environment_variables": {},
   "exception": null,
   "input_path": "__notebook__.ipynb",
   "output_path": "__notebook__.ipynb",
   "parameters": {},
   "start_time": "2023-04-25T15:30:31.568200",
   "version": "2.4.0"
  }
 },
 "nbformat": 4,
 "nbformat_minor": 5
}
