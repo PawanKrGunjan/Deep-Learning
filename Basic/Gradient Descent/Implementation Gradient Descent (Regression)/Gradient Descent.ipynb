{
 "cells": [
  {
   "cell_type": "code",
   "execution_count": 74,
   "id": "13a6f3a2",
   "metadata": {},
   "outputs": [],
   "source": [
    "import pandas as pd\n",
    "import numpy as np\n",
    "import matplotlib.pyplot as plt\n",
    "%matplotlib inline\n",
    "\n",
    "import warnings\n",
    "warnings.filterwarnings(\"ignore\")"
   ]
  },
  {
   "cell_type": "code",
   "execution_count": 75,
   "id": "9bc895bc",
   "metadata": {},
   "outputs": [
    {
     "data": {
      "text/html": [
       "<div>\n",
       "<style scoped>\n",
       "    .dataframe tbody tr th:only-of-type {\n",
       "        vertical-align: middle;\n",
       "    }\n",
       "\n",
       "    .dataframe tbody tr th {\n",
       "        vertical-align: top;\n",
       "    }\n",
       "\n",
       "    .dataframe thead th {\n",
       "        text-align: right;\n",
       "    }\n",
       "</style>\n",
       "<table border=\"1\" class=\"dataframe\">\n",
       "  <thead>\n",
       "    <tr style=\"text-align: right;\">\n",
       "      <th></th>\n",
       "      <th>area</th>\n",
       "      <th>bedrooms</th>\n",
       "      <th>price</th>\n",
       "    </tr>\n",
       "  </thead>\n",
       "  <tbody>\n",
       "    <tr>\n",
       "      <th>10</th>\n",
       "      <td>1800</td>\n",
       "      <td>3</td>\n",
       "      <td>82.0</td>\n",
       "    </tr>\n",
       "    <tr>\n",
       "      <th>14</th>\n",
       "      <td>2250</td>\n",
       "      <td>3</td>\n",
       "      <td>101.0</td>\n",
       "    </tr>\n",
       "    <tr>\n",
       "      <th>18</th>\n",
       "      <td>2770</td>\n",
       "      <td>3</td>\n",
       "      <td>102.0</td>\n",
       "    </tr>\n",
       "    <tr>\n",
       "      <th>9</th>\n",
       "      <td>3700</td>\n",
       "      <td>5</td>\n",
       "      <td>167.0</td>\n",
       "    </tr>\n",
       "    <tr>\n",
       "      <th>17</th>\n",
       "      <td>1540</td>\n",
       "      <td>3</td>\n",
       "      <td>60.0</td>\n",
       "    </tr>\n",
       "  </tbody>\n",
       "</table>\n",
       "</div>"
      ],
      "text/plain": [
       "    area  bedrooms  price\n",
       "10  1800         3   82.0\n",
       "14  2250         3  101.0\n",
       "18  2770         3  102.0\n",
       "9   3700         5  167.0\n",
       "17  1540         3   60.0"
      ]
     },
     "execution_count": 75,
     "metadata": {},
     "output_type": "execute_result"
    }
   ],
   "source": [
    "df = pd.read_csv('homeprices_banglore.csv')\n",
    "df.sample(5)"
   ]
  },
  {
   "cell_type": "code",
   "execution_count": 76,
   "id": "a50427f4",
   "metadata": {},
   "outputs": [
    {
     "name": "stdout",
     "output_type": "stream",
     "text": [
      "<class 'pandas.core.frame.DataFrame'>\n",
      "RangeIndex: 20 entries, 0 to 19\n",
      "Data columns (total 3 columns):\n",
      " #   Column    Non-Null Count  Dtype  \n",
      "---  ------    --------------  -----  \n",
      " 0   area      20 non-null     int64  \n",
      " 1   bedrooms  20 non-null     int64  \n",
      " 2   price     20 non-null     float64\n",
      "dtypes: float64(1), int64(2)\n",
      "memory usage: 608.0 bytes\n"
     ]
    }
   ],
   "source": [
    "df.info()"
   ]
  },
  {
   "cell_type": "code",
   "execution_count": 77,
   "id": "3a43b05c",
   "metadata": {},
   "outputs": [],
   "source": [
    "x = df.drop('price', axis = 'columns')\n",
    "y = df[['price']]"
   ]
  },
  {
   "cell_type": "code",
   "execution_count": 78,
   "id": "bbe74229",
   "metadata": {},
   "outputs": [],
   "source": [
    "from sklearn.preprocessing import MinMaxScaler\n",
    "\n",
    "scaleX = MinMaxScaler()\n",
    "scaleY = MinMaxScaler()\n",
    "\n",
    "scaled_x = scaleX.fit_transform(x)\n",
    "scaled_y = scaleY.fit_transform(y)"
   ]
  },
  {
   "cell_type": "code",
   "execution_count": 79,
   "id": "8c94a2fe",
   "metadata": {},
   "outputs": [
    {
     "data": {
      "text/plain": [
       "((20, 2), (20, 1))"
      ]
     },
     "execution_count": 79,
     "metadata": {},
     "output_type": "execute_result"
    }
   ],
   "source": [
    "scaled_x.shape, scaled_y.shape"
   ]
  },
  {
   "cell_type": "markdown",
   "id": "bc54e9fe",
   "metadata": {},
   "source": [
    "#### We will use very simple home prices data set to implement mini batch gradient descent in python. \n",
    "\n",
    "1. Batch gradient descent uses *all* training samples in forward pass to calculate cumulitive error and than we adjust weights using derivaties\n",
    "\n",
    "2. Stochastic GD: we randomly pick *one* training sample, perform forward pass, compute the error and immidiately adjust weights\n",
    "\n",
    "3. Mini batch GD: we use a batch of m samples where 0 < m < n (where n is total number of training samples)"
   ]
  },
  {
   "cell_type": "code",
   "execution_count": 80,
   "id": "8355fd26",
   "metadata": {},
   "outputs": [],
   "source": [
    "def batch_gradient_descent(x,y, epoch, learning_rate):\n",
    "    n_features = x.shape[1]\n",
    "    n_sample   = x.shape[0]\n",
    "    weight     = np.ones(shape = (n_features))\n",
    "    bias       = 0\n",
    "    \n",
    "    Cost  = []\n",
    "    Epoch = []\n",
    "    \n",
    "    for i in range(epoch):\n",
    "        y_pred = np.dot(weight, x.T) + bias\n",
    "        \n",
    "        w_Grad = -(2/n_sample) * (x.T.dot(y-y_pred))\n",
    "        b_Grad = -(2/n_sample) * np.sum(y-y_pred)\n",
    "\n",
    "        weight = weight - learning_rate * w_Grad\n",
    "        bias   = bias   - learning_rate * b_Grad\n",
    "        \n",
    "        \n",
    "        cost = np.mean(np.square(y - y_pred))\n",
    "        Cost.append(cost)\n",
    "        Epoch.append(i)\n",
    "        \n",
    "        if min(Cost) < cost:\n",
    "            break\n",
    "        \n",
    "    return weight, bias,  Cost, Epoch"
   ]
  },
  {
   "cell_type": "code",
   "execution_count": 81,
   "id": "64f4218d",
   "metadata": {},
   "outputs": [
    {
     "data": {
      "text/plain": [
       "(20,)"
      ]
     },
     "execution_count": 81,
     "metadata": {},
     "output_type": "execute_result"
    }
   ],
   "source": [
    "scaled_y.reshape(scaled_y.shape[0],).shape"
   ]
  },
  {
   "cell_type": "code",
   "execution_count": 82,
   "id": "83789a89",
   "metadata": {
    "scrolled": false
   },
   "outputs": [
    {
     "data": {
      "text/plain": [
       "(array([0.70712464, 0.67456527]), -0.23034857438407427)"
      ]
     },
     "execution_count": 82,
     "metadata": {},
     "output_type": "execute_result"
    }
   ],
   "source": [
    "w, b, costs, Epochs = batch_gradient_descent(scaled_x, scaled_y.reshape(scaled_y.shape[0],), 500, 0.01)\n",
    "w,b"
   ]
  },
  {
   "cell_type": "code",
   "execution_count": 83,
   "id": "1aca6130",
   "metadata": {},
   "outputs": [
    {
     "data": {
      "image/png": "[encoded data removed]",
      "text/plain": [
       "<Figure size 600x400 with 1 Axes>"
      ]
     },
     "metadata": {
      "needs_background": "light"
     },
     "output_type": "display_data"
    }
   ],
   "source": [
    "plt.figure(dpi = 100)\n",
    "plt.plot(Epochs, costs)\n",
    "plt.xlabel('epoch')\n",
    "plt.ylabel('cost')\n",
    "plt.show()"
   ]
  },
  {
   "cell_type": "markdown",
   "id": "dd2874fe",
   "metadata": {},
   "source": [
    "### Prediction"
   ]
  },
  {
   "cell_type": "code",
   "execution_count": 84,
   "id": "cfe1a62f",
   "metadata": {},
   "outputs": [],
   "source": [
    "def predict(area, bedroom, w,b):\n",
    "    x_scale = scaleX.transform([[area, bedroom]])[0]\n",
    "    \n",
    "    scaled_price = w[0]*x_scale[0] + w[1] * x_scale[1] + b\n",
    "    \n",
    "    return scaleY.inverse_transform([[scaled_price]])[0][0]"
   ]
  },
  {
   "cell_type": "code",
   "execution_count": 85,
   "id": "08e2ebbc",
   "metadata": {},
   "outputs": [
    {
     "data": {
      "text/plain": [
       "128.45484403267596"
      ]
     },
     "execution_count": 85,
     "metadata": {},
     "output_type": "execute_result"
    }
   ],
   "source": [
    "predict(2600, 4, w,b)"
   ]
  },
  {
   "cell_type": "code",
   "execution_count": 86,
   "id": "04523b85",
   "metadata": {},
   "outputs": [
    {
     "data": {
      "text/plain": [
       "33.906978176894874"
      ]
     },
     "execution_count": 86,
     "metadata": {},
     "output_type": "execute_result"
    }
   ],
   "source": [
    "predict(1111, 2, w,b)"
   ]
  },
  {
   "cell_type": "code",
   "execution_count": 87,
   "id": "2059e63d",
   "metadata": {},
   "outputs": [],
   "source": [
    "def stochastic_gradient_descent(x, y, epoch, learning_rate):\n",
    "    n_features = x.shape[1]\n",
    "    n_sample   = x.shape[0]\n",
    "    weight     = np.ones(shape = (n_features))\n",
    "    bias       = 0\n",
    "    \n",
    "    Cost  = []\n",
    "    Epoch = []\n",
    "    \n",
    "    for i in range(epoch):\n",
    "        random_index = np.random.randint(0,n_sample-1)\n",
    "        sample_x     = x[random_index]\n",
    "        sample_y     = y[random_index]\n",
    "        y_pred       = np.dot(weight, sample_x.T) + bias\n",
    "        \n",
    "        w_Grad = -(2/n_sample) * (sample_x.T.dot(sample_y-y_pred))\n",
    "        b_Grad = -(2/n_sample) * np.sum(sample_y - y_pred)\n",
    "\n",
    "        weight = weight - learning_rate * w_Grad\n",
    "        bias   = bias   - learning_rate * b_Grad\n",
    "        \n",
    "        \n",
    "        cost = np.square(sample_y - y_pred)\n",
    "        if i%1000 ==0:\n",
    "            Cost.append(cost)\n",
    "            Epoch.append(i)\n",
    "\n",
    "        #if min(Cost) < cost:\n",
    "            #break      \n",
    "        \n",
    "    return weight, bias, cost, Cost, Epoch"
   ]
  },
  {
   "cell_type": "code",
   "execution_count": 88,
   "id": "0f8049a9",
   "metadata": {},
   "outputs": [
    {
     "data": {
      "text/plain": [
       "(array([0.72170383, 0.70594756]), -0.2611675457645351, 0.00019233679172002597)"
      ]
     },
     "execution_count": 88,
     "metadata": {},
     "output_type": "execute_result"
    }
   ],
   "source": [
    "w_sgd, b_sgd, c_sgd, costs_sgd, Epochs_sgd = stochastic_gradient_descent(scaled_x, \n",
    "                                                scaled_y.reshape(scaled_y.shape[0],),\n",
    "                                                100000, \n",
    "                                                0.001)\n",
    "w_sgd, b_sgd, c_sgd"
   ]
  },
  {
   "cell_type": "code",
   "execution_count": 89,
   "id": "6f7fcd86",
   "metadata": {},
   "outputs": [
    {
     "data": {
      "image/png": "[encoded data removed]",
      "text/plain": [
       "<Figure size 600x400 with 1 Axes>"
      ]
     },
     "metadata": {
      "needs_background": "light"
     },
     "output_type": "display_data"
    }
   ],
   "source": [
    "plt.figure(dpi = 100)\n",
    "plt.plot(Epochs_sgd, costs_sgd)\n",
    "plt.xlabel('epoch')\n",
    "plt.ylabel('cost')\n",
    "plt.show()"
   ]
  },
  {
   "cell_type": "code",
   "execution_count": 90,
   "id": "3de96a3a",
   "metadata": {},
   "outputs": [
    {
     "data": {
      "text/plain": [
       "128.69337525528866"
      ]
     },
     "execution_count": 90,
     "metadata": {},
     "output_type": "execute_result"
    }
   ],
   "source": [
    "predict(2600, 4, w_sgd,b_sgd)"
   ]
  },
  {
   "cell_type": "code",
   "execution_count": 91,
   "id": "f3a47084",
   "metadata": {},
   "outputs": [
    {
     "data": {
      "text/plain": [
       "27.287422987532143"
      ]
     },
     "execution_count": 91,
     "metadata": {},
     "output_type": "execute_result"
    }
   ],
   "source": [
    "predict(1000, 2, w_sgd,b_sgd)"
   ]
  },
  {
   "cell_type": "code",
   "execution_count": 92,
   "id": "b111aba0",
   "metadata": {},
   "outputs": [],
   "source": [
    "def mini_batch_gradient_descent(x, y, epochs = 100, batch_size = 5, learning_rate = 0.01):\n",
    "    \n",
    "    n_features = x.shape[1]\n",
    "    n_samples = x.shape[0]   # number of rows in X\n",
    "\n",
    "    # numpy array with 1 row and columns equal to number of features. \n",
    "    # In our case number_of_features = 3 (area, bedroom and age)\n",
    "    w = np.ones(shape=(n_features)) \n",
    "    b = 0\n",
    "    \n",
    "    if batch_size > n_samples: # In this case mini batch becomes same as batch gradient descent\n",
    "        batch_size = n_samples\n",
    "        \n",
    "    Cost = []\n",
    "    Epoch = []\n",
    "    \n",
    "    num_batches = int(n_samples/batch_size)\n",
    "    \n",
    "    for i in range(epochs):    \n",
    "        random_indices = np.random.permutation(n_samples)\n",
    "        X_tmp = x[random_indices]\n",
    "        y_tmp = y[random_indices]\n",
    "        \n",
    "        for j in range(0,n_samples, batch_size):\n",
    "            Xj = X_tmp[j:j+batch_size]\n",
    "            yj = y_tmp[j:j+batch_size]\n",
    "            y_predicted = np.dot(w, Xj.T) + b\n",
    "            \n",
    "            w_grad = -(2/len(Xj))*(Xj.T.dot(yj-y_predicted))\n",
    "            b_grad = -(2/len(Xj))*np.sum(yj-y_predicted)\n",
    "            \n",
    "            w = w - learning_rate * w_grad\n",
    "            b = b - learning_rate * b_grad\n",
    "                \n",
    "            cost = np.mean(np.square(yj-y_predicted)) # MSE (Mean Squared Error)\n",
    "        \n",
    "        if i%10==0:\n",
    "            Cost.append(cost)\n",
    "            Epoch.append(i)\n",
    "        \n",
    "    return w, b, Cost, Epoch"
   ]
  },
  {
   "cell_type": "code",
   "execution_count": 93,
   "id": "811c75c6",
   "metadata": {},
   "outputs": [
    {
     "data": {
      "text/plain": [
       "(array([0.72462089, 0.69447651]), -0.24759095794515784)"
      ]
     },
     "execution_count": 93,
     "metadata": {},
     "output_type": "execute_result"
    }
   ],
   "source": [
    "w, b, cost_mgd, epoch_mgd = mini_batch_gradient_descent(scaled_x, scaled_y.reshape(scaled_y.shape[0],), \n",
    "                                                    epochs = 100, batch_size = 5)\n",
    "w, b"
   ]
  },
  {
   "cell_type": "code",
   "execution_count": 94,
   "id": "87cdd580",
   "metadata": {},
   "outputs": [
    {
     "data": {
      "image/png": "[encoded data removed]",
      "text/plain": [
       "<Figure size 738x492 with 1 Axes>"
      ]
     },
     "metadata": {
      "needs_background": "light"
     },
     "output_type": "display_data"
    }
   ],
   "source": [
    "plt.figure(dpi = 123)\n",
    "plt.xlabel(\"epoch\")\n",
    "plt.ylabel(\"cost\")\n",
    "plt.plot(epoch_mgd,cost_mgd)\n",
    "plt.show()"
   ]
  }
 ],
 "metadata": {
  "kernelspec": {
   "display_name": "Python 3 (ipykernel)",
   "language": "python",
   "name": "python3"
  },
  "language_info": {
   "codemirror_mode": {
    "name": "ipython",
    "version": 3
   },
   "file_extension": ".py",
   "mimetype": "text/x-python",
   "name": "python",
   "nbconvert_exporter": "python",
   "pygments_lexer": "ipython3",
   "version": "3.10.5"
  },
  "vscode": {
   "interpreter": {
    "hash": "3f17891b24d75332ca782a095e5c5c827f706259394ce8028ef9c4dacdd9c0ec"
   }
  }
 },
 "nbformat": 4,
 "nbformat_minor": 5
}
