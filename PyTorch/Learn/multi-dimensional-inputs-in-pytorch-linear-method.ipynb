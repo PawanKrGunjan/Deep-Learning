{
 "cells": [
  {
   "cell_type": "code",
   "execution_count": 1,
   "id": "f46c96a2",
   "metadata": {
    "execution": {
     "iopub.execute_input": "2023-01-17T11:17:33.152957Z",
     "iopub.status.busy": "2023-01-17T11:17:33.152108Z",
     "iopub.status.idle": "2023-01-17T11:17:34.901491Z",
     "shell.execute_reply": "2023-01-17T11:17:34.899565Z"
    },
    "papermill": {
     "duration": 1.76154,
     "end_time": "2023-01-17T11:17:34.904883",
     "exception": false,
     "start_time": "2023-01-17T11:17:33.143343",
     "status": "completed"
    },
    "tags": []
   },
   "outputs": [
    {
     "name": "stdout",
     "output_type": "stream",
     "text": [
      "input_data: torch.Size([2, 2])\n",
      "output:\n",
      " tensor([[ 5.2034e-04],\n",
      "        [-8.4894e-01]], grad_fn=<AddmmBackward0>)\n",
      "output Shape: torch.Size([2, 1])\n"
     ]
    }
   ],
   "source": [
    "# Import the library\n",
    "import torch\n",
    "import torch.nn as nn\n",
    "\n",
    "# Define the input data as a 2-D tensor\n",
    "x = torch.tensor([[0.,1.],[2.,3.]])\n",
    "#Shape\n",
    "print('input_data:', x.shape)\n",
    "\n",
    "# Create an instance of the nn.Linear class\n",
    "output_size = 1\n",
    "linear_layer = nn.Linear(in_features=2,\n",
    "                         out_features=output_size,\n",
    "                         bias = True,\n",
    "                         dtype= torch.float)\n",
    "\n",
    "# Apply the linear transformation to the input data\n",
    "y = linear_layer(x)\n",
    "\n",
    "#print the outputs\n",
    "print('output:\\n',y)\n",
    "\n",
    "#print the outputs shape\n",
    "print('output Shape:', y.shape)"
   ]
  },
  {
   "cell_type": "code",
   "execution_count": 2,
   "id": "a1189f52",
   "metadata": {
    "execution": {
     "iopub.execute_input": "2023-01-17T11:17:34.919088Z",
     "iopub.status.busy": "2023-01-17T11:17:34.918512Z",
     "iopub.status.idle": "2023-01-17T11:17:34.929141Z",
     "shell.execute_reply": "2023-01-17T11:17:34.927856Z"
    },
    "papermill": {
     "duration": 0.020361,
     "end_time": "2023-01-17T11:17:34.931443",
     "exception": false,
     "start_time": "2023-01-17T11:17:34.911082",
     "status": "completed"
    },
    "tags": []
   },
   "outputs": [
    {
     "data": {
      "text/plain": [
       "Parameter containing:\n",
       "tensor([[-0.3632, -0.0615]], requires_grad=True)"
      ]
     },
     "execution_count": 2,
     "metadata": {},
     "output_type": "execute_result"
    }
   ],
   "source": [
    "linear_layer.weight"
   ]
  },
  {
   "cell_type": "code",
   "execution_count": 3,
   "id": "5949c845",
   "metadata": {
    "execution": {
     "iopub.execute_input": "2023-01-17T11:17:34.945671Z",
     "iopub.status.busy": "2023-01-17T11:17:34.945286Z",
     "iopub.status.idle": "2023-01-17T11:17:34.951154Z",
     "shell.execute_reply": "2023-01-17T11:17:34.950317Z"
    },
    "papermill": {
     "duration": 0.015698,
     "end_time": "2023-01-17T11:17:34.953292",
     "exception": false,
     "start_time": "2023-01-17T11:17:34.937594",
     "status": "completed"
    },
    "tags": []
   },
   "outputs": [
    {
     "data": {
      "text/plain": [
       "0.531"
      ]
     },
     "execution_count": 3,
     "metadata": {},
     "output_type": "execute_result"
    }
   ],
   "source": [
    "0*0.2342 +1*0.2202 +0.3108"
   ]
  },
  {
   "cell_type": "code",
   "execution_count": 4,
   "id": "10693f8b",
   "metadata": {
    "execution": {
     "iopub.execute_input": "2023-01-17T11:17:34.967940Z",
     "iopub.status.busy": "2023-01-17T11:17:34.967252Z",
     "iopub.status.idle": "2023-01-17T11:17:34.972995Z",
     "shell.execute_reply": "2023-01-17T11:17:34.972085Z"
    },
    "papermill": {
     "duration": 0.015625,
     "end_time": "2023-01-17T11:17:34.975168",
     "exception": false,
     "start_time": "2023-01-17T11:17:34.959543",
     "status": "completed"
    },
    "tags": []
   },
   "outputs": [
    {
     "data": {
      "text/plain": [
       "1.4398"
      ]
     },
     "execution_count": 4,
     "metadata": {},
     "output_type": "execute_result"
    }
   ],
   "source": [
    "2*0.2342 +3*0.2202 +0.3108"
   ]
  },
  {
   "cell_type": "code",
   "execution_count": 5,
   "id": "1e301bf4",
   "metadata": {
    "execution": {
     "iopub.execute_input": "2023-01-17T11:17:34.990069Z",
     "iopub.status.busy": "2023-01-17T11:17:34.989431Z",
     "iopub.status.idle": "2023-01-17T11:17:34.997305Z",
     "shell.execute_reply": "2023-01-17T11:17:34.995449Z"
    },
    "papermill": {
     "duration": 0.018483,
     "end_time": "2023-01-17T11:17:35.000022",
     "exception": false,
     "start_time": "2023-01-17T11:17:34.981539",
     "status": "completed"
    },
    "tags": []
   },
   "outputs": [
    {
     "data": {
      "text/plain": [
       "Parameter containing:\n",
       "tensor([0.0621], requires_grad=True)"
      ]
     },
     "execution_count": 5,
     "metadata": {},
     "output_type": "execute_result"
    }
   ],
   "source": [
    "linear_layer.bias"
   ]
  },
  {
   "cell_type": "code",
   "execution_count": 6,
   "id": "91f7fa91",
   "metadata": {
    "execution": {
     "iopub.execute_input": "2023-01-17T11:17:35.016324Z",
     "iopub.status.busy": "2023-01-17T11:17:35.015840Z",
     "iopub.status.idle": "2023-01-17T11:17:35.027212Z",
     "shell.execute_reply": "2023-01-17T11:17:35.025490Z"
    },
    "papermill": {
     "duration": 0.023487,
     "end_time": "2023-01-17T11:17:35.030350",
     "exception": false,
     "start_time": "2023-01-17T11:17:35.006863",
     "status": "completed"
    },
    "tags": []
   },
   "outputs": [
    {
     "name": "stdout",
     "output_type": "stream",
     "text": [
      "tensor([[ 5.2034e-04],\n",
      "        [-8.4894e-01]], grad_fn=<AddBackward0>)\n"
     ]
    }
   ],
   "source": [
    "# Linear layer weight\n",
    "A = linear_layer.weight\n",
    "#Bias\n",
    "b = linear_layer.bias\n",
    "\n",
    "#Output\n",
    "y = x @ A.transpose(0,1) + b\n",
    "\n",
    "#print the outputs\n",
    "print(y)"
   ]
  },
  {
   "cell_type": "code",
   "execution_count": 7,
   "id": "e649fe40",
   "metadata": {
    "execution": {
     "iopub.execute_input": "2023-01-17T11:17:35.046214Z",
     "iopub.status.busy": "2023-01-17T11:17:35.045530Z",
     "iopub.status.idle": "2023-01-17T11:17:35.060035Z",
     "shell.execute_reply": "2023-01-17T11:17:35.058724Z"
    },
    "papermill": {
     "duration": 0.026979,
     "end_time": "2023-01-17T11:17:35.064187",
     "exception": false,
     "start_time": "2023-01-17T11:17:35.037208",
     "status": "completed"
    },
    "tags": []
   },
   "outputs": [
    {
     "name": "stdout",
     "output_type": "stream",
     "text": [
      "input_data: torch.Size([1, 3, 3])\n",
      "\n",
      "output:\n",
      " tensor([[[ 0.6459,  1.6087,  0.8136,  0.6045, -0.5220],\n",
      "         [ 3.8673,  3.2328,  1.0198,  2.3628, -3.5239],\n",
      "         [ 7.0886,  4.8568,  1.2260,  4.1212, -6.5257]]],\n",
      "       grad_fn=<AddBackward0>)\n",
      "\n",
      "output Shape: torch.Size([1, 3, 5])\n"
     ]
    }
   ],
   "source": [
    "# Import the library\n",
    "import torch\n",
    "import torch.nn as nn\n",
    "\n",
    "# Define the input data as a 3-D tensor\n",
    "x = torch.tensor([[[0.,1.,2.],\n",
    "                   [3.,4.,5.],\n",
    "                   [6.,7.,8.]]])\n",
    "\n",
    "print('input_data:', x.shape)\n",
    "\n",
    "# Create an instance of the nn.Linear class\n",
    "output_size = 5\n",
    "linear_layer = nn.Linear(in_features=x.size()[-1],\n",
    "                         out_features=output_size,\n",
    "                         bias = True,\n",
    "                         dtype= torch.float)\n",
    "\n",
    "# Apply the linear transformation to the input data\n",
    "y = linear_layer(x)\n",
    "#print the outputs\n",
    "print('\\noutput:\\n',y)\n",
    "\n",
    "#print the outputs shape\n",
    "print('\\noutput Shape:', y.shape)"
   ]
  },
  {
   "cell_type": "code",
   "execution_count": 8,
   "id": "53edaa7a",
   "metadata": {
    "execution": {
     "iopub.execute_input": "2023-01-17T11:17:35.081968Z",
     "iopub.status.busy": "2023-01-17T11:17:35.081528Z",
     "iopub.status.idle": "2023-01-17T11:17:35.090479Z",
     "shell.execute_reply": "2023-01-17T11:17:35.088845Z"
    },
    "papermill": {
     "duration": 0.021895,
     "end_time": "2023-01-17T11:17:35.093306",
     "exception": false,
     "start_time": "2023-01-17T11:17:35.071411",
     "status": "completed"
    },
    "tags": []
   },
   "outputs": [
    {
     "name": "stdout",
     "output_type": "stream",
     "text": [
      "tensor([[[ 0.6459,  1.6087,  0.8136,  0.6045, -0.5220],\n",
      "         [ 3.8673,  3.2328,  1.0198,  2.3628, -3.5239],\n",
      "         [ 7.0886,  4.8568,  1.2260,  4.1212, -6.5257]]],\n",
      "       grad_fn=<AddBackward0>)\n"
     ]
    }
   ],
   "source": [
    "# Linear layer weight\n",
    "A = linear_layer.weight\n",
    "#Bias\n",
    "b = linear_layer.bias\n",
    "\n",
    "#Output y= xA^T + b\n",
    "##Matrix product of two tensors\n",
    "y = x.matmul(A.transpose(0,1)) + b\n",
    "\n",
    "#print the outputs\n",
    "print(y)"
   ]
  },
  {
   "cell_type": "code",
   "execution_count": 9,
   "id": "5a3f1ee0",
   "metadata": {
    "execution": {
     "iopub.execute_input": "2023-01-17T11:17:35.109937Z",
     "iopub.status.busy": "2023-01-17T11:17:35.109174Z",
     "iopub.status.idle": "2023-01-17T11:17:35.121276Z",
     "shell.execute_reply": "2023-01-17T11:17:35.120128Z"
    },
    "papermill": {
     "duration": 0.02431,
     "end_time": "2023-01-17T11:17:35.124709",
     "exception": false,
     "start_time": "2023-01-17T11:17:35.100399",
     "status": "completed"
    },
    "tags": []
   },
   "outputs": [
    {
     "name": "stdout",
     "output_type": "stream",
     "text": [
      "input Shape : torch.Size([2, 3, 4])\n",
      "Input\n",
      " tensor([[[ 0.3476,  0.7919,  1.5323, -0.8997],\n",
      "         [-1.8786,  1.0118, -0.7519,  1.1459],\n",
      "         [ 0.6059,  0.6277,  1.8698, -0.1176]],\n",
      "\n",
      "        [[-0.4494,  0.5984, -1.2178, -0.8907],\n",
      "         [ 0.2122,  1.2884, -2.1112, -1.3553],\n",
      "         [ 2.1322, -1.2430,  0.1479, -1.1327]]])\n",
      "\n",
      "output shape: torch.Size([2, 3, 2])\n",
      "output:\n",
      " tensor([[[ 0.4646,  0.5813],\n",
      "         [-0.1456, -1.8252],\n",
      "         [ 0.4371,  0.5621]],\n",
      "\n",
      "        [[ 0.3207, -0.6912],\n",
      "         [ 0.6694, -0.8769],\n",
      "         [ 0.6614,  1.3136]]], grad_fn=<AddBackward0>)\n"
     ]
    }
   ],
   "source": [
    "# Import the library\n",
    "import torch\n",
    "import torch.nn as nn\n",
    "\n",
    "# Define the input data as a 3-D tensor\n",
    "batch_size = 2\n",
    "num_channels = 3\n",
    "input_size = 4\n",
    "\n",
    "input_data = torch.randn(size =(batch_size, num_channels, input_size))\n",
    "print('input Shape :', input_data.shape)\n",
    "print('Input\\n',input_data)\n",
    "\n",
    "# Create an instance of the nn.Linear class\n",
    "output_size = 2\n",
    "linear_layer = nn.Linear(in_features=input_data.size()[-1],\n",
    "                         out_features=output_size,\n",
    "                         bias = True)\n",
    "\n",
    "# Apply the linear transformation to the input data\n",
    "output = linear_layer(input_data)\n",
    "print('\\noutput shape:', output.shape)\n",
    "print('output:\\n',output)"
   ]
  },
  {
   "cell_type": "code",
   "execution_count": 10,
   "id": "9aeecc84",
   "metadata": {
    "execution": {
     "iopub.execute_input": "2023-01-17T11:17:35.140654Z",
     "iopub.status.busy": "2023-01-17T11:17:35.140210Z",
     "iopub.status.idle": "2023-01-17T11:17:35.149208Z",
     "shell.execute_reply": "2023-01-17T11:17:35.147857Z"
    },
    "papermill": {
     "duration": 0.01981,
     "end_time": "2023-01-17T11:17:35.151662",
     "exception": false,
     "start_time": "2023-01-17T11:17:35.131852",
     "status": "completed"
    },
    "tags": []
   },
   "outputs": [
    {
     "name": "stdout",
     "output_type": "stream",
     "text": [
      "tensor([[[ 0.4646,  0.5813],\n",
      "         [-0.1456, -1.8252],\n",
      "         [ 0.4371,  0.5621]],\n",
      "\n",
      "        [[ 0.3207, -0.6912],\n",
      "         [ 0.6694, -0.8769],\n",
      "         [ 0.6614,  1.3136]]], grad_fn=<AddBackward0>)\n"
     ]
    }
   ],
   "source": [
    "# Linear layer weight\n",
    "A = linear_layer.weight\n",
    "#Bias\n",
    "b = linear_layer.bias\n",
    "\n",
    "#Output y= xA^T + b\n",
    "##Matrix product of two tensors\n",
    "y = input_data.matmul(A.transpose(0,1)) + b\n",
    "\n",
    "#print the outputs\n",
    "print(y)"
   ]
  },
  {
   "cell_type": "code",
   "execution_count": 11,
   "id": "5dd300fe",
   "metadata": {
    "execution": {
     "iopub.execute_input": "2023-01-17T11:17:35.168314Z",
     "iopub.status.busy": "2023-01-17T11:17:35.167896Z",
     "iopub.status.idle": "2023-01-17T11:17:35.176082Z",
     "shell.execute_reply": "2023-01-17T11:17:35.174521Z"
    },
    "papermill": {
     "duration": 0.020056,
     "end_time": "2023-01-17T11:17:35.179465",
     "exception": false,
     "start_time": "2023-01-17T11:17:35.159409",
     "status": "completed"
    },
    "tags": []
   },
   "outputs": [
    {
     "name": "stdout",
     "output_type": "stream",
     "text": [
      "tensor([[[ 0.4646,  0.5813],\n",
      "         [-0.1456, -1.8252],\n",
      "         [ 0.4371,  0.5621]],\n",
      "\n",
      "        [[ 0.3207, -0.6912],\n",
      "         [ 0.6694, -0.8769],\n",
      "         [ 0.6614,  1.3136]]], grad_fn=<AddBackward0>)\n"
     ]
    }
   ],
   "source": [
    "print(input_data.matmul(linear_layer.weight.transpose(0,1)) + linear_layer.bias)"
   ]
  },
  {
   "cell_type": "code",
   "execution_count": 12,
   "id": "29dd27d5",
   "metadata": {
    "execution": {
     "iopub.execute_input": "2023-01-17T11:17:35.196427Z",
     "iopub.status.busy": "2023-01-17T11:17:35.196007Z",
     "iopub.status.idle": "2023-01-17T11:17:35.203952Z",
     "shell.execute_reply": "2023-01-17T11:17:35.202786Z"
    },
    "papermill": {
     "duration": 0.019462,
     "end_time": "2023-01-17T11:17:35.206438",
     "exception": false,
     "start_time": "2023-01-17T11:17:35.186976",
     "status": "completed"
    },
    "tags": []
   },
   "outputs": [
    {
     "data": {
      "text/plain": [
       "Parameter containing:\n",
       "tensor([ 0.2338, -0.2107], requires_grad=True)"
      ]
     },
     "execution_count": 12,
     "metadata": {},
     "output_type": "execute_result"
    }
   ],
   "source": [
    "linear_layer.bias"
   ]
  },
  {
   "cell_type": "code",
   "execution_count": 13,
   "id": "eadf925a",
   "metadata": {
    "execution": {
     "iopub.execute_input": "2023-01-17T11:17:35.225395Z",
     "iopub.status.busy": "2023-01-17T11:17:35.224349Z",
     "iopub.status.idle": "2023-01-17T11:17:35.234399Z",
     "shell.execute_reply": "2023-01-17T11:17:35.233309Z"
    },
    "papermill": {
     "duration": 0.023681,
     "end_time": "2023-01-17T11:17:35.237654",
     "exception": false,
     "start_time": "2023-01-17T11:17:35.213973",
     "status": "completed"
    },
    "tags": []
   },
   "outputs": [
    {
     "data": {
      "text/plain": [
       "Parameter containing:\n",
       "tensor([[ 0.2599,  0.1630, -0.0347, -0.0717],\n",
       "        [ 0.3154, -0.3083,  0.3918, -0.3625]], requires_grad=True)"
      ]
     },
     "execution_count": 13,
     "metadata": {},
     "output_type": "execute_result"
    }
   ],
   "source": [
    "linear_layer.weight"
   ]
  },
  {
   "cell_type": "code",
   "execution_count": 14,
   "id": "321e5b81",
   "metadata": {
    "execution": {
     "iopub.execute_input": "2023-01-17T11:17:35.259070Z",
     "iopub.status.busy": "2023-01-17T11:17:35.258545Z",
     "iopub.status.idle": "2023-01-17T11:17:35.318676Z",
     "shell.execute_reply": "2023-01-17T11:17:35.316697Z"
    },
    "papermill": {
     "duration": 0.074823,
     "end_time": "2023-01-17T11:17:35.322506",
     "exception": false,
     "start_time": "2023-01-17T11:17:35.247683",
     "status": "completed"
    },
    "tags": []
   },
   "outputs": [
    {
     "name": "stdout",
     "output_type": "stream",
     "text": [
      "4896.93994140625\n",
      "4759.88037109375\n",
      "4627.23876953125\n",
      "4498.98193359375\n",
      "4375.05126953125\n",
      "4255.35107421875\n",
      "4139.74267578125\n",
      "4028.032470703125\n",
      "3919.973876953125\n",
      "3815.2607421875\n"
     ]
    },
    {
     "name": "stderr",
     "output_type": "stream",
     "text": [
      "/opt/conda/lib/python3.7/site-packages/torch/nn/modules/loss.py:529: UserWarning: Using a target size (torch.Size([3, 1])) that is different to the input size (torch.Size([1, 1])). This will likely lead to incorrect results due to broadcasting. Please ensure they have the same size.\n",
      "  return F.mse_loss(input, target, reduction=self.reduction)\n"
     ]
    }
   ],
   "source": [
    "import torch\n",
    "import torch.nn as nn\n",
    "import torch.nn.functional as F\n",
    "import torch.optim as optim\n",
    "\n",
    "class Net(nn.Module):\n",
    "    def __init__(self):\n",
    "        super().__init__()\n",
    "        self.a1 = nn.Linear(4,4)\n",
    "        self.a2 = nn.Linear(4,4)\n",
    "        self.a3 = nn.Linear(9,1)\n",
    "    def forward(self,x):\n",
    "        o1 = self.a1(x)\n",
    "        o2 = self.a2(x).transpose(1,2)\n",
    "        output = torch.bmm(o1,o2)\n",
    "        output = output.view(len(x),9)\n",
    "        output = self.a3(output)\n",
    "        return output\n",
    "\n",
    "x = torch.tensor([[[1.,2.,3.,4.],\n",
    "                  [5.,6.,7.,9.],\n",
    "                  [10.,11.,12.,13.]]])\n",
    "\n",
    "y = torch.tensor([[20.],\n",
    "                  [54.],\n",
    "                  [92.]\n",
    "                 ])\n",
    "\n",
    "net = Net()\n",
    "\n",
    "criterion = nn.MSELoss()\n",
    "optimizer = optim.Adam(net.parameters())\n",
    "\n",
    "for i in range(10):\n",
    "    net.zero_grad()\n",
    "    output = net(x)\n",
    "    loss = criterion(output,y)\n",
    "    loss.backward()\n",
    "    optimizer.step()\n",
    "    print(loss.item())"
   ]
  },
  {
   "cell_type": "code",
   "execution_count": 15,
   "id": "27939a74",
   "metadata": {
    "execution": {
     "iopub.execute_input": "2023-01-17T11:17:35.341508Z",
     "iopub.status.busy": "2023-01-17T11:17:35.340551Z",
     "iopub.status.idle": "2023-01-17T11:17:35.347628Z",
     "shell.execute_reply": "2023-01-17T11:17:35.346460Z"
    },
    "papermill": {
     "duration": 0.01809,
     "end_time": "2023-01-17T11:17:35.349728",
     "exception": false,
     "start_time": "2023-01-17T11:17:35.331638",
     "status": "completed"
    },
    "tags": []
   },
   "outputs": [
    {
     "data": {
      "text/plain": [
       "Parameter containing:\n",
       "tensor([[-0.4764,  0.0510,  0.2604, -0.4536],\n",
       "        [-0.4556,  0.3977, -0.1882, -0.2244],\n",
       "        [ 0.0373, -0.0495,  0.4324, -0.0685],\n",
       "        [-0.0864, -0.2992, -0.2550, -0.4637]], requires_grad=True)"
      ]
     },
     "execution_count": 15,
     "metadata": {},
     "output_type": "execute_result"
    }
   ],
   "source": [
    "net.a1.weight"
   ]
  },
  {
   "cell_type": "code",
   "execution_count": 16,
   "id": "63e4e612",
   "metadata": {
    "execution": {
     "iopub.execute_input": "2023-01-17T11:17:35.367340Z",
     "iopub.status.busy": "2023-01-17T11:17:35.366863Z",
     "iopub.status.idle": "2023-01-17T11:17:35.374655Z",
     "shell.execute_reply": "2023-01-17T11:17:35.373575Z"
    },
    "papermill": {
     "duration": 0.019299,
     "end_time": "2023-01-17T11:17:35.376871",
     "exception": false,
     "start_time": "2023-01-17T11:17:35.357572",
     "status": "completed"
    },
    "tags": []
   },
   "outputs": [
    {
     "data": {
      "text/plain": [
       "Parameter containing:\n",
       "tensor([[-0.2849,  0.1871, -0.3150, -0.1994],\n",
       "        [-0.1807, -0.2677, -0.1517, -0.3915],\n",
       "        [ 0.4222, -0.4721,  0.2070,  0.1292],\n",
       "        [ 0.1044,  0.4443,  0.3731, -0.1088]], requires_grad=True)"
      ]
     },
     "execution_count": 16,
     "metadata": {},
     "output_type": "execute_result"
    }
   ],
   "source": [
    "net.a2.weight"
   ]
  },
  {
   "cell_type": "code",
   "execution_count": 17,
   "id": "8922f73f",
   "metadata": {
    "execution": {
     "iopub.execute_input": "2023-01-17T11:17:35.395309Z",
     "iopub.status.busy": "2023-01-17T11:17:35.394545Z",
     "iopub.status.idle": "2023-01-17T11:17:35.402456Z",
     "shell.execute_reply": "2023-01-17T11:17:35.401424Z"
    },
    "papermill": {
     "duration": 0.019432,
     "end_time": "2023-01-17T11:17:35.404640",
     "exception": false,
     "start_time": "2023-01-17T11:17:35.385208",
     "status": "completed"
    },
    "tags": []
   },
   "outputs": [
    {
     "data": {
      "text/plain": [
       "Parameter containing:\n",
       "tensor([[ 0.1485, -0.2394, -0.0733,  0.1102,  0.2174,  0.2683,  0.0015,  0.1498,\n",
       "          0.0271]], requires_grad=True)"
      ]
     },
     "execution_count": 17,
     "metadata": {},
     "output_type": "execute_result"
    }
   ],
   "source": [
    "net.a3.weight"
   ]
  },
  {
   "cell_type": "code",
   "execution_count": 18,
   "id": "c64f69c5",
   "metadata": {
    "execution": {
     "iopub.execute_input": "2023-01-17T11:17:35.423229Z",
     "iopub.status.busy": "2023-01-17T11:17:35.422521Z",
     "iopub.status.idle": "2023-01-17T11:17:35.428430Z",
     "shell.execute_reply": "2023-01-17T11:17:35.427549Z"
    },
    "papermill": {
     "duration": 0.0176,
     "end_time": "2023-01-17T11:17:35.430494",
     "exception": false,
     "start_time": "2023-01-17T11:17:35.412894",
     "status": "completed"
    },
    "tags": []
   },
   "outputs": [
    {
     "data": {
      "text/plain": [
       "<bound method Net.forward of Net(\n",
       "  (a1): Linear(in_features=4, out_features=4, bias=True)\n",
       "  (a2): Linear(in_features=4, out_features=4, bias=True)\n",
       "  (a3): Linear(in_features=9, out_features=1, bias=True)\n",
       ")>"
      ]
     },
     "execution_count": 18,
     "metadata": {},
     "output_type": "execute_result"
    }
   ],
   "source": [
    "net.forward"
   ]
  },
  {
   "cell_type": "code",
   "execution_count": 19,
   "id": "29ea2791",
   "metadata": {
    "execution": {
     "iopub.execute_input": "2023-01-17T11:17:35.450577Z",
     "iopub.status.busy": "2023-01-17T11:17:35.449836Z",
     "iopub.status.idle": "2023-01-17T11:17:35.456603Z",
     "shell.execute_reply": "2023-01-17T11:17:35.455717Z"
    },
    "papermill": {
     "duration": 0.019087,
     "end_time": "2023-01-17T11:17:35.458938",
     "exception": false,
     "start_time": "2023-01-17T11:17:35.439851",
     "status": "completed"
    },
    "tags": []
   },
   "outputs": [
    {
     "data": {
      "text/plain": [
       "tensor([[1.9604]], grad_fn=<AddmmBackward0>)"
      ]
     },
     "execution_count": 19,
     "metadata": {},
     "output_type": "execute_result"
    }
   ],
   "source": [
    "net(x)"
   ]
  },
  {
   "cell_type": "code",
   "execution_count": 20,
   "id": "9fe73c7f",
   "metadata": {
    "execution": {
     "iopub.execute_input": "2023-01-17T11:17:35.479043Z",
     "iopub.status.busy": "2023-01-17T11:17:35.478339Z",
     "iopub.status.idle": "2023-01-17T11:17:35.486499Z",
     "shell.execute_reply": "2023-01-17T11:17:35.485293Z"
    },
    "papermill": {
     "duration": 0.020858,
     "end_time": "2023-01-17T11:17:35.488843",
     "exception": false,
     "start_time": "2023-01-17T11:17:35.467985",
     "status": "completed"
    },
    "tags": []
   },
   "outputs": [
    {
     "data": {
      "text/plain": [
       "tensor([[[ -1.2839,  -0.9139,   0.7685,  -3.1914],\n",
       "         [ -4.2122,  -3.0208,   2.1067,  -8.0720],\n",
       "         [ -6.8519,  -5.1495,   3.9337, -13.1295]]], grad_fn=<AddBackward0>)"
      ]
     },
     "execution_count": 20,
     "metadata": {},
     "output_type": "execute_result"
    }
   ],
   "source": [
    "x = torch.tensor([[[1.,2.,3.,4.],\n",
    "                  [5.,6.,7.,9.],\n",
    "                  [10.,11.,12.,13.]]])\n",
    "net.a1(x)"
   ]
  },
  {
   "cell_type": "code",
   "execution_count": 21,
   "id": "1c71a006",
   "metadata": {
    "execution": {
     "iopub.execute_input": "2023-01-17T11:17:35.508471Z",
     "iopub.status.busy": "2023-01-17T11:17:35.507580Z",
     "iopub.status.idle": "2023-01-17T11:17:35.514538Z",
     "shell.execute_reply": "2023-01-17T11:17:35.513734Z"
    },
    "papermill": {
     "duration": 0.019157,
     "end_time": "2023-01-17T11:17:35.516665",
     "exception": false,
     "start_time": "2023-01-17T11:17:35.497508",
     "status": "completed"
    },
    "tags": []
   },
   "outputs": [
    {
     "data": {
      "text/plain": [
       "tensor([[[ -1.7110,  -3.1138,   0.9266,   2.1596],\n",
       "         [ -4.3594,  -7.4716,   2.2015,   5.3028],\n",
       "         [ -7.2212, -12.0379,   3.5043,   9.4765]]], grad_fn=<AddBackward0>)"
      ]
     },
     "execution_count": 21,
     "metadata": {},
     "output_type": "execute_result"
    }
   ],
   "source": [
    "net.a2(x)"
   ]
  },
  {
   "cell_type": "code",
   "execution_count": 22,
   "id": "0878e69b",
   "metadata": {
    "execution": {
     "iopub.execute_input": "2023-01-17T11:17:35.537242Z",
     "iopub.status.busy": "2023-01-17T11:17:35.536539Z",
     "iopub.status.idle": "2023-01-17T11:17:35.544969Z",
     "shell.execute_reply": "2023-01-17T11:17:35.543854Z"
    },
    "papermill": {
     "duration": 0.021508,
     "end_time": "2023-01-17T11:17:35.547359",
     "exception": false,
     "start_time": "2023-01-17T11:17:35.525851",
     "status": "completed"
    },
    "tags": []
   },
   "outputs": [
    {
     "data": {
      "text/plain": [
       "tensor([[1.9604]], grad_fn=<AddmmBackward0>)"
      ]
     },
     "execution_count": 22,
     "metadata": {},
     "output_type": "execute_result"
    }
   ],
   "source": [
    "net.a3(torch.bmm(net.a1(x),net.a2(x).transpose(1,2)).view(len(x),9))"
   ]
  },
  {
   "cell_type": "code",
   "execution_count": 23,
   "id": "061c832c",
   "metadata": {
    "execution": {
     "iopub.execute_input": "2023-01-17T11:17:35.567114Z",
     "iopub.status.busy": "2023-01-17T11:17:35.566704Z",
     "iopub.status.idle": "2023-01-17T11:17:35.573271Z",
     "shell.execute_reply": "2023-01-17T11:17:35.572188Z"
    },
    "papermill": {
     "duration": 0.01934,
     "end_time": "2023-01-17T11:17:35.575657",
     "exception": false,
     "start_time": "2023-01-17T11:17:35.556317",
     "status": "completed"
    },
    "tags": []
   },
   "outputs": [
    {
     "data": {
      "text/plain": [
       "torch.Size([1, 3, 4])"
      ]
     },
     "execution_count": 23,
     "metadata": {},
     "output_type": "execute_result"
    }
   ],
   "source": [
    "x.shape"
   ]
  },
  {
   "cell_type": "code",
   "execution_count": 24,
   "id": "6531430c",
   "metadata": {
    "execution": {
     "iopub.execute_input": "2023-01-17T11:17:35.595734Z",
     "iopub.status.busy": "2023-01-17T11:17:35.595089Z",
     "iopub.status.idle": "2023-01-17T11:17:35.602773Z",
     "shell.execute_reply": "2023-01-17T11:17:35.601774Z"
    },
    "papermill": {
     "duration": 0.020107,
     "end_time": "2023-01-17T11:17:35.604935",
     "exception": false,
     "start_time": "2023-01-17T11:17:35.584828",
     "status": "completed"
    },
    "tags": []
   },
   "outputs": [
    {
     "data": {
      "text/plain": [
       "tensor([[[-1.0413,  1.2856,  0.5482,  0.4639],\n",
       "         [-0.7475,  0.3375, -0.4623,  0.9720],\n",
       "         [ 1.1361, -0.0663, -1.3794, -0.2513]]])"
      ]
     },
     "execution_count": 24,
     "metadata": {},
     "output_type": "execute_result"
    }
   ],
   "source": [
    "x = torch.randn(1,3,4)\n",
    "x"
   ]
  },
  {
   "cell_type": "code",
   "execution_count": 25,
   "id": "9d6de1ac",
   "metadata": {
    "execution": {
     "iopub.execute_input": "2023-01-17T11:17:35.625460Z",
     "iopub.status.busy": "2023-01-17T11:17:35.624543Z",
     "iopub.status.idle": "2023-01-17T11:17:35.632709Z",
     "shell.execute_reply": "2023-01-17T11:17:35.631453Z"
    },
    "papermill": {
     "duration": 0.021019,
     "end_time": "2023-01-17T11:17:35.635084",
     "exception": false,
     "start_time": "2023-01-17T11:17:35.614065",
     "status": "completed"
    },
    "tags": []
   },
   "outputs": [
    {
     "data": {
      "text/plain": [
       "tensor([[-5.2067,  6.4282,  2.7409,  2.3197]])"
      ]
     },
     "execution_count": 25,
     "metadata": {},
     "output_type": "execute_result"
    }
   ],
   "source": [
    "k=x*5\n",
    "k[:,0,:]"
   ]
  },
  {
   "cell_type": "code",
   "execution_count": 26,
   "id": "bcaf203f",
   "metadata": {
    "execution": {
     "iopub.execute_input": "2023-01-17T11:17:35.656333Z",
     "iopub.status.busy": "2023-01-17T11:17:35.655370Z",
     "iopub.status.idle": "2023-01-17T11:17:35.663439Z",
     "shell.execute_reply": "2023-01-17T11:17:35.662343Z"
    },
    "papermill": {
     "duration": 0.021409,
     "end_time": "2023-01-17T11:17:35.665979",
     "exception": false,
     "start_time": "2023-01-17T11:17:35.644570",
     "status": "completed"
    },
    "tags": []
   },
   "outputs": [
    {
     "data": {
      "text/plain": [
       "tensor(6.2822)"
      ]
     },
     "execution_count": 26,
     "metadata": {},
     "output_type": "execute_result"
    }
   ],
   "source": [
    "k[:,0,:].sum()"
   ]
  },
  {
   "cell_type": "code",
   "execution_count": 27,
   "id": "bc9bcf48",
   "metadata": {
    "execution": {
     "iopub.execute_input": "2023-01-17T11:17:35.687494Z",
     "iopub.status.busy": "2023-01-17T11:17:35.687067Z",
     "iopub.status.idle": "2023-01-17T11:17:35.694905Z",
     "shell.execute_reply": "2023-01-17T11:17:35.693985Z"
    },
    "papermill": {
     "duration": 0.021205,
     "end_time": "2023-01-17T11:17:35.697012",
     "exception": false,
     "start_time": "2023-01-17T11:17:35.675807",
     "status": "completed"
    },
    "tags": []
   },
   "outputs": [
    {
     "data": {
      "text/plain": [
       "tensor(0.4980)"
      ]
     },
     "execution_count": 27,
     "metadata": {},
     "output_type": "execute_result"
    }
   ],
   "source": [
    "k[:,1,:].sum()"
   ]
  },
  {
   "cell_type": "code",
   "execution_count": 28,
   "id": "a3f2edf0",
   "metadata": {
    "execution": {
     "iopub.execute_input": "2023-01-17T11:17:35.719060Z",
     "iopub.status.busy": "2023-01-17T11:17:35.717755Z",
     "iopub.status.idle": "2023-01-17T11:17:35.725032Z",
     "shell.execute_reply": "2023-01-17T11:17:35.724219Z"
    },
    "papermill": {
     "duration": 0.020506,
     "end_time": "2023-01-17T11:17:35.727257",
     "exception": false,
     "start_time": "2023-01-17T11:17:35.706751",
     "status": "completed"
    },
    "tags": []
   },
   "outputs": [
    {
     "data": {
      "text/plain": [
       "tensor(-2.8041)"
      ]
     },
     "execution_count": 28,
     "metadata": {},
     "output_type": "execute_result"
    }
   ],
   "source": [
    "k[:,2,:].sum()"
   ]
  },
  {
   "cell_type": "code",
   "execution_count": 29,
   "id": "63bdaaba",
   "metadata": {
    "execution": {
     "iopub.execute_input": "2023-01-17T11:17:35.749214Z",
     "iopub.status.busy": "2023-01-17T11:17:35.748771Z",
     "iopub.status.idle": "2023-01-17T11:17:35.754680Z",
     "shell.execute_reply": "2023-01-17T11:17:35.753971Z"
    },
    "papermill": {
     "duration": 0.019245,
     "end_time": "2023-01-17T11:17:35.756652",
     "exception": false,
     "start_time": "2023-01-17T11:17:35.737407",
     "status": "completed"
    },
    "tags": []
   },
   "outputs": [
    {
     "data": {
      "text/plain": [
       "torch.Size([3, 1])"
      ]
     },
     "execution_count": 29,
     "metadata": {},
     "output_type": "execute_result"
    }
   ],
   "source": [
    "y.size()"
   ]
  }
 ],
 "metadata": {
  "kernelspec": {
   "display_name": "Python 3",
   "language": "python",
   "name": "python3"
  },
  "language_info": {
   "codemirror_mode": {
    "name": "ipython",
    "version": 3
   },
   "file_extension": ".py",
   "mimetype": "text/x-python",
   "name": "python",
   "nbconvert_exporter": "python",
   "pygments_lexer": "ipython3",
   "version": "3.7.12"
  },
  "papermill": {
   "default_parameters": {},
   "duration": 11.944372,
   "end_time": "2023-01-17T11:17:36.588769",
   "environment_variables": {},
   "exception": null,
   "input_path": "__notebook__.ipynb",
   "output_path": "__notebook__.ipynb",
   "parameters": {},
   "start_time": "2023-01-17T11:17:24.644397",
   "version": "2.3.4"
  }
 },
 "nbformat": 4,
 "nbformat_minor": 5
}
