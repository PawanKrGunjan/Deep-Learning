{
 "cells": [
  {
   "cell_type": "markdown",
   "id": "9ecc39d9",
   "metadata": {
    "papermill": {
     "duration": 0.009834,
     "end_time": "2023-01-26T15:32:29.607051",
     "exception": false,
     "start_time": "2023-01-26T15:32:29.597217",
     "status": "completed"
    },
    "tags": []
   },
   "source": [
    "## Import the necessary libraries"
   ]
  },
  {
   "cell_type": "code",
   "execution_count": 1,
   "id": "e255109b",
   "metadata": {
    "execution": {
     "iopub.execute_input": "2023-01-26T15:32:29.626919Z",
     "iopub.status.busy": "2023-01-26T15:32:29.626394Z",
     "iopub.status.idle": "2023-01-26T15:32:31.776378Z",
     "shell.execute_reply": "2023-01-26T15:32:31.775223Z"
    },
    "papermill": {
     "duration": 2.163279,
     "end_time": "2023-01-26T15:32:31.779340",
     "exception": false,
     "start_time": "2023-01-26T15:32:29.616061",
     "status": "completed"
    },
    "tags": []
   },
   "outputs": [],
   "source": [
    "import numpy as np\n",
    "from scipy.linalg import lstsq\n",
    "import torch"
   ]
  },
  {
   "cell_type": "markdown",
   "id": "ca681c3b",
   "metadata": {
    "papermill": {
     "duration": 0.008271,
     "end_time": "2023-01-26T15:32:31.796791",
     "exception": false,
     "start_time": "2023-01-26T15:32:31.788520",
     "status": "completed"
    },
    "tags": []
   },
   "source": [
    "## Linear Algebra"
   ]
  },
  {
   "cell_type": "raw",
   "id": "d9fea761",
   "metadata": {
    "papermill": {
     "duration": 0.008737,
     "end_time": "2023-01-26T15:32:31.814711",
     "exception": false,
     "start_time": "2023-01-26T15:32:31.805974",
     "status": "completed"
    },
    "tags": []
   },
   "source": [
    "Equation\n",
    "Ax =b"
   ]
  },
  {
   "cell_type": "code",
   "execution_count": 2,
   "id": "27d96d9b",
   "metadata": {
    "execution": {
     "iopub.execute_input": "2023-01-26T15:32:31.834976Z",
     "iopub.status.busy": "2023-01-26T15:32:31.834252Z",
     "iopub.status.idle": "2023-01-26T15:32:31.840796Z",
     "shell.execute_reply": "2023-01-26T15:32:31.839382Z"
    },
    "papermill": {
     "duration": 0.01967,
     "end_time": "2023-01-26T15:32:31.843326",
     "exception": false,
     "start_time": "2023-01-26T15:32:31.823656",
     "status": "completed"
    },
    "tags": []
   },
   "outputs": [],
   "source": [
    "A = np.array([\n",
    "    [1,5,3],\n",
    "    [2,8,6],\n",
    "    [4,9,7]\n",
    "])\n",
    "\n",
    "b = np.array([\n",
    "    [10],\n",
    "    [12],\n",
    "    [6]\n",
    "])"
   ]
  },
  {
   "cell_type": "code",
   "execution_count": 3,
   "id": "078d02de",
   "metadata": {
    "execution": {
     "iopub.execute_input": "2023-01-26T15:32:31.863487Z",
     "iopub.status.busy": "2023-01-26T15:32:31.862167Z",
     "iopub.status.idle": "2023-01-26T15:32:31.881419Z",
     "shell.execute_reply": "2023-01-26T15:32:31.880177Z"
    },
    "papermill": {
     "duration": 0.031928,
     "end_time": "2023-01-26T15:32:31.884072",
     "exception": false,
     "start_time": "2023-01-26T15:32:31.852144",
     "status": "completed"
    },
    "tags": []
   },
   "outputs": [
    {
     "data": {
      "text/plain": [
       "array([[-4.],\n",
       "       [ 4.],\n",
       "       [-2.]])"
      ]
     },
     "execution_count": 3,
     "metadata": {},
     "output_type": "execute_result"
    }
   ],
   "source": [
    "x = np.linalg.solve(A,b)\n",
    "x"
   ]
  },
  {
   "cell_type": "code",
   "execution_count": 4,
   "id": "811a9912",
   "metadata": {
    "execution": {
     "iopub.execute_input": "2023-01-26T15:32:31.903418Z",
     "iopub.status.busy": "2023-01-26T15:32:31.902986Z",
     "iopub.status.idle": "2023-01-26T15:32:31.912125Z",
     "shell.execute_reply": "2023-01-26T15:32:31.910691Z"
    },
    "papermill": {
     "duration": 0.021843,
     "end_time": "2023-01-26T15:32:31.914591",
     "exception": false,
     "start_time": "2023-01-26T15:32:31.892748",
     "status": "completed"
    },
    "tags": []
   },
   "outputs": [
    {
     "data": {
      "text/plain": [
       "array([[ True],\n",
       "       [ True],\n",
       "       [ True]])"
      ]
     },
     "execution_count": 4,
     "metadata": {},
     "output_type": "execute_result"
    }
   ],
   "source": [
    "# Check Ax = b\n",
    "# Matrix Product\n",
    "b == np.matmul(A,x)"
   ]
  },
  {
   "cell_type": "markdown",
   "id": "bf8094ee",
   "metadata": {
    "papermill": {
     "duration": 0.008251,
     "end_time": "2023-01-26T15:32:31.932729",
     "exception": false,
     "start_time": "2023-01-26T15:32:31.924478",
     "status": "completed"
    },
    "tags": []
   },
   "source": [
    "## Overdetermined System"
   ]
  },
  {
   "cell_type": "code",
   "execution_count": 5,
   "id": "e2c5acc3",
   "metadata": {
    "execution": {
     "iopub.execute_input": "2023-01-26T15:32:31.952371Z",
     "iopub.status.busy": "2023-01-26T15:32:31.951444Z",
     "iopub.status.idle": "2023-01-26T15:32:31.958253Z",
     "shell.execute_reply": "2023-01-26T15:32:31.956993Z"
    },
    "papermill": {
     "duration": 0.019582,
     "end_time": "2023-01-26T15:32:31.960871",
     "exception": false,
     "start_time": "2023-01-26T15:32:31.941289",
     "status": "completed"
    },
    "tags": []
   },
   "outputs": [],
   "source": [
    "A = np.array([\n",
    "    [1,  2,  3],\n",
    "    [4,  5,  6],\n",
    "    [7,  8,  9],\n",
    "    [10, 11, 12],\n",
    "    [13, 14, 15],\n",
    "    [16, 17, 18],\n",
    "    [19, 20, 21]\n",
    "])\n",
    "\n",
    "\n",
    "b = np.array([5,7,11,13,17,19,23])"
   ]
  },
  {
   "cell_type": "code",
   "execution_count": 6,
   "id": "91039159",
   "metadata": {
    "execution": {
     "iopub.execute_input": "2023-01-26T15:32:31.980346Z",
     "iopub.status.busy": "2023-01-26T15:32:31.979922Z",
     "iopub.status.idle": "2023-01-26T15:32:32.001007Z",
     "shell.execute_reply": "2023-01-26T15:32:31.999993Z"
    },
    "papermill": {
     "duration": 0.033786,
     "end_time": "2023-01-26T15:32:32.003337",
     "exception": false,
     "start_time": "2023-01-26T15:32:31.969551",
     "status": "completed"
    },
    "tags": []
   },
   "outputs": [
    {
     "data": {
      "text/plain": [
       "(array([-0.95238095,  0.33333333,  1.61904762]),\n",
       " array([], dtype=float64),\n",
       " 2,\n",
       " array([5.75134792e+01, 1.78877318e+00, 3.10802681e-15]))"
      ]
     },
     "execution_count": 6,
     "metadata": {},
     "output_type": "execute_result"
    }
   ],
   "source": [
    "# With Numpy\n",
    "# Using least square\n",
    "result = np.linalg.lstsq(A,b, rcond=None)\n",
    "x,residuals,rank,singular_values = result\n",
    "result"
   ]
  },
  {
   "cell_type": "code",
   "execution_count": 7,
   "id": "b954e1e8",
   "metadata": {
    "execution": {
     "iopub.execute_input": "2023-01-26T15:32:32.023677Z",
     "iopub.status.busy": "2023-01-26T15:32:32.022482Z",
     "iopub.status.idle": "2023-01-26T15:32:32.046120Z",
     "shell.execute_reply": "2023-01-26T15:32:32.044885Z"
    },
    "papermill": {
     "duration": 0.036613,
     "end_time": "2023-01-26T15:32:32.048883",
     "exception": false,
     "start_time": "2023-01-26T15:32:32.012270",
     "status": "completed"
    },
    "tags": []
   },
   "outputs": [
    {
     "data": {
      "text/plain": [
       "(array([-0.95238095,  0.33333333,  1.61904762]),\n",
       " array([], dtype=float64),\n",
       " 2,\n",
       " array([5.75134792e+01, 1.78877318e+00, 3.10802681e-15]))"
      ]
     },
     "execution_count": 7,
     "metadata": {},
     "output_type": "execute_result"
    }
   ],
   "source": [
    "# With Scipy\n",
    "result = lstsq(A,b)\n",
    "x,residuals,rank,singular_values = result\n",
    "result"
   ]
  },
  {
   "cell_type": "code",
   "execution_count": 8,
   "id": "44693c38",
   "metadata": {
    "execution": {
     "iopub.execute_input": "2023-01-26T15:32:32.069145Z",
     "iopub.status.busy": "2023-01-26T15:32:32.068748Z",
     "iopub.status.idle": "2023-01-26T15:32:32.129537Z",
     "shell.execute_reply": "2023-01-26T15:32:32.128203Z"
    },
    "papermill": {
     "duration": 0.07405,
     "end_time": "2023-01-26T15:32:32.132444",
     "exception": false,
     "start_time": "2023-01-26T15:32:32.058394",
     "status": "completed"
    },
    "tags": []
   },
   "outputs": [
    {
     "data": {
      "text/plain": [
       "torch.return_types.linalg_lstsq(\n",
       "solution=tensor([-0.9524,  0.3333,  1.6190]),\n",
       "residuals=tensor([]),\n",
       "rank=tensor(2),\n",
       "singular_values=tensor([5.7513e+01, 1.7888e+00, 1.4175e-06]))"
      ]
     },
     "execution_count": 8,
     "metadata": {},
     "output_type": "execute_result"
    }
   ],
   "source": [
    "# With PyTorch\n",
    "a = torch.tensor(A, dtype=torch.float)\n",
    "b = torch.tensor(b, dtype=torch.float)\n",
    "\n",
    "result  = torch.linalg.lstsq(a, b, driver='gelsd') #.solution\n",
    "x,residuals,rank,singular_values = result\n",
    "result"
   ]
  },
  {
   "cell_type": "code",
   "execution_count": 9,
   "id": "078365bd",
   "metadata": {
    "execution": {
     "iopub.execute_input": "2023-01-26T15:32:32.152909Z",
     "iopub.status.busy": "2023-01-26T15:32:32.152455Z",
     "iopub.status.idle": "2023-01-26T15:32:32.173309Z",
     "shell.execute_reply": "2023-01-26T15:32:32.171955Z"
    },
    "papermill": {
     "duration": 0.034131,
     "end_time": "2023-01-26T15:32:32.176061",
     "exception": false,
     "start_time": "2023-01-26T15:32:32.141930",
     "status": "completed"
    },
    "tags": []
   },
   "outputs": [
    {
     "data": {
      "text/plain": [
       "tensor([-0.9524,  0.3333,  1.6190])"
      ]
     },
     "execution_count": 9,
     "metadata": {},
     "output_type": "execute_result"
    }
   ],
   "source": [
    "torch.linalg.pinv(a) @ b"
   ]
  },
  {
   "cell_type": "code",
   "execution_count": 10,
   "id": "5f25b238",
   "metadata": {
    "execution": {
     "iopub.execute_input": "2023-01-26T15:32:32.197609Z",
     "iopub.status.busy": "2023-01-26T15:32:32.197198Z",
     "iopub.status.idle": "2023-01-26T15:32:32.207483Z",
     "shell.execute_reply": "2023-01-26T15:32:32.205929Z"
    },
    "papermill": {
     "duration": 0.024854,
     "end_time": "2023-01-26T15:32:32.210335",
     "exception": false,
     "start_time": "2023-01-26T15:32:32.185481",
     "status": "completed"
    },
    "tags": []
   },
   "outputs": [
    {
     "data": {
      "text/plain": [
       "tensor([-0.9524,  0.3333,  1.6190])"
      ]
     },
     "execution_count": 10,
     "metadata": {},
     "output_type": "execute_result"
    }
   ],
   "source": [
    "x,residuals,rank,singular_values = result\n",
    "x"
   ]
  },
  {
   "cell_type": "code",
   "execution_count": 11,
   "id": "57364b46",
   "metadata": {
    "execution": {
     "iopub.execute_input": "2023-01-26T15:32:32.232411Z",
     "iopub.status.busy": "2023-01-26T15:32:32.231977Z",
     "iopub.status.idle": "2023-01-26T15:32:32.240876Z",
     "shell.execute_reply": "2023-01-26T15:32:32.239297Z"
    },
    "papermill": {
     "duration": 0.023605,
     "end_time": "2023-01-26T15:32:32.243558",
     "exception": false,
     "start_time": "2023-01-26T15:32:32.219953",
     "status": "completed"
    },
    "tags": []
   },
   "outputs": [
    {
     "data": {
      "text/plain": [
       "tensor([ 4.5714,  7.5714, 10.5714, 13.5714, 16.5714, 19.5714, 22.5714])"
      ]
     },
     "execution_count": 11,
     "metadata": {},
     "output_type": "execute_result"
    }
   ],
   "source": [
    "a.matmul(x)"
   ]
  },
  {
   "cell_type": "markdown",
   "id": "5b667d8d",
   "metadata": {
    "papermill": {
     "duration": 0.009123,
     "end_time": "2023-01-26T15:32:32.262309",
     "exception": false,
     "start_time": "2023-01-26T15:32:32.253186",
     "status": "completed"
    },
    "tags": []
   },
   "source": [
    "## Underdetermined System"
   ]
  },
  {
   "cell_type": "code",
   "execution_count": 12,
   "id": "1a32597a",
   "metadata": {
    "execution": {
     "iopub.execute_input": "2023-01-26T15:32:32.284089Z",
     "iopub.status.busy": "2023-01-26T15:32:32.283672Z",
     "iopub.status.idle": "2023-01-26T15:32:32.297398Z",
     "shell.execute_reply": "2023-01-26T15:32:32.296159Z"
    },
    "papermill": {
     "duration": 0.028088,
     "end_time": "2023-01-26T15:32:32.300054",
     "exception": false,
     "start_time": "2023-01-26T15:32:32.271966",
     "status": "completed"
    },
    "tags": []
   },
   "outputs": [
    {
     "data": {
      "text/plain": [
       "torch.return_types.linalg_lstsq(\n",
       "solution=tensor([[-1.6111],\n",
       "        [ 0.2222],\n",
       "        [ 2.0556]]),\n",
       "residuals=tensor([]),\n",
       "rank=tensor(2),\n",
       "singular_values=tensor([9.5080, 0.7729]))"
      ]
     },
     "execution_count": 12,
     "metadata": {},
     "output_type": "execute_result"
    }
   ],
   "source": [
    "A = np.array([\n",
    "    [1,  2,  3],\n",
    "    [4,  5,  6],\n",
    "])\n",
    "\n",
    "b = np.array([\n",
    "    [5],\n",
    "    [7],\n",
    "])\n",
    "\n",
    "# With PyTorch\n",
    "a = torch.tensor(A, dtype=torch.float)\n",
    "b = torch.tensor(b, dtype=torch.float)\n",
    "\n",
    "result  = torch.linalg.lstsq(a, b, driver='gelsd') #.solution\n",
    "x,residuals,rank,singular_values = result\n",
    "result"
   ]
  },
  {
   "cell_type": "code",
   "execution_count": 13,
   "id": "cc8ba15b",
   "metadata": {
    "execution": {
     "iopub.execute_input": "2023-01-26T15:32:32.321525Z",
     "iopub.status.busy": "2023-01-26T15:32:32.321102Z",
     "iopub.status.idle": "2023-01-26T15:32:32.329004Z",
     "shell.execute_reply": "2023-01-26T15:32:32.328101Z"
    },
    "papermill": {
     "duration": 0.021932,
     "end_time": "2023-01-26T15:32:32.331597",
     "exception": false,
     "start_time": "2023-01-26T15:32:32.309665",
     "status": "completed"
    },
    "tags": []
   },
   "outputs": [
    {
     "data": {
      "text/plain": [
       "tensor([[-1.6111],\n",
       "        [ 0.2222],\n",
       "        [ 2.0556]])"
      ]
     },
     "execution_count": 13,
     "metadata": {},
     "output_type": "execute_result"
    }
   ],
   "source": [
    "# Alternate method\n",
    "torch.linalg.pinv(a) @ b"
   ]
  },
  {
   "cell_type": "code",
   "execution_count": 14,
   "id": "5d2555a2",
   "metadata": {
    "execution": {
     "iopub.execute_input": "2023-01-26T15:32:32.353445Z",
     "iopub.status.busy": "2023-01-26T15:32:32.353037Z",
     "iopub.status.idle": "2023-01-26T15:32:32.362448Z",
     "shell.execute_reply": "2023-01-26T15:32:32.361111Z"
    },
    "papermill": {
     "duration": 0.023607,
     "end_time": "2023-01-26T15:32:32.365102",
     "exception": false,
     "start_time": "2023-01-26T15:32:32.341495",
     "status": "completed"
    },
    "tags": []
   },
   "outputs": [
    {
     "data": {
      "text/plain": [
       "tensor([[5.0000],\n",
       "        [7.0000]])"
      ]
     },
     "execution_count": 14,
     "metadata": {},
     "output_type": "execute_result"
    }
   ],
   "source": [
    "a.matmul(x)"
   ]
  },
  {
   "cell_type": "markdown",
   "id": "72d0bab6",
   "metadata": {
    "papermill": {
     "duration": 0.009741,
     "end_time": "2023-01-26T15:32:32.384764",
     "exception": false,
     "start_time": "2023-01-26T15:32:32.375023",
     "status": "completed"
    },
    "tags": []
   },
   "source": [
    "## Orthogonal Matching Pursuit"
   ]
  },
  {
   "cell_type": "raw",
   "id": "2e107424",
   "metadata": {
    "papermill": {
     "duration": 0.010415,
     "end_time": "2023-01-26T15:32:32.405574",
     "exception": false,
     "start_time": "2023-01-26T15:32:32.395159",
     "status": "completed"
    },
    "tags": []
   },
   "source": [
    "Y~Ax"
   ]
  },
  {
   "cell_type": "code",
   "execution_count": 15,
   "id": "814b8183",
   "metadata": {
    "execution": {
     "iopub.execute_input": "2023-01-26T15:32:32.428513Z",
     "iopub.status.busy": "2023-01-26T15:32:32.428095Z",
     "iopub.status.idle": "2023-01-26T15:32:32.440042Z",
     "shell.execute_reply": "2023-01-26T15:32:32.438614Z"
    },
    "papermill": {
     "duration": 0.026457,
     "end_time": "2023-01-26T15:32:32.442598",
     "exception": false,
     "start_time": "2023-01-26T15:32:32.416141",
     "status": "completed"
    },
    "tags": []
   },
   "outputs": [
    {
     "data": {
      "text/plain": [
       "torch.Size([7])"
      ]
     },
     "execution_count": 15,
     "metadata": {},
     "output_type": "execute_result"
    }
   ],
   "source": [
    "A = np.array([\n",
    "    [1,  2,  3],\n",
    "    [4,  5,  6],\n",
    "    [7,  8,  9],\n",
    "    [10, 11, 12],\n",
    "    [13, 14, 15],\n",
    "    [16, 17, 18],\n",
    "    [19, 20, 21]\n",
    "])\n",
    "\n",
    "b = np.array([\n",
    "    [5],\n",
    "    [7],\n",
    "    [11],\n",
    "    [13],\n",
    "    [17],\n",
    "    [19],\n",
    "    [23]\n",
    "])\n",
    "b = np.array([5,7,11,13,17,19,23])\n",
    "A = torch.tensor(A, dtype=torch.float)\n",
    "Y = torch.tensor(b, dtype=torch.float)\n",
    "Y.shape"
   ]
  },
  {
   "cell_type": "code",
   "execution_count": 16,
   "id": "af9b1855",
   "metadata": {
    "execution": {
     "iopub.execute_input": "2023-01-26T15:32:32.465386Z",
     "iopub.status.busy": "2023-01-26T15:32:32.464962Z",
     "iopub.status.idle": "2023-01-26T15:32:32.473230Z",
     "shell.execute_reply": "2023-01-26T15:32:32.471604Z"
    },
    "papermill": {
     "duration": 0.022496,
     "end_time": "2023-01-26T15:32:32.475725",
     "exception": false,
     "start_time": "2023-01-26T15:32:32.453229",
     "status": "completed"
    },
    "tags": []
   },
   "outputs": [
    {
     "data": {
      "text/plain": [
       "False"
      ]
     },
     "execution_count": 16,
     "metadata": {},
     "output_type": "execute_result"
    }
   ],
   "source": [
    "M = A.shape[0]\n",
    "N = A.shape[1]\n",
    "\n",
    "M<N # Underdetermined Equations"
   ]
  },
  {
   "cell_type": "markdown",
   "id": "95249d83",
   "metadata": {
    "papermill": {
     "duration": 0.009951,
     "end_time": "2023-01-26T15:32:32.496422",
     "exception": false,
     "start_time": "2023-01-26T15:32:32.486471",
     "status": "completed"
    },
    "tags": []
   },
   "source": [
    "### 1st iterations"
   ]
  },
  {
   "cell_type": "raw",
   "id": "7d118731",
   "metadata": {
    "papermill": {
     "duration": 0.009657,
     "end_time": "2023-01-26T15:32:32.516621",
     "exception": false,
     "start_time": "2023-01-26T15:32:32.506964",
     "status": "completed"
    },
    "tags": []
   },
   "source": [
    "# x_bar = Saprse\n",
    "\n",
    "#1st iterations\n",
    "i(1) = argmax|A_transpose y| "
   ]
  },
  {
   "cell_type": "code",
   "execution_count": 17,
   "id": "2bae653a",
   "metadata": {
    "execution": {
     "iopub.execute_input": "2023-01-26T15:32:32.538464Z",
     "iopub.status.busy": "2023-01-26T15:32:32.538070Z",
     "iopub.status.idle": "2023-01-26T15:32:32.555210Z",
     "shell.execute_reply": "2023-01-26T15:32:32.553882Z"
    },
    "papermill": {
     "duration": 0.031475,
     "end_time": "2023-01-26T15:32:32.558016",
     "exception": false,
     "start_time": "2023-01-26T15:32:32.526541",
     "status": "completed"
    },
    "tags": []
   },
   "outputs": [
    {
     "name": "stdout",
     "output_type": "stream",
     "text": [
      "tensor([1202., 1297., 1392.])\n",
      "Max Iterations : 2\n",
      "Augmented Matrix  : tensor([ 3.,  6.,  9., 12., 15., 18., 21.])\n",
      "x1 : tensor(1.1048)\n",
      "Residue : tensor([ 1.6857,  0.3714,  1.0571, -0.2571,  0.4286, -0.8857, -0.2000])\n"
     ]
    }
   ],
   "source": [
    "print(A.transpose(0,1).matmul(Y))\n",
    "i1 = torch.argmax(A.transpose(0,1).matmul(Y))\n",
    "print('Max Iterations :',i1.item())\n",
    "\n",
    "# Augmented Matrix for 1st iterations\n",
    "A1 = A[:,i1.item()] # 5th columns\n",
    "print('Augmented Matrix  :',A1)\n",
    "\n",
    "# Estimate 1st iterations\n",
    "'''\n",
    "    Solve least squre \n",
    "    min(||y - A1 x1||^2)\n",
    "    x1= (A1^T A1)^-1 A1^T Y\n",
    "'''\n",
    "\n",
    "x1 = ((A1.transpose(-1, 0).matmul(A1))**(-1)) * (A1.transpose(-1, 0)@Y)\n",
    "print('x1 :',x1)\n",
    "\n",
    "# Residue after the ist iterations\n",
    "# r1 = Y-A1x1\n",
    "r1 = Y - A1.mul(x1)\n",
    "print('Residue :',r1)"
   ]
  },
  {
   "cell_type": "markdown",
   "id": "74de5d19",
   "metadata": {
    "papermill": {
     "duration": 0.010115,
     "end_time": "2023-01-26T15:32:32.578700",
     "exception": false,
     "start_time": "2023-01-26T15:32:32.568585",
     "status": "completed"
    },
    "tags": []
   },
   "source": [
    "### 2nd Iterations\n",
    "Find the projections of r1 i.e residue from the 1st iterations on each column of A"
   ]
  },
  {
   "cell_type": "code",
   "execution_count": 18,
   "id": "02e225a2",
   "metadata": {
    "execution": {
     "iopub.execute_input": "2023-01-26T15:32:32.601463Z",
     "iopub.status.busy": "2023-01-26T15:32:32.600756Z",
     "iopub.status.idle": "2023-01-26T15:32:32.618790Z",
     "shell.execute_reply": "2023-01-26T15:32:32.617321Z"
    },
    "papermill": {
     "duration": 0.033372,
     "end_time": "2023-01-26T15:32:32.622315",
     "exception": false,
     "start_time": "2023-01-26T15:32:32.588943",
     "status": "completed"
    },
    "tags": []
   },
   "outputs": [
    {
     "name": "stdout",
     "output_type": "stream",
     "text": [
      "tensor([-4.4001e+00, -2.2001e+00, -7.0572e-05])\n",
      "Max Iterations : [2, 2]\n",
      "Max Iterations : [2]\n",
      "Augmented Matrix  :\n",
      " tensor([[ 3.],\n",
      "        [ 6.],\n",
      "        [ 9.],\n",
      "        [12.],\n",
      "        [15.],\n",
      "        [18.],\n",
      "        [21.]])\n",
      "x1 : tensor([1.1048])\n",
      "Residue :\n",
      " tensor([ 1.6857,  0.3714,  1.0571, -0.2571,  0.4286, -0.8857, -0.2000])\n"
     ]
    }
   ],
   "source": [
    "i2 = [i1.item()]\n",
    "temp =A.transpose(0,1)@r1\n",
    "print(temp)\n",
    "if len(temp.shape) == 1:\n",
    "    i2.append(torch.argmax(temp).item())\n",
    "else:\n",
    "    for k in range(temp.shape[0]):\n",
    "        i2.append(torch.argmax(temp[k]).item())     \n",
    "print('Max Iterations :',i2)\n",
    "i2 = list(set(i2))\n",
    "print('Max Iterations :',i2)\n",
    "\n",
    "# Augmented Matrix for 1st iterations\n",
    "A2 = A[:,list(set(i2))] # 2nd and 5the columns\n",
    "print('Augmented Matrix  :\\n',A2)\n",
    "\n",
    "# Estimate 2nd iterations\n",
    "'''\n",
    "    Solve least squre \n",
    "    min(||y - A2 x2||^2)\n",
    "    x2= (A2^T A2)^-1 A2^T y\n",
    "'''\n",
    "\n",
    "x2 = torch.inverse(A2.transpose(-1, 0).matmul(A2)) @ (A2.transpose(-1, 0)@Y)\n",
    "print('x1 :',x2)\n",
    "\n",
    "# Residue after the ist iterations\n",
    "# r2 = Y-A2x2\n",
    "r2 = Y - A2@x2\n",
    "print('Residue :\\n',r2)"
   ]
  },
  {
   "cell_type": "code",
   "execution_count": 19,
   "id": "ebea8a37",
   "metadata": {
    "execution": {
     "iopub.execute_input": "2023-01-26T15:32:32.645888Z",
     "iopub.status.busy": "2023-01-26T15:32:32.645167Z",
     "iopub.status.idle": "2023-01-26T15:32:32.651670Z",
     "shell.execute_reply": "2023-01-26T15:32:32.650699Z"
    },
    "papermill": {
     "duration": 0.020791,
     "end_time": "2023-01-26T15:32:32.653991",
     "exception": false,
     "start_time": "2023-01-26T15:32:32.633200",
     "status": "completed"
    },
    "tags": []
   },
   "outputs": [
    {
     "data": {
      "text/plain": [
       "tensor([1, 0, 1, 0, 0, 0, 0], dtype=torch.int32)"
      ]
     },
     "execution_count": 19,
     "metadata": {},
     "output_type": "execute_result"
    }
   ],
   "source": [
    "r2.to(torch.int)"
   ]
  },
  {
   "cell_type": "code",
   "execution_count": 20,
   "id": "cfe05a9d",
   "metadata": {
    "execution": {
     "iopub.execute_input": "2023-01-26T15:32:32.676845Z",
     "iopub.status.busy": "2023-01-26T15:32:32.676129Z",
     "iopub.status.idle": "2023-01-26T15:32:32.685190Z",
     "shell.execute_reply": "2023-01-26T15:32:32.683679Z"
    },
    "papermill": {
     "duration": 0.023449,
     "end_time": "2023-01-26T15:32:32.687778",
     "exception": false,
     "start_time": "2023-01-26T15:32:32.664329",
     "status": "completed"
    },
    "tags": []
   },
   "outputs": [
    {
     "data": {
      "text/plain": [
       "(torch.Size([4]), torch.Size([4, 6]))"
      ]
     },
     "execution_count": 20,
     "metadata": {},
     "output_type": "execute_result"
    }
   ],
   "source": [
    "y = torch.tensor([0,2,3,5], dtype=torch.float)\n",
    "a = torch.tensor([\n",
    "    [1, 0, 1, 0, 0, 1],\n",
    "    [0, 1, 1, 1, 0, 0],\n",
    "    [1, 0, 0, 1, 1, 0],\n",
    "    [0, 1, 0, 0, 1, 1]\n",
    "], dtype=torch.float)\n",
    "\n",
    "y.shape, a.shape"
   ]
  },
  {
   "cell_type": "markdown",
   "id": "af1e88f1",
   "metadata": {
    "papermill": {
     "duration": 0.00997,
     "end_time": "2023-01-26T15:32:32.708182",
     "exception": false,
     "start_time": "2023-01-26T15:32:32.698212",
     "status": "completed"
    },
    "tags": []
   },
   "source": [
    "## OMP Final Functions"
   ]
  },
  {
   "cell_type": "markdown",
   "id": "8f161b07",
   "metadata": {
    "papermill": {
     "duration": 0.009922,
     "end_time": "2023-01-26T15:32:32.728511",
     "exception": false,
     "start_time": "2023-01-26T15:32:32.718589",
     "status": "completed"
    },
    "tags": []
   },
   "source": [
    "### Max Index"
   ]
  },
  {
   "cell_type": "code",
   "execution_count": 21,
   "id": "218db8ff",
   "metadata": {
    "execution": {
     "iopub.execute_input": "2023-01-26T15:32:32.751086Z",
     "iopub.status.busy": "2023-01-26T15:32:32.750588Z",
     "iopub.status.idle": "2023-01-26T15:32:32.758356Z",
     "shell.execute_reply": "2023-01-26T15:32:32.756806Z"
    },
    "papermill": {
     "duration": 0.021816,
     "end_time": "2023-01-26T15:32:32.760697",
     "exception": false,
     "start_time": "2023-01-26T15:32:32.738881",
     "status": "completed"
    },
    "tags": []
   },
   "outputs": [],
   "source": [
    "def maxIndex(A,r, i):\n",
    "    temp =A.transpose(0,1)@r\n",
    "    #print(temp)\n",
    "    print(temp.shape)\n",
    "    if len(temp.shape) == 1:\n",
    "        i.append(torch.argmax(temp).item())\n",
    "    else:\n",
    "        for k in range(temp.shape[0]):\n",
    "            i.append(torch.argmax(temp[k]).item())              \n",
    "    return list(set(i))"
   ]
  },
  {
   "cell_type": "markdown",
   "id": "299530bf",
   "metadata": {
    "papermill": {
     "duration": 0.009933,
     "end_time": "2023-01-26T15:32:32.781097",
     "exception": false,
     "start_time": "2023-01-26T15:32:32.771164",
     "status": "completed"
    },
    "tags": []
   },
   "source": [
    "### Iterations"
   ]
  },
  {
   "cell_type": "code",
   "execution_count": 22,
   "id": "70d8fada",
   "metadata": {
    "execution": {
     "iopub.execute_input": "2023-01-26T15:32:32.804791Z",
     "iopub.status.busy": "2023-01-26T15:32:32.803451Z",
     "iopub.status.idle": "2023-01-26T15:32:32.810918Z",
     "shell.execute_reply": "2023-01-26T15:32:32.809958Z"
    },
    "papermill": {
     "duration": 0.021819,
     "end_time": "2023-01-26T15:32:32.813561",
     "exception": false,
     "start_time": "2023-01-26T15:32:32.791742",
     "status": "completed"
    },
    "tags": []
   },
   "outputs": [],
   "source": [
    "def iterations(A_bar,y):\n",
    "    temp = A_bar.transpose(-1, 0).matmul(A_bar)\n",
    "    #print(temp)\n",
    "    #print(len(temp.shape))\n",
    "    if len(temp.shape) == 0:\n",
    "        x_bar = (temp)**(-1) * (A_bar.transpose(-1, 0)@y)\n",
    "        x_bar\n",
    "    else:\n",
    "        x_bar = torch.inverse(temp) @ (A_bar.transpose(-1, 0)@y)\n",
    "        x_bar\n",
    "    return x_bar"
   ]
  },
  {
   "cell_type": "code",
   "execution_count": 23,
   "id": "662e8250",
   "metadata": {
    "execution": {
     "iopub.execute_input": "2023-01-26T15:32:32.836928Z",
     "iopub.status.busy": "2023-01-26T15:32:32.836461Z",
     "iopub.status.idle": "2023-01-26T15:32:32.853601Z",
     "shell.execute_reply": "2023-01-26T15:32:32.852048Z"
    },
    "papermill": {
     "duration": 0.032702,
     "end_time": "2023-01-26T15:32:32.857076",
     "exception": false,
     "start_time": "2023-01-26T15:32:32.824374",
     "status": "completed"
    },
    "tags": []
   },
   "outputs": [
    {
     "name": "stdout",
     "output_type": "stream",
     "text": [
      "torch.Size([7, 3])\n",
      "torch.Size([7])\n",
      "torch.Size([3])\n",
      "[2]\n",
      "tensor([ 1.6857,  0.3714,  1.0571, -0.2571,  0.4286, -0.8857, -0.2000])\n",
      "torch.Size([3])\n",
      "[2]\n",
      "tensor([ 1.6857,  0.3714,  1.0571, -0.2571,  0.4286, -0.8857, -0.2000])\n",
      "torch.Size([3])\n",
      "[2]\n",
      "tensor([ 1.6857,  0.3714,  1.0571, -0.2571,  0.4286, -0.8857, -0.2000])\n",
      "torch.Size([3])\n",
      "[2]\n",
      "tensor([ 1.6857,  0.3714,  1.0571, -0.2571,  0.4286, -0.8857, -0.2000])\n",
      "torch.Size([3])\n",
      "[2]\n",
      "tensor([ 1.6857,  0.3714,  1.0571, -0.2571,  0.4286, -0.8857, -0.2000])\n",
      "torch.Size([3])\n",
      "[2]\n",
      "tensor([ 1.6857,  0.3714,  1.0571, -0.2571,  0.4286, -0.8857, -0.2000])\n"
     ]
    },
    {
     "data": {
      "text/plain": [
       "[0, 0, 1.1047619581222534]"
      ]
     },
     "execution_count": 23,
     "metadata": {},
     "output_type": "execute_result"
    }
   ],
   "source": [
    "'''\n",
    "    A = N X M Matrix\n",
    "    Y = 1 X N Matrix\n",
    "    K = Number of iterations\n",
    "\n",
    "'''\n",
    "\n",
    "def OMP(A,Y,K):\n",
    "    r = Y\n",
    "    x = [0 for i in range(A.shape[1])]\n",
    "    k = 0\n",
    "    Index = []\n",
    "    while k <= K:                 #torch.argmax(r).item()>0.01:\n",
    "        # Max Index\n",
    "        Index = maxIndex(A,r,Index)\n",
    "\n",
    "        # Augmented Matrix\n",
    "        A_bar =A [:,Index]\n",
    "\n",
    "        # Least Square value\n",
    "        X_bar = iterations(A_bar,Y)\n",
    "\n",
    "        # Residue\n",
    "        r = Y - A_bar @ X_bar\n",
    "        print(Index)\n",
    "        #print(X_bar)\n",
    "        print(r)\n",
    "        k +=1\n",
    "        \n",
    "    for i in range(len(X_bar)):\n",
    "        x[Index[i]] = X_bar[i].item()\n",
    "    return x \n",
    "\n",
    "print(A.shape)\n",
    "print(Y.shape)\n",
    "OMP(A,Y, K = 5)   "
   ]
  },
  {
   "cell_type": "code",
   "execution_count": 24,
   "id": "da278b0b",
   "metadata": {
    "execution": {
     "iopub.execute_input": "2023-01-26T15:32:32.880454Z",
     "iopub.status.busy": "2023-01-26T15:32:32.880044Z",
     "iopub.status.idle": "2023-01-26T15:32:32.889440Z",
     "shell.execute_reply": "2023-01-26T15:32:32.888273Z"
    },
    "papermill": {
     "duration": 0.024382,
     "end_time": "2023-01-26T15:32:32.892270",
     "exception": false,
     "start_time": "2023-01-26T15:32:32.867888",
     "status": "completed"
    },
    "tags": []
   },
   "outputs": [
    {
     "name": "stdout",
     "output_type": "stream",
     "text": [
      "torch.Size([4, 6])\n",
      "torch.Size([4])\n",
      "torch.Size([6])\n"
     ]
    },
    {
     "data": {
      "text/plain": [
       "[4]"
      ]
     },
     "execution_count": 24,
     "metadata": {},
     "output_type": "execute_result"
    }
   ],
   "source": [
    "i =[]\n",
    "print(a.shape)\n",
    "print(y.shape)\n",
    "maxIndex(a,y, i)"
   ]
  },
  {
   "cell_type": "code",
   "execution_count": 25,
   "id": "dec5231c",
   "metadata": {
    "execution": {
     "iopub.execute_input": "2023-01-26T15:32:32.915867Z",
     "iopub.status.busy": "2023-01-26T15:32:32.915433Z",
     "iopub.status.idle": "2023-01-26T15:32:32.926037Z",
     "shell.execute_reply": "2023-01-26T15:32:32.924070Z"
    },
    "papermill": {
     "duration": 0.025783,
     "end_time": "2023-01-26T15:32:32.929052",
     "exception": false,
     "start_time": "2023-01-26T15:32:32.903269",
     "status": "completed"
    },
    "tags": []
   },
   "outputs": [
    {
     "name": "stdout",
     "output_type": "stream",
     "text": [
      "torch.Size([7, 3])\n",
      "torch.Size([7])\n",
      "torch.Size([3])\n"
     ]
    },
    {
     "data": {
      "text/plain": [
       "[2]"
      ]
     },
     "execution_count": 25,
     "metadata": {},
     "output_type": "execute_result"
    }
   ],
   "source": [
    "print(A.shape)\n",
    "print(Y.shape)\n",
    "i =[]\n",
    "maxIndex(A, Y, i)"
   ]
  },
  {
   "cell_type": "code",
   "execution_count": 26,
   "id": "8c3719fe",
   "metadata": {
    "execution": {
     "iopub.execute_input": "2023-01-26T15:32:32.953377Z",
     "iopub.status.busy": "2023-01-26T15:32:32.952821Z",
     "iopub.status.idle": "2023-01-26T15:32:32.969008Z",
     "shell.execute_reply": "2023-01-26T15:32:32.967374Z"
    },
    "papermill": {
     "duration": 0.031163,
     "end_time": "2023-01-26T15:32:32.971693",
     "exception": false,
     "start_time": "2023-01-26T15:32:32.940530",
     "status": "completed"
    },
    "tags": []
   },
   "outputs": [
    {
     "name": "stdout",
     "output_type": "stream",
     "text": [
      "torch.Size([4, 6])\n",
      "torch.Size([4])\n",
      "torch.Size([6])\n",
      "[4]\n",
      "tensor([ 0.,  2., -1.,  1.])\n",
      "torch.Size([6])\n",
      "[1, 4]\n",
      "tensor([ 0.0000e+00, -2.3842e-07,  0.0000e+00,  0.0000e+00])\n",
      "torch.Size([6])\n",
      "[0, 1, 4]\n",
      "tensor([0., 0., 0., 0.])\n",
      "torch.Size([6])\n",
      "[0, 1, 4]\n",
      "tensor([0., 0., 0., 0.])\n",
      "torch.Size([6])\n",
      "[0, 1, 4]\n",
      "tensor([0., 0., 0., 0.])\n",
      "torch.Size([6])\n",
      "[0, 1, 4]\n",
      "tensor([0., 0., 0., 0.])\n"
     ]
    },
    {
     "data": {
      "text/plain": [
       "[0.0, 2.0, 0, 0, 3.0, 0]"
      ]
     },
     "execution_count": 26,
     "metadata": {},
     "output_type": "execute_result"
    }
   ],
   "source": [
    "print(a.shape)\n",
    "print(y.shape)\n",
    "OMP(a,y, 5)"
   ]
  }
 ],
 "metadata": {
  "kernelspec": {
   "display_name": "Python 3",
   "language": "python",
   "name": "python3"
  },
  "language_info": {
   "codemirror_mode": {
    "name": "ipython",
    "version": 3
   },
   "file_extension": ".py",
   "mimetype": "text/x-python",
   "name": "python",
   "nbconvert_exporter": "python",
   "pygments_lexer": "ipython3",
   "version": "3.7.12"
  },
  "papermill": {
   "default_parameters": {},
   "duration": 15.58554,
   "end_time": "2023-01-26T15:32:33.906323",
   "environment_variables": {},
   "exception": null,
   "input_path": "__notebook__.ipynb",
   "output_path": "__notebook__.ipynb",
   "parameters": {},
   "start_time": "2023-01-26T15:32:18.320783",
   "version": "2.3.4"
  }
 },
 "nbformat": 4,
 "nbformat_minor": 5
}
