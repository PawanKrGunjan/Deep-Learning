{
 "cells": [
  {
   "cell_type": "code",
   "execution_count": 1,
   "id": "4786943e",
   "metadata": {
    "execution": {
     "iopub.execute_input": "2023-04-04T09:20:36.228989Z",
     "iopub.status.busy": "2023-04-04T09:20:36.228549Z",
     "iopub.status.idle": "2023-04-04T09:20:38.712487Z",
     "shell.execute_reply": "2023-04-04T09:20:38.711165Z"
    },
    "papermill": {
     "duration": 2.499954,
     "end_time": "2023-04-04T09:20:38.715737",
     "exception": false,
     "start_time": "2023-04-04T09:20:36.215783",
     "status": "completed"
    },
    "tags": []
   },
   "outputs": [],
   "source": [
    "import torch"
   ]
  },
  {
   "cell_type": "code",
   "execution_count": 2,
   "id": "77b94af9",
   "metadata": {
    "execution": {
     "iopub.execute_input": "2023-04-04T09:20:38.739998Z",
     "iopub.status.busy": "2023-04-04T09:20:38.738896Z",
     "iopub.status.idle": "2023-04-04T09:20:38.842759Z",
     "shell.execute_reply": "2023-04-04T09:20:38.841790Z"
    },
    "papermill": {
     "duration": 0.117696,
     "end_time": "2023-04-04T09:20:38.845358",
     "exception": false,
     "start_time": "2023-04-04T09:20:38.727662",
     "status": "completed"
    },
    "tags": []
   },
   "outputs": [
    {
     "data": {
      "text/plain": [
       "tensor(4., requires_grad=True)"
      ]
     },
     "execution_count": 2,
     "metadata": {},
     "output_type": "execute_result"
    }
   ],
   "source": [
    "x=torch.tensor(4.0,requires_grad=True)\n",
    "x"
   ]
  },
  {
   "cell_type": "code",
   "execution_count": 3,
   "id": "8a870d92",
   "metadata": {
    "execution": {
     "iopub.execute_input": "2023-04-04T09:20:38.867516Z",
     "iopub.status.busy": "2023-04-04T09:20:38.867038Z",
     "iopub.status.idle": "2023-04-04T09:20:38.884454Z",
     "shell.execute_reply": "2023-04-04T09:20:38.883022Z"
    },
    "papermill": {
     "duration": 0.031844,
     "end_time": "2023-04-04T09:20:38.887307",
     "exception": false,
     "start_time": "2023-04-04T09:20:38.855463",
     "status": "completed"
    },
    "tags": []
   },
   "outputs": [
    {
     "data": {
      "text/plain": [
       "tensor(37., grad_fn=<AddBackward0>)"
      ]
     },
     "execution_count": 3,
     "metadata": {},
     "output_type": "execute_result"
    }
   ],
   "source": [
    "y=2*(x**2)+5\n",
    "y"
   ]
  },
  {
   "cell_type": "code",
   "execution_count": 4,
   "id": "8555d9de",
   "metadata": {
    "execution": {
     "iopub.execute_input": "2023-04-04T09:20:38.909859Z",
     "iopub.status.busy": "2023-04-04T09:20:38.909450Z",
     "iopub.status.idle": "2023-04-04T09:20:38.923225Z",
     "shell.execute_reply": "2023-04-04T09:20:38.921866Z"
    },
    "papermill": {
     "duration": 0.028804,
     "end_time": "2023-04-04T09:20:38.926382",
     "exception": false,
     "start_time": "2023-04-04T09:20:38.897578",
     "status": "completed"
    },
    "tags": []
   },
   "outputs": [],
   "source": [
    "# Back propogation y=2*x\n",
    "y.backward()"
   ]
  },
  {
   "cell_type": "code",
   "execution_count": 5,
   "id": "9f9b5d19",
   "metadata": {
    "execution": {
     "iopub.execute_input": "2023-04-04T09:20:38.948737Z",
     "iopub.status.busy": "2023-04-04T09:20:38.948322Z",
     "iopub.status.idle": "2023-04-04T09:20:38.956189Z",
     "shell.execute_reply": "2023-04-04T09:20:38.954602Z"
    },
    "papermill": {
     "duration": 0.022021,
     "end_time": "2023-04-04T09:20:38.958691",
     "exception": false,
     "start_time": "2023-04-04T09:20:38.936670",
     "status": "completed"
    },
    "tags": []
   },
   "outputs": [
    {
     "name": "stdout",
     "output_type": "stream",
     "text": [
      "tensor(16.)\n"
     ]
    }
   ],
   "source": [
    "print(x.grad)"
   ]
  },
  {
   "cell_type": "code",
   "execution_count": 6,
   "id": "43050bd0",
   "metadata": {
    "execution": {
     "iopub.execute_input": "2023-04-04T09:20:38.982308Z",
     "iopub.status.busy": "2023-04-04T09:20:38.981832Z",
     "iopub.status.idle": "2023-04-04T09:20:38.989833Z",
     "shell.execute_reply": "2023-04-04T09:20:38.988713Z"
    },
    "papermill": {
     "duration": 0.02268,
     "end_time": "2023-04-04T09:20:38.992470",
     "exception": false,
     "start_time": "2023-04-04T09:20:38.969790",
     "status": "completed"
    },
    "tags": []
   },
   "outputs": [
    {
     "name": "stdout",
     "output_type": "stream",
     "text": [
      "tensor(20.)\n"
     ]
    }
   ],
   "source": [
    "# Import the torch library\n",
    "import torch \n",
    "\n",
    "\n",
    "# Assign any value for x as tensor form\n",
    "# Set requires_grad=True So, that autograd will record the operations\n",
    "x=torch.tensor(5.0,requires_grad=True)\n",
    "\n",
    "# Define the equation\n",
    "f = 2*(x**2)+5\n",
    "\n",
    "# Differentiate using torch\n",
    "#Uses backward function to compute the gradient value\n",
    "f.backward()\n",
    "\n",
    "# Print the derivative value of y i.e dy/dx = 4x  = 4 X 4 = 16\n",
    "print(x.grad)"
   ]
  },
  {
   "cell_type": "code",
   "execution_count": 7,
   "id": "d9e6dfa1",
   "metadata": {
    "execution": {
     "iopub.execute_input": "2023-04-04T09:20:39.016144Z",
     "iopub.status.busy": "2023-04-04T09:20:39.015183Z",
     "iopub.status.idle": "2023-04-04T09:20:39.025037Z",
     "shell.execute_reply": "2023-04-04T09:20:39.023742Z"
    },
    "papermill": {
     "duration": 0.024964,
     "end_time": "2023-04-04T09:20:39.027859",
     "exception": false,
     "start_time": "2023-04-04T09:20:39.002895",
     "status": "completed"
    },
    "tags": []
   },
   "outputs": [
    {
     "name": "stdout",
     "output_type": "stream",
     "text": [
      "tensor([20.])\n"
     ]
    }
   ],
   "source": [
    "# Import the necessary modules\n",
    "import torch\n",
    "from torch.autograd import grad\n",
    "\n",
    "# Define the function f\n",
    "def f(x):\n",
    "    return 2 *(x ** 2) + 5\n",
    "\n",
    "# Create a tensor x and set requires_grad=True to track the gradient\n",
    "x = torch.tensor([5.0], requires_grad=True)\n",
    "\n",
    "# Compute the gradient of f with respect to x\n",
    "grad_f = grad(f(x), x)[0]\n",
    "\n",
    "# Print the gradient\n",
    "print(grad_f)"
   ]
  },
  {
   "cell_type": "code",
   "execution_count": 8,
   "id": "9983138f",
   "metadata": {
    "execution": {
     "iopub.execute_input": "2023-04-04T09:20:39.051615Z",
     "iopub.status.busy": "2023-04-04T09:20:39.050782Z",
     "iopub.status.idle": "2023-04-04T09:20:39.066171Z",
     "shell.execute_reply": "2023-04-04T09:20:39.064616Z"
    },
    "papermill": {
     "duration": 0.030275,
     "end_time": "2023-04-04T09:20:39.068839",
     "exception": false,
     "start_time": "2023-04-04T09:20:39.038564",
     "status": "completed"
    },
    "tags": []
   },
   "outputs": [
    {
     "name": "stdout",
     "output_type": "stream",
     "text": [
      "tensor([[20.]])\n"
     ]
    }
   ],
   "source": [
    "# Import the necessary modules\n",
    "import torch\n",
    "from torch.autograd.functional import jacobian\n",
    "\n",
    "# Define the function f\n",
    "def f(x):\n",
    "    return 2 *(x ** 2) + 5\n",
    "\n",
    "# Create a tensor x and set requires_grad=True to track the gradient\n",
    "x = torch.tensor([5.0], requires_grad=True)\n",
    "\n",
    "# Compute the gradient of f with respect to x\n",
    "grad_f = jacobian(f, x)\n",
    "\n",
    "# Print the gradient\n",
    "print(grad_f)"
   ]
  },
  {
   "cell_type": "code",
   "execution_count": 9,
   "id": "eebce067",
   "metadata": {
    "execution": {
     "iopub.execute_input": "2023-04-04T09:20:39.092200Z",
     "iopub.status.busy": "2023-04-04T09:20:39.091767Z",
     "iopub.status.idle": "2023-04-04T09:20:39.110498Z",
     "shell.execute_reply": "2023-04-04T09:20:39.109170Z"
    },
    "papermill": {
     "duration": 0.033768,
     "end_time": "2023-04-04T09:20:39.113274",
     "exception": false,
     "start_time": "2023-04-04T09:20:39.079506",
     "status": "completed"
    },
    "tags": []
   },
   "outputs": [
    {
     "name": "stdout",
     "output_type": "stream",
     "text": [
      "tensor([[1., 1., 1., 1.],\n",
      "        [1., 1., 1., 1.],\n",
      "        [1., 1., 1., 1.]])\n"
     ]
    },
    {
     "data": {
      "text/plain": [
       "(tensor([[1., 1., 1., 1.],\n",
       "         [1., 1., 1., 1.],\n",
       "         [1., 1., 1., 1.]]),)"
      ]
     },
     "execution_count": 9,
     "metadata": {},
     "output_type": "execute_result"
    }
   ],
   "source": [
    "import torch\n",
    "\n",
    "# Create a tensor with random values\n",
    "x = torch.rand(3, 4, requires_grad=True)\n",
    "\n",
    "# Define a function that takes in a tensor and returns\n",
    "# a scalar value (the sum of all the elements in the tensor)\n",
    "def f(x):\n",
    "    return x.sum()\n",
    "\n",
    "# Calculate the gradient of the function with respect to the tensor x\n",
    "grad = torch.autograd.grad(f(x), x)\n",
    "grad_f = jacobian(f, x)\n",
    "print(grad_f)\n",
    "grad"
   ]
  },
  {
   "cell_type": "code",
   "execution_count": null,
   "id": "5ae02f00",
   "metadata": {
    "papermill": {
     "duration": 0.011171,
     "end_time": "2023-04-04T09:20:39.135667",
     "exception": false,
     "start_time": "2023-04-04T09:20:39.124496",
     "status": "completed"
    },
    "tags": []
   },
   "outputs": [],
   "source": []
  },
  {
   "cell_type": "code",
   "execution_count": 10,
   "id": "d536813a",
   "metadata": {
    "execution": {
     "iopub.execute_input": "2023-04-04T09:20:39.159818Z",
     "iopub.status.busy": "2023-04-04T09:20:39.159406Z",
     "iopub.status.idle": "2023-04-04T09:20:39.165670Z",
     "shell.execute_reply": "2023-04-04T09:20:39.164440Z"
    },
    "papermill": {
     "duration": 0.021537,
     "end_time": "2023-04-04T09:20:39.168122",
     "exception": false,
     "start_time": "2023-04-04T09:20:39.146585",
     "status": "completed"
    },
    "tags": []
   },
   "outputs": [],
   "source": [
    "lst=[[2.,3.,1.],[4.,5.,3.],[7.,6.,4.]]\n",
    "torch_input=torch.tensor(lst,requires_grad=True)"
   ]
  },
  {
   "cell_type": "code",
   "execution_count": 11,
   "id": "902b2327",
   "metadata": {
    "execution": {
     "iopub.execute_input": "2023-04-04T09:20:39.192244Z",
     "iopub.status.busy": "2023-04-04T09:20:39.191143Z",
     "iopub.status.idle": "2023-04-04T09:20:39.198787Z",
     "shell.execute_reply": "2023-04-04T09:20:39.197716Z"
    },
    "papermill": {
     "duration": 0.022209,
     "end_time": "2023-04-04T09:20:39.201149",
     "exception": false,
     "start_time": "2023-04-04T09:20:39.178940",
     "status": "completed"
    },
    "tags": []
   },
   "outputs": [
    {
     "data": {
      "text/plain": [
       "tensor([[2., 3., 1.],\n",
       "        [4., 5., 3.],\n",
       "        [7., 6., 4.]], requires_grad=True)"
      ]
     },
     "execution_count": 11,
     "metadata": {},
     "output_type": "execute_result"
    }
   ],
   "source": [
    "torch_input"
   ]
  },
  {
   "cell_type": "code",
   "execution_count": 12,
   "id": "288cfda1",
   "metadata": {
    "execution": {
     "iopub.execute_input": "2023-04-04T09:20:39.226043Z",
     "iopub.status.busy": "2023-04-04T09:20:39.225209Z",
     "iopub.status.idle": "2023-04-04T09:20:39.232738Z",
     "shell.execute_reply": "2023-04-04T09:20:39.231775Z"
    },
    "papermill": {
     "duration": 0.022851,
     "end_time": "2023-04-04T09:20:39.235124",
     "exception": false,
     "start_time": "2023-04-04T09:20:39.212273",
     "status": "completed"
    },
    "tags": []
   },
   "outputs": [
    {
     "data": {
      "text/plain": [
       "tensor([[0.8173, 0.0251, 0.0599, 1.8155],\n",
       "        [0.8897, 0.4459, 0.2522, 0.0572],\n",
       "        [0.0083, 1.0908, 0.2302, 1.2340]], grad_fn=<AddBackward0>)"
      ]
     },
     "execution_count": 12,
     "metadata": {},
     "output_type": "execute_result"
    }
   ],
   "source": [
    "y=x**3+x**2\n",
    "### y=3x**2+2x--->\n",
    "#y=torch_input**3+torch_input**2\n",
    "y"
   ]
  },
  {
   "cell_type": "code",
   "execution_count": 13,
   "id": "3c31b1ca",
   "metadata": {
    "execution": {
     "iopub.execute_input": "2023-04-04T09:20:39.261013Z",
     "iopub.status.busy": "2023-04-04T09:20:39.259861Z",
     "iopub.status.idle": "2023-04-04T09:20:39.268489Z",
     "shell.execute_reply": "2023-04-04T09:20:39.267303Z"
    },
    "papermill": {
     "duration": 0.024547,
     "end_time": "2023-04-04T09:20:39.271048",
     "exception": false,
     "start_time": "2023-04-04T09:20:39.246501",
     "status": "completed"
    },
    "tags": []
   },
   "outputs": [
    {
     "data": {
      "text/plain": [
       "tensor(6.9260, grad_fn=<SumBackward0>)"
      ]
     },
     "execution_count": 13,
     "metadata": {},
     "output_type": "execute_result"
    }
   ],
   "source": [
    "z=y.sum()\n",
    "z"
   ]
  },
  {
   "cell_type": "code",
   "execution_count": 14,
   "id": "9a40cada",
   "metadata": {
    "execution": {
     "iopub.execute_input": "2023-04-04T09:20:39.296194Z",
     "iopub.status.busy": "2023-04-04T09:20:39.295411Z",
     "iopub.status.idle": "2023-04-04T09:20:39.301376Z",
     "shell.execute_reply": "2023-04-04T09:20:39.300139Z"
    },
    "papermill": {
     "duration": 0.020984,
     "end_time": "2023-04-04T09:20:39.303555",
     "exception": false,
     "start_time": "2023-04-04T09:20:39.282571",
     "status": "completed"
    },
    "tags": []
   },
   "outputs": [],
   "source": [
    "z.backward()"
   ]
  },
  {
   "cell_type": "code",
   "execution_count": 15,
   "id": "b009efe7",
   "metadata": {
    "execution": {
     "iopub.execute_input": "2023-04-04T09:20:39.329313Z",
     "iopub.status.busy": "2023-04-04T09:20:39.328578Z",
     "iopub.status.idle": "2023-04-04T09:20:39.334329Z",
     "shell.execute_reply": "2023-04-04T09:20:39.333004Z"
    },
    "papermill": {
     "duration": 0.021751,
     "end_time": "2023-04-04T09:20:39.336734",
     "exception": false,
     "start_time": "2023-04-04T09:20:39.314983",
     "status": "completed"
    },
    "tags": []
   },
   "outputs": [],
   "source": [
    "torch_input.grad"
   ]
  },
  {
   "cell_type": "code",
   "execution_count": 16,
   "id": "4c498d4b",
   "metadata": {
    "execution": {
     "iopub.execute_input": "2023-04-04T09:20:39.362581Z",
     "iopub.status.busy": "2023-04-04T09:20:39.361824Z",
     "iopub.status.idle": "2023-04-04T09:20:39.369832Z",
     "shell.execute_reply": "2023-04-04T09:20:39.368580Z"
    },
    "papermill": {
     "duration": 0.024179,
     "end_time": "2023-04-04T09:20:39.372396",
     "exception": false,
     "start_time": "2023-04-04T09:20:39.348217",
     "status": "completed"
    },
    "tags": []
   },
   "outputs": [
    {
     "data": {
      "text/plain": [
       "tensor([[0.8173, 0.0251, 0.0599, 1.8155],\n",
       "        [0.8897, 0.4459, 0.2522, 0.0572],\n",
       "        [0.0083, 1.0908, 0.2302, 1.2340]], grad_fn=<AddBackward0>)"
      ]
     },
     "execution_count": 16,
     "metadata": {},
     "output_type": "execute_result"
    }
   ],
   "source": [
    "#y.backward()\n",
    "x\n",
    "y"
   ]
  },
  {
   "cell_type": "code",
   "execution_count": 17,
   "id": "e86c2114",
   "metadata": {
    "execution": {
     "iopub.execute_input": "2023-04-04T09:20:39.398005Z",
     "iopub.status.busy": "2023-04-04T09:20:39.397595Z",
     "iopub.status.idle": "2023-04-04T09:20:39.406397Z",
     "shell.execute_reply": "2023-04-04T09:20:39.404763Z"
    },
    "papermill": {
     "duration": 0.024778,
     "end_time": "2023-04-04T09:20:39.408976",
     "exception": false,
     "start_time": "2023-04-04T09:20:39.384198",
     "status": "completed"
    },
    "tags": []
   },
   "outputs": [
    {
     "name": "stdout",
     "output_type": "stream",
     "text": [
      "tensor([4.])\n"
     ]
    }
   ],
   "source": [
    "# Import the necessary modules\n",
    "import torch\n",
    "from torch.autograd import grad\n",
    "\n",
    "# Define the function f\n",
    "def f(x):\n",
    "    return x ** 2\n",
    "\n",
    "# Create a tensor x and set requires_grad=True to track the gradient\n",
    "x = torch.tensor([2.0], requires_grad=True)\n",
    "\n",
    "# Compute the gradient of f with respect to x\n",
    "grad_f = grad(f(x), x)[0]\n",
    "\n",
    "# Print the gradient\n",
    "print(grad_f)"
   ]
  },
  {
   "cell_type": "code",
   "execution_count": 18,
   "id": "da50270a",
   "metadata": {
    "execution": {
     "iopub.execute_input": "2023-04-04T09:20:39.434853Z",
     "iopub.status.busy": "2023-04-04T09:20:39.434455Z",
     "iopub.status.idle": "2023-04-04T09:20:39.444722Z",
     "shell.execute_reply": "2023-04-04T09:20:39.443405Z"
    },
    "papermill": {
     "duration": 0.026289,
     "end_time": "2023-04-04T09:20:39.447265",
     "exception": false,
     "start_time": "2023-04-04T09:20:39.420976",
     "status": "completed"
    },
    "tags": []
   },
   "outputs": [
    {
     "data": {
      "text/plain": [
       "(tensor([[1., 1., 1., 1.],\n",
       "         [1., 1., 1., 1.],\n",
       "         [1., 1., 1., 1.]]),)"
      ]
     },
     "execution_count": 18,
     "metadata": {},
     "output_type": "execute_result"
    }
   ],
   "source": [
    "import torch\n",
    "\n",
    "# Create a tensor with random values\n",
    "x = torch.rand(3, 4, requires_grad=True)\n",
    "\n",
    "# Define a function that takes in a tensor and returns\n",
    "# a scalar value (the sum of all the elements in the tensor)\n",
    "def f(x):\n",
    "    return x.sum()\n",
    "\n",
    "# Calculate the gradient of the function with respect to the tensor x\n",
    "grad = torch.autograd.grad(f(x), x)\n",
    "grad"
   ]
  },
  {
   "cell_type": "code",
   "execution_count": 19,
   "id": "3f341f58",
   "metadata": {
    "execution": {
     "iopub.execute_input": "2023-04-04T09:20:39.473871Z",
     "iopub.status.busy": "2023-04-04T09:20:39.472706Z",
     "iopub.status.idle": "2023-04-04T09:20:39.478593Z",
     "shell.execute_reply": "2023-04-04T09:20:39.477222Z"
    },
    "papermill": {
     "duration": 0.021644,
     "end_time": "2023-04-04T09:20:39.480973",
     "exception": false,
     "start_time": "2023-04-04T09:20:39.459329",
     "status": "completed"
    },
    "tags": []
   },
   "outputs": [],
   "source": [
    "import torch"
   ]
  },
  {
   "cell_type": "code",
   "execution_count": 20,
   "id": "1fe0cc71",
   "metadata": {
    "execution": {
     "iopub.execute_input": "2023-04-04T09:20:39.506790Z",
     "iopub.status.busy": "2023-04-04T09:20:39.506309Z",
     "iopub.status.idle": "2023-04-04T09:20:39.517730Z",
     "shell.execute_reply": "2023-04-04T09:20:39.516494Z"
    },
    "papermill": {
     "duration": 0.027104,
     "end_time": "2023-04-04T09:20:39.520035",
     "exception": false,
     "start_time": "2023-04-04T09:20:39.492931",
     "status": "completed"
    },
    "tags": []
   },
   "outputs": [
    {
     "data": {
      "text/plain": [
       "tensor([[1., 2., 3.],\n",
       "        [4., 5., 6.]], requires_grad=True)"
      ]
     },
     "execution_count": 20,
     "metadata": {},
     "output_type": "execute_result"
    }
   ],
   "source": [
    "x = torch_input=torch.tensor([[1.0,2.0,3.0],[4.0,5.0,6.0]],requires_grad=True)\n",
    "x"
   ]
  },
  {
   "cell_type": "code",
   "execution_count": 21,
   "id": "dbd46809",
   "metadata": {
    "execution": {
     "iopub.execute_input": "2023-04-04T09:20:39.545970Z",
     "iopub.status.busy": "2023-04-04T09:20:39.545523Z",
     "iopub.status.idle": "2023-04-04T09:20:39.555012Z",
     "shell.execute_reply": "2023-04-04T09:20:39.553917Z"
    },
    "papermill": {
     "duration": 0.025249,
     "end_time": "2023-04-04T09:20:39.557375",
     "exception": false,
     "start_time": "2023-04-04T09:20:39.532126",
     "status": "completed"
    },
    "tags": []
   },
   "outputs": [
    {
     "data": {
      "text/plain": [
       "tensor([[ 24.,  60., 130.],\n",
       "        [246., 420., 664.]], grad_fn=<AddBackward0>)"
      ]
     },
     "execution_count": 21,
     "metadata": {},
     "output_type": "execute_result"
    }
   ],
   "source": [
    "def f(x):\n",
    "    return 2*(x**3) + 5*(x**2) + 7*x + 10\n",
    "\n",
    "f(x)"
   ]
  },
  {
   "cell_type": "code",
   "execution_count": 22,
   "id": "54e6d4b6",
   "metadata": {
    "execution": {
     "iopub.execute_input": "2023-04-04T09:20:39.583734Z",
     "iopub.status.busy": "2023-04-04T09:20:39.583248Z",
     "iopub.status.idle": "2023-04-04T09:20:39.592618Z",
     "shell.execute_reply": "2023-04-04T09:20:39.591298Z"
    },
    "papermill": {
     "duration": 0.025387,
     "end_time": "2023-04-04T09:20:39.595072",
     "exception": false,
     "start_time": "2023-04-04T09:20:39.569685",
     "status": "completed"
    },
    "tags": []
   },
   "outputs": [
    {
     "data": {
      "text/plain": [
       "tensor(1544., grad_fn=<AddBackward0>)"
      ]
     },
     "execution_count": 22,
     "metadata": {},
     "output_type": "execute_result"
    }
   ],
   "source": [
    "sum(sum(f(x)))"
   ]
  },
  {
   "cell_type": "code",
   "execution_count": 23,
   "id": "df70d1bc",
   "metadata": {
    "execution": {
     "iopub.execute_input": "2023-04-04T09:20:39.624088Z",
     "iopub.status.busy": "2023-04-04T09:20:39.623624Z",
     "iopub.status.idle": "2023-04-04T09:20:39.633434Z",
     "shell.execute_reply": "2023-04-04T09:20:39.632479Z"
    },
    "papermill": {
     "duration": 0.026787,
     "end_time": "2023-04-04T09:20:39.635771",
     "exception": false,
     "start_time": "2023-04-04T09:20:39.608984",
     "status": "completed"
    },
    "tags": []
   },
   "outputs": [
    {
     "data": {
      "text/plain": [
       "tensor(1544., grad_fn=<SumBackward0>)"
      ]
     },
     "execution_count": 23,
     "metadata": {},
     "output_type": "execute_result"
    }
   ],
   "source": [
    "z=f(x).sum()\n",
    "z"
   ]
  },
  {
   "cell_type": "code",
   "execution_count": 24,
   "id": "41753c15",
   "metadata": {
    "execution": {
     "iopub.execute_input": "2023-04-04T09:20:39.662786Z",
     "iopub.status.busy": "2023-04-04T09:20:39.662322Z",
     "iopub.status.idle": "2023-04-04T09:20:39.670170Z",
     "shell.execute_reply": "2023-04-04T09:20:39.668552Z"
    },
    "papermill": {
     "duration": 0.024459,
     "end_time": "2023-04-04T09:20:39.672796",
     "exception": false,
     "start_time": "2023-04-04T09:20:39.648337",
     "status": "completed"
    },
    "tags": []
   },
   "outputs": [
    {
     "name": "stdout",
     "output_type": "stream",
     "text": [
      "(tensor([[ 23.,  51.,  91.],\n",
      "        [143., 207., 283.]]),)\n"
     ]
    }
   ],
   "source": [
    "grad_f = torch.autograd.grad(z, x)\n",
    "print(grad_f)"
   ]
  },
  {
   "cell_type": "code",
   "execution_count": 25,
   "id": "26b41ea1",
   "metadata": {
    "execution": {
     "iopub.execute_input": "2023-04-04T09:20:39.700906Z",
     "iopub.status.busy": "2023-04-04T09:20:39.700464Z",
     "iopub.status.idle": "2023-04-04T09:20:39.711867Z",
     "shell.execute_reply": "2023-04-04T09:20:39.710911Z"
    },
    "papermill": {
     "duration": 0.027966,
     "end_time": "2023-04-04T09:20:39.714021",
     "exception": false,
     "start_time": "2023-04-04T09:20:39.686055",
     "status": "completed"
    },
    "tags": []
   },
   "outputs": [
    {
     "name": "stdout",
     "output_type": "stream",
     "text": [
      "torch.Size([2, 3, 2, 3])\n"
     ]
    },
    {
     "data": {
      "text/plain": [
       "tensor([[[[ 23.,   0.,   0.],\n",
       "          [  0.,   0.,   0.]],\n",
       "\n",
       "         [[  0.,  51.,   0.],\n",
       "          [  0.,   0.,   0.]],\n",
       "\n",
       "         [[  0.,   0.,  91.],\n",
       "          [  0.,   0.,   0.]]],\n",
       "\n",
       "\n",
       "        [[[  0.,   0.,   0.],\n",
       "          [143.,   0.,   0.]],\n",
       "\n",
       "         [[  0.,   0.,   0.],\n",
       "          [  0., 207.,   0.]],\n",
       "\n",
       "         [[  0.,   0.,   0.],\n",
       "          [  0.,   0., 283.]]]])"
      ]
     },
     "execution_count": 25,
     "metadata": {},
     "output_type": "execute_result"
    }
   ],
   "source": [
    "#from torch.autograd.functional import jacobian\n",
    "\n",
    "gred = torch.autograd.functional.jacobian(f, x)\n",
    "print(gred.shape)\n",
    "gred"
   ]
  },
  {
   "cell_type": "code",
   "execution_count": 26,
   "id": "e73c5d10",
   "metadata": {
    "execution": {
     "iopub.execute_input": "2023-04-04T09:20:39.741801Z",
     "iopub.status.busy": "2023-04-04T09:20:39.741336Z",
     "iopub.status.idle": "2023-04-04T09:20:39.748800Z",
     "shell.execute_reply": "2023-04-04T09:20:39.747563Z"
    },
    "papermill": {
     "duration": 0.024192,
     "end_time": "2023-04-04T09:20:39.751155",
     "exception": false,
     "start_time": "2023-04-04T09:20:39.726963",
     "status": "completed"
    },
    "tags": []
   },
   "outputs": [
    {
     "data": {
      "text/plain": [
       "torch.Size([2, 3, 2, 3])"
      ]
     },
     "execution_count": 26,
     "metadata": {},
     "output_type": "execute_result"
    }
   ],
   "source": [
    "gred.shape"
   ]
  },
  {
   "cell_type": "code",
   "execution_count": 27,
   "id": "18e5a879",
   "metadata": {
    "execution": {
     "iopub.execute_input": "2023-04-04T09:20:39.779661Z",
     "iopub.status.busy": "2023-04-04T09:20:39.778811Z",
     "iopub.status.idle": "2023-04-04T09:20:39.786340Z",
     "shell.execute_reply": "2023-04-04T09:20:39.784946Z"
    },
    "papermill": {
     "duration": 0.024624,
     "end_time": "2023-04-04T09:20:39.788983",
     "exception": false,
     "start_time": "2023-04-04T09:20:39.764359",
     "status": "completed"
    },
    "tags": []
   },
   "outputs": [
    {
     "name": "stdout",
     "output_type": "stream",
     "text": [
      "tensor([[ 23.,  51.,  91.],\n",
      "        [143., 207., 283.]], grad_fn=<AddBackward0>)\n"
     ]
    }
   ],
   "source": [
    "df = 6*x**2 + 10*x + 7\n",
    "print(df)"
   ]
  },
  {
   "cell_type": "code",
   "execution_count": 28,
   "id": "ab9eb947",
   "metadata": {
    "execution": {
     "iopub.execute_input": "2023-04-04T09:20:39.818332Z",
     "iopub.status.busy": "2023-04-04T09:20:39.817867Z",
     "iopub.status.idle": "2023-04-04T09:20:39.822707Z",
     "shell.execute_reply": "2023-04-04T09:20:39.821424Z"
    },
    "papermill": {
     "duration": 0.022502,
     "end_time": "2023-04-04T09:20:39.825086",
     "exception": false,
     "start_time": "2023-04-04T09:20:39.802584",
     "status": "completed"
    },
    "tags": []
   },
   "outputs": [],
   "source": [
    "#torch.autograd.functional.jacobian(f(x), x)"
   ]
  },
  {
   "cell_type": "code",
   "execution_count": 29,
   "id": "83d9bf4f",
   "metadata": {
    "execution": {
     "iopub.execute_input": "2023-04-04T09:20:39.854224Z",
     "iopub.status.busy": "2023-04-04T09:20:39.853773Z",
     "iopub.status.idle": "2023-04-04T09:20:39.862998Z",
     "shell.execute_reply": "2023-04-04T09:20:39.861532Z"
    },
    "papermill": {
     "duration": 0.027194,
     "end_time": "2023-04-04T09:20:39.865623",
     "exception": false,
     "start_time": "2023-04-04T09:20:39.838429",
     "status": "completed"
    },
    "tags": []
   },
   "outputs": [
    {
     "name": "stdout",
     "output_type": "stream",
     "text": [
      "tensor([[ 23.,  51.,  91.],\n",
      "        [143., 207., 283.]])\n"
     ]
    }
   ],
   "source": [
    "# import the library\n",
    "import torch\n",
    "\n",
    "# Assign the input variable\n",
    "x = torch_input=torch.tensor([[1.0,2.0,3.0],[4.0,5.0,6.0]],requires_grad=True)\n",
    "\n",
    "# define the function\n",
    "def f(x):\n",
    "    return 2*(x**3) + 5*(x**2) + 7*x + 10\n",
    "\n",
    "# Assign the sum to another varibale z\n",
    "z=f(x).sum()\n",
    "\n",
    "# Compute the gradient\n",
    "z.backward()\n",
    "\n",
    "# Find the gradient value\n",
    "print(x.grad)\n",
    "\n"
   ]
  },
  {
   "cell_type": "markdown",
   "id": "9c760b4c",
   "metadata": {
    "papermill": {
     "duration": 0.012964,
     "end_time": "2023-04-04T09:20:39.891929",
     "exception": false,
     "start_time": "2023-04-04T09:20:39.878965",
     "status": "completed"
    },
    "tags": []
   },
   "source": [
    "## Partial differentiation"
   ]
  },
  {
   "cell_type": "code",
   "execution_count": 30,
   "id": "af48ab1a",
   "metadata": {
    "execution": {
     "iopub.execute_input": "2023-04-04T09:20:39.920860Z",
     "iopub.status.busy": "2023-04-04T09:20:39.920395Z",
     "iopub.status.idle": "2023-04-04T09:20:39.932962Z",
     "shell.execute_reply": "2023-04-04T09:20:39.931346Z"
    },
    "papermill": {
     "duration": 0.030181,
     "end_time": "2023-04-04T09:20:39.935626",
     "exception": false,
     "start_time": "2023-04-04T09:20:39.905445",
     "status": "completed"
    },
    "tags": []
   },
   "outputs": [
    {
     "name": "stdout",
     "output_type": "stream",
     "text": [
      "df(x,y)/dx =  tensor([[ 4.,  8., 12.],\n",
      "        [16., 20., 24.]])\n",
      "\n",
      "df(x,y)/dy =  tensor([[ 50.,  60.,  70.],\n",
      "        [ 80.,  90., 100.]])\n"
     ]
    }
   ],
   "source": [
    "# import the library\n",
    "import torch\n",
    "from torch.autograd import grad\n",
    "\n",
    "# Assign the input variable\n",
    "x = torch_input=torch.tensor([[1.0,2.0,3.0],[4.0,5.0,6.0]],requires_grad=True)\n",
    "y = torch_input=torch.tensor([[5.0,6.0,7.0],[8.0,9.0,10.0]],requires_grad=True)\n",
    "\n",
    "# define the function\n",
    "def f(x,y):\n",
    "    return 2*(x**2) + 5*(y**2)\n",
    "\n",
    "# Assign the sum to another varibale z\n",
    "z=f(x,y).sum()\n",
    "\n",
    "# Compute the gradient\n",
    "grad_f = grad(z, inputs =(x,y))\n",
    "\n",
    "# Find the gradient value\n",
    "print('df(x,y)/dx = ',grad_f[0])\n",
    "print('\\ndf(x,y)/dy = ',grad_f[1])"
   ]
  },
  {
   "cell_type": "code",
   "execution_count": 31,
   "id": "a80fdf39",
   "metadata": {
    "execution": {
     "iopub.execute_input": "2023-04-04T09:20:39.964782Z",
     "iopub.status.busy": "2023-04-04T09:20:39.963971Z",
     "iopub.status.idle": "2023-04-04T09:20:39.972870Z",
     "shell.execute_reply": "2023-04-04T09:20:39.971785Z"
    },
    "papermill": {
     "duration": 0.026249,
     "end_time": "2023-04-04T09:20:39.975424",
     "exception": false,
     "start_time": "2023-04-04T09:20:39.949175",
     "status": "completed"
    },
    "tags": []
   },
   "outputs": [
    {
     "data": {
      "text/plain": [
       "tensor([[ 54.,  68.,  82.],\n",
       "        [ 96., 110., 124.]], grad_fn=<AddBackward0>)"
      ]
     },
     "execution_count": 31,
     "metadata": {},
     "output_type": "execute_result"
    }
   ],
   "source": [
    "Z = 4*x+10*y\n",
    "Z"
   ]
  },
  {
   "cell_type": "code",
   "execution_count": 32,
   "id": "9feb8e4e",
   "metadata": {
    "execution": {
     "iopub.execute_input": "2023-04-04T09:20:40.005410Z",
     "iopub.status.busy": "2023-04-04T09:20:40.004953Z",
     "iopub.status.idle": "2023-04-04T09:20:40.016228Z",
     "shell.execute_reply": "2023-04-04T09:20:40.015277Z"
    },
    "papermill": {
     "duration": 0.029193,
     "end_time": "2023-04-04T09:20:40.018612",
     "exception": false,
     "start_time": "2023-04-04T09:20:39.989419",
     "status": "completed"
    },
    "tags": []
   },
   "outputs": [
    {
     "name": "stdout",
     "output_type": "stream",
     "text": [
      "df(x,y)/dx =  tensor([[[[ 4.,  0.,  0.],\n",
      "          [ 0.,  0.,  0.]],\n",
      "\n",
      "         [[ 0.,  8.,  0.],\n",
      "          [ 0.,  0.,  0.]],\n",
      "\n",
      "         [[ 0.,  0., 12.],\n",
      "          [ 0.,  0.,  0.]]],\n",
      "\n",
      "\n",
      "        [[[ 0.,  0.,  0.],\n",
      "          [16.,  0.,  0.]],\n",
      "\n",
      "         [[ 0.,  0.,  0.],\n",
      "          [ 0., 20.,  0.]],\n",
      "\n",
      "         [[ 0.,  0.,  0.],\n",
      "          [ 0.,  0., 24.]]]])\n",
      "\n",
      "df(x,y)/dy = tensor([[[[ 50.,   0.,   0.],\n",
      "          [  0.,   0.,   0.]],\n",
      "\n",
      "         [[  0.,  60.,   0.],\n",
      "          [  0.,   0.,   0.]],\n",
      "\n",
      "         [[  0.,   0.,  70.],\n",
      "          [  0.,   0.,   0.]]],\n",
      "\n",
      "\n",
      "        [[[  0.,   0.,   0.],\n",
      "          [ 80.,   0.,   0.]],\n",
      "\n",
      "         [[  0.,   0.,   0.],\n",
      "          [  0.,  90.,   0.]],\n",
      "\n",
      "         [[  0.,   0.,   0.],\n",
      "          [  0.,   0., 100.]]]])\n"
     ]
    }
   ],
   "source": [
    "# import the necessary libraries\n",
    "import torch\n",
    "from torch.autograd.functional import jacobian\n",
    "\n",
    "# Assign the input variable\n",
    "x = torch_input=torch.tensor([[1.0,2.0,3.0],[4.0,5.0,6.0]],requires_grad=True)\n",
    "y = torch_input=torch.tensor([[5.0,6.0,7.0],[8.0,9.0,10.0]],requires_grad=True)\n",
    "\n",
    "# define the function\n",
    "def f(x,y):\n",
    "    return 2*(x**2) + 5*(y**2)\n",
    "\n",
    "\n",
    "# Find the gradient value\n",
    "gred = jacobian(func = f,inputs=(x,y))\n",
    "print('df(x,y)/dx = ',gred[0])\n",
    "print('\\ndf(x,y)/dy =',gred[1])"
   ]
  },
  {
   "cell_type": "code",
   "execution_count": 33,
   "id": "f8bb70e3",
   "metadata": {
    "execution": {
     "iopub.execute_input": "2023-04-04T09:20:40.048742Z",
     "iopub.status.busy": "2023-04-04T09:20:40.047887Z",
     "iopub.status.idle": "2023-04-04T09:20:41.667178Z",
     "shell.execute_reply": "2023-04-04T09:20:41.665742Z"
    },
    "papermill": {
     "duration": 1.637994,
     "end_time": "2023-04-04T09:20:41.670416",
     "exception": false,
     "start_time": "2023-04-04T09:20:40.032422",
     "status": "completed"
    },
    "tags": []
   },
   "outputs": [
    {
     "name": "stdout",
     "output_type": "stream",
     "text": [
      "df(x,y)/dx =  tensor([[-52.0000,  -0.0000,  -0.0000,  ...,   0.0000,   0.0000,   0.0000],\n",
      "        [ -0.0000, -51.4774,  -0.0000,  ...,   0.0000,   0.0000,   0.0000],\n",
      "        [ -0.0000,  -0.0000, -50.9548,  ...,   0.0000,   0.0000,   0.0000],\n",
      "        ...,\n",
      "        [ -0.0000,  -0.0000,  -0.0000,  ...,  50.9548,   0.0000,   0.0000],\n",
      "        [ -0.0000,  -0.0000,  -0.0000,  ...,   0.0000,  51.4774,   0.0000],\n",
      "        [ -0.0000,  -0.0000,  -0.0000,  ...,   0.0000,   0.0000,  52.0000]])\n",
      "\n",
      "df(x,y)/dy = tensor([[ 1000.0000,     0.0000,     0.0000,  ...,    -0.0000,    -0.0000,\n",
      "            -0.0000],\n",
      "        [    0.0000,   989.9497,     0.0000,  ...,    -0.0000,    -0.0000,\n",
      "            -0.0000],\n",
      "        [    0.0000,     0.0000,   979.8995,  ...,    -0.0000,    -0.0000,\n",
      "            -0.0000],\n",
      "        ...,\n",
      "        [    0.0000,     0.0000,     0.0000,  ...,  -979.8995,    -0.0000,\n",
      "            -0.0000],\n",
      "        [    0.0000,     0.0000,     0.0000,  ...,    -0.0000,  -989.9497,\n",
      "            -0.0000],\n",
      "        [    0.0000,     0.0000,     0.0000,  ...,    -0.0000,    -0.0000,\n",
      "         -1000.0000]])\n"
     ]
    },
    {
     "data": {
      "image/png": "[encoded data removed]",
      "text/plain": [
       "<Figure size 640x480 with 1 Axes>"
      ]
     },
     "metadata": {},
     "output_type": "display_data"
    }
   ],
   "source": [
    "# import the necessary libraries\n",
    "import torch\n",
    "from torch.autograd.functional import jacobian\n",
    "import matplotlib.pyplot as plt\n",
    "\n",
    "\n",
    "# Assign the input variable\n",
    "x = torch_input=torch.tensor([[1.0,2.0,3.0],[4.0,5.0,6.0]],requires_grad=True)\n",
    "y = torch_input=torch.tensor([[5.0,6.0,7.0],[8.0,9.0,10.0]],requires_grad=True)\n",
    "\n",
    "# defining teh domain of logarithmic function as a pytorch tensor\n",
    "x = torch.linspace(-13, 13, steps=200, requires_grad=True)\n",
    "# defining teh domain of logarithmic function as a pytorch tensor\n",
    "y = torch.linspace(-100, 100, steps=200, requires_grad=True)\n",
    "\n",
    "# define the function\n",
    "def f(x,y):\n",
    "    return 2*(x**2) - 5*(y**2)\n",
    "\n",
    "\n",
    "# Find the gradient value\n",
    "gred = jacobian(func = f,inputs=(x,y))\n",
    "print('df(x,y)/dx = ',gred[0])\n",
    "print('\\ndf(x,y)/dy =',gred[1])\n",
    "\n",
    "\n",
    "# displaying plots\n",
    "# original y = x^3 function\n",
    "plt.plot(x.detach(), f(x,y).detach())#, label=\"y = x^3\")\n",
    "plt.plot(y.detach(), f(x,y).detach())#, label=\"y = x^3\")\n",
    "\n",
    "# derivative of the y = x^3 function\n",
    "plt.plot(x.detach(), gred[0]) #, label=\"y' = 3x^2\")\n",
    "plt.plot(y.detach(), gred[1]) #, label=\"y' = 3x^2\")\n",
    "plt.legend()\n",
    "plt.show()"
   ]
  },
  {
   "cell_type": "code",
   "execution_count": 34,
   "id": "8a857111",
   "metadata": {
    "execution": {
     "iopub.execute_input": "2023-04-04T09:20:41.703750Z",
     "iopub.status.busy": "2023-04-04T09:20:41.702442Z",
     "iopub.status.idle": "2023-04-04T09:20:41.946921Z",
     "shell.execute_reply": "2023-04-04T09:20:41.945572Z"
    },
    "papermill": {
     "duration": 0.263766,
     "end_time": "2023-04-04T09:20:41.949862",
     "exception": false,
     "start_time": "2023-04-04T09:20:41.686096",
     "status": "completed"
    },
    "tags": []
   },
   "outputs": [
    {
     "data": {
      "image/png": "[encoded data removed]",
      "text/plain": [
       "<Figure size 640x480 with 1 Axes>"
      ]
     },
     "metadata": {},
     "output_type": "display_data"
    }
   ],
   "source": [
    "# imports\n",
    "from torch.autograd import *\n",
    "import torch\n",
    "import math\n",
    "import matplotlib.pyplot as plt\n",
    "\n",
    "# defining teh domain of logarithmic function as a pytorch tensor\n",
    "x = torch.linspace(1, 13, steps=230, requires_grad=True)\n",
    "\n",
    "# generating the range of logarithmic function\n",
    "y = torch.log(x)\n",
    "\n",
    "# creating a scalar element for autograd to compute gradient on\n",
    "der = y.sum()\n",
    "# calculating the gradient/derivative\n",
    "der.backward()\n",
    "\n",
    "# displaying plots\n",
    "# original logarithmic function\n",
    "plt.plot(x.detach(), y.detach(), label=\"Logarithm\")\n",
    "# derivative of the logarithmic function\n",
    "plt.plot(x.detach(), x.grad.detach(), label=\"Derivative of Lograrithm\")\n",
    "plt.legend()\n",
    "plt.show()"
   ]
  },
  {
   "cell_type": "code",
   "execution_count": 35,
   "id": "adee5783",
   "metadata": {
    "execution": {
     "iopub.execute_input": "2023-04-04T09:20:41.982845Z",
     "iopub.status.busy": "2023-04-04T09:20:41.982415Z",
     "iopub.status.idle": "2023-04-04T09:20:42.324221Z",
     "shell.execute_reply": "2023-04-04T09:20:42.322813Z"
    },
    "papermill": {
     "duration": 0.36151,
     "end_time": "2023-04-04T09:20:42.326890",
     "exception": false,
     "start_time": "2023-04-04T09:20:41.965380",
     "status": "completed"
    },
    "tags": []
   },
   "outputs": [
    {
     "data": {
      "image/png": "[encoded data removed]",
      "text/plain": [
       "<Figure size 640x480 with 1 Axes>"
      ]
     },
     "metadata": {},
     "output_type": "display_data"
    }
   ],
   "source": [
    "# imports\n",
    "from torch.autograd import *\n",
    "import torch\n",
    "import math\n",
    "import matplotlib.pyplot as plt\n",
    "\n",
    "# define x value\n",
    "x = torch.linspace(-500, 500, steps=5000, requires_grad=True)\n",
    "\n",
    "# define the equation\n",
    "y = x*(x*x + 5*x +5) + 5\n",
    "\n",
    "# creating a scalar element for autograd to compute gradient on\n",
    "der = y.sum()\n",
    "\n",
    "# calculating the gradient/derivative\n",
    "der.backward()\n",
    "\n",
    "# displaying plots\n",
    "# original cosine function\n",
    "plt.plot(x.detach(), y.detach(), label=\"Cosine\")\n",
    "# derivative of the cosine function\n",
    "plt.plot(x.detach(), x.grad.detach(), label=\"Derivative of Cosine\")\n",
    "plt.legend()\n",
    "plt.show()"
   ]
  },
  {
   "cell_type": "code",
   "execution_count": 36,
   "id": "d23a0d30",
   "metadata": {
    "execution": {
     "iopub.execute_input": "2023-04-04T09:20:42.360847Z",
     "iopub.status.busy": "2023-04-04T09:20:42.359993Z",
     "iopub.status.idle": "2023-04-04T09:20:42.846452Z",
     "shell.execute_reply": "2023-04-04T09:20:42.845219Z"
    },
    "papermill": {
     "duration": 0.506843,
     "end_time": "2023-04-04T09:20:42.849538",
     "exception": false,
     "start_time": "2023-04-04T09:20:42.342695",
     "status": "completed"
    },
    "tags": []
   },
   "outputs": [
    {
     "data": {
      "image/png": "[encoded data removed]",
      "text/plain": [
       "<Figure size 640x480 with 1 Axes>"
      ]
     },
     "metadata": {},
     "output_type": "display_data"
    }
   ],
   "source": [
    "# imports\n",
    "from torch.autograd import *\n",
    "import torch\n",
    "import math\n",
    "import matplotlib.pyplot as plt\n",
    "\n",
    "# defining teh domain of cosine function as a pytorch tensor\n",
    "x = torch.linspace(-5, 5, steps=5000, requires_grad=True)\n",
    "\n",
    "# generating the range of cosine function\n",
    "y = x*x*x\n",
    "\n",
    "# creating a scalar element for autograd to compute gradient on\n",
    "der = y.sum()\n",
    "# calculating the gradient/derivative\n",
    "der.backward()\n",
    "\n",
    "# displaying plots\n",
    "# original y = x^3 function\n",
    "plt.plot(x.detach(), y.detach(), label=\"y = x^3\")\n",
    "\n",
    "# derivative of the y = x^3 function\n",
    "plt.plot(x.detach(), x.grad.detach(), label=\"y' = 3x^2\")\n",
    "plt.legend()\n",
    "plt.show()"
   ]
  },
  {
   "cell_type": "code",
   "execution_count": 37,
   "id": "4aca8f3e",
   "metadata": {
    "execution": {
     "iopub.execute_input": "2023-04-04T09:20:42.884205Z",
     "iopub.status.busy": "2023-04-04T09:20:42.883766Z",
     "iopub.status.idle": "2023-04-04T09:20:42.892930Z",
     "shell.execute_reply": "2023-04-04T09:20:42.891672Z"
    },
    "papermill": {
     "duration": 0.029682,
     "end_time": "2023-04-04T09:20:42.895737",
     "exception": false,
     "start_time": "2023-04-04T09:20:42.866055",
     "status": "completed"
    },
    "tags": []
   },
   "outputs": [
    {
     "data": {
      "text/plain": [
       "tensor([-5.0000, -4.9980, -4.9960,  ...,  4.9960,  4.9980,  5.0000],\n",
       "       requires_grad=True)"
      ]
     },
     "execution_count": 37,
     "metadata": {},
     "output_type": "execute_result"
    }
   ],
   "source": [
    "# defining teh domain of cosine function as a pytorch tensor\n",
    "x = torch.linspace(-5, 5, steps=5000, requires_grad=True)\n",
    "x"
   ]
  },
  {
   "cell_type": "code",
   "execution_count": 38,
   "id": "9ce6f2fc",
   "metadata": {
    "execution": {
     "iopub.execute_input": "2023-04-04T09:20:42.930440Z",
     "iopub.status.busy": "2023-04-04T09:20:42.929950Z",
     "iopub.status.idle": "2023-04-04T09:20:42.937854Z",
     "shell.execute_reply": "2023-04-04T09:20:42.936977Z"
    },
    "papermill": {
     "duration": 0.028063,
     "end_time": "2023-04-04T09:20:42.940110",
     "exception": false,
     "start_time": "2023-04-04T09:20:42.912047",
     "status": "completed"
    },
    "tags": []
   },
   "outputs": [
    {
     "data": {
      "text/plain": [
       "tensor([-125.0000, -124.8500, -124.7002,  ...,  124.7002,  124.8500,\n",
       "         125.0000], grad_fn=<MulBackward0>)"
      ]
     },
     "execution_count": 38,
     "metadata": {},
     "output_type": "execute_result"
    }
   ],
   "source": [
    "# generating the range of cosine function\n",
    "y = x*x*x\n",
    "y"
   ]
  },
  {
   "cell_type": "code",
   "execution_count": 39,
   "id": "26f2378b",
   "metadata": {
    "execution": {
     "iopub.execute_input": "2023-04-04T09:20:42.975435Z",
     "iopub.status.busy": "2023-04-04T09:20:42.974973Z",
     "iopub.status.idle": "2023-04-04T09:20:42.983296Z",
     "shell.execute_reply": "2023-04-04T09:20:42.981979Z"
    },
    "papermill": {
     "duration": 0.029191,
     "end_time": "2023-04-04T09:20:42.985783",
     "exception": false,
     "start_time": "2023-04-04T09:20:42.956592",
     "status": "completed"
    },
    "tags": []
   },
   "outputs": [
    {
     "data": {
      "text/plain": [
       "tensor(0.0002, grad_fn=<SumBackward0>)"
      ]
     },
     "execution_count": 39,
     "metadata": {},
     "output_type": "execute_result"
    }
   ],
   "source": [
    "# creating a scalar element for autograd to compute gradient on\n",
    "der = y.sum()\n",
    "der"
   ]
  },
  {
   "cell_type": "code",
   "execution_count": 40,
   "id": "6767b800",
   "metadata": {
    "execution": {
     "iopub.execute_input": "2023-04-04T09:20:43.020887Z",
     "iopub.status.busy": "2023-04-04T09:20:43.020431Z",
     "iopub.status.idle": "2023-04-04T09:20:43.026270Z",
     "shell.execute_reply": "2023-04-04T09:20:43.025121Z"
    },
    "papermill": {
     "duration": 0.026241,
     "end_time": "2023-04-04T09:20:43.028745",
     "exception": false,
     "start_time": "2023-04-04T09:20:43.002504",
     "status": "completed"
    },
    "tags": []
   },
   "outputs": [],
   "source": [
    "# calculating the gradient/derivative\n",
    "der.backward()"
   ]
  },
  {
   "cell_type": "code",
   "execution_count": 41,
   "id": "4e5f519a",
   "metadata": {
    "execution": {
     "iopub.execute_input": "2023-04-04T09:20:43.064799Z",
     "iopub.status.busy": "2023-04-04T09:20:43.064318Z",
     "iopub.status.idle": "2023-04-04T09:20:43.074149Z",
     "shell.execute_reply": "2023-04-04T09:20:43.072910Z"
    },
    "papermill": {
     "duration": 0.031364,
     "end_time": "2023-04-04T09:20:43.076806",
     "exception": false,
     "start_time": "2023-04-04T09:20:43.045442",
     "status": "completed"
    },
    "tags": []
   },
   "outputs": [
    {
     "data": {
      "text/plain": [
       "tensor([-125.0000, -124.8500, -124.7002,  ...,  124.7002,  124.8500,\n",
       "         125.0000])"
      ]
     },
     "execution_count": 41,
     "metadata": {},
     "output_type": "execute_result"
    }
   ],
   "source": [
    "x.detach()\n",
    "y.detach()"
   ]
  },
  {
   "cell_type": "code",
   "execution_count": 42,
   "id": "192e9640",
   "metadata": {
    "execution": {
     "iopub.execute_input": "2023-04-04T09:20:43.113500Z",
     "iopub.status.busy": "2023-04-04T09:20:43.112188Z",
     "iopub.status.idle": "2023-04-04T09:20:43.380573Z",
     "shell.execute_reply": "2023-04-04T09:20:43.379200Z"
    },
    "papermill": {
     "duration": 0.289401,
     "end_time": "2023-04-04T09:20:43.383159",
     "exception": false,
     "start_time": "2023-04-04T09:20:43.093758",
     "status": "completed"
    },
    "tags": []
   },
   "outputs": [
    {
     "data": {
      "text/plain": [
       "[<matplotlib.lines.Line2D at 0x777fb69d2fd0>]"
      ]
     },
     "execution_count": 42,
     "metadata": {},
     "output_type": "execute_result"
    },
    {
     "data": {
      "image/png": "[encoded data removed]",
      "text/plain": [
       "<Figure size 640x480 with 1 Axes>"
      ]
     },
     "metadata": {},
     "output_type": "display_data"
    }
   ],
   "source": [
    "# original y = x^3 function\n",
    "plt.plot(x.detach(), y.detach(), label=\"y = x^3\")"
   ]
  },
  {
   "cell_type": "code",
   "execution_count": 43,
   "id": "3943f587",
   "metadata": {
    "execution": {
     "iopub.execute_input": "2023-04-04T09:20:43.420423Z",
     "iopub.status.busy": "2023-04-04T09:20:43.419936Z",
     "iopub.status.idle": "2023-04-04T09:20:43.428888Z",
     "shell.execute_reply": "2023-04-04T09:20:43.427636Z"
    },
    "papermill": {
     "duration": 0.031056,
     "end_time": "2023-04-04T09:20:43.431712",
     "exception": false,
     "start_time": "2023-04-04T09:20:43.400656",
     "status": "completed"
    },
    "tags": []
   },
   "outputs": [
    {
     "data": {
      "text/plain": [
       "tensor([75.0000, 74.9400, 74.8800,  ..., 74.8800, 74.9400, 75.0000])"
      ]
     },
     "execution_count": 43,
     "metadata": {},
     "output_type": "execute_result"
    }
   ],
   "source": [
    "x.grad.detach()"
   ]
  },
  {
   "cell_type": "code",
   "execution_count": 44,
   "id": "e273ba43",
   "metadata": {
    "execution": {
     "iopub.execute_input": "2023-04-04T09:20:43.468920Z",
     "iopub.status.busy": "2023-04-04T09:20:43.468501Z",
     "iopub.status.idle": "2023-04-04T09:20:43.741998Z",
     "shell.execute_reply": "2023-04-04T09:20:43.740743Z"
    },
    "papermill": {
     "duration": 0.295254,
     "end_time": "2023-04-04T09:20:43.744670",
     "exception": false,
     "start_time": "2023-04-04T09:20:43.449416",
     "status": "completed"
    },
    "tags": []
   },
   "outputs": [
    {
     "data": {
      "text/plain": [
       "[<matplotlib.lines.Line2D at 0x777fb6914890>]"
      ]
     },
     "execution_count": 44,
     "metadata": {},
     "output_type": "execute_result"
    },
    {
     "data": {
      "image/png": "[encoded data removed]",
      "text/plain": [
       "<Figure size 640x480 with 1 Axes>"
      ]
     },
     "metadata": {},
     "output_type": "display_data"
    }
   ],
   "source": [
    "# derivative of the y = x^3 function\n",
    "plt.plot(x.detach(), x.grad.detach(), label=\"y' = 3x^2\")"
   ]
  },
  {
   "cell_type": "code",
   "execution_count": 45,
   "id": "0d159d3d",
   "metadata": {
    "execution": {
     "iopub.execute_input": "2023-04-04T09:20:43.784110Z",
     "iopub.status.busy": "2023-04-04T09:20:43.782864Z",
     "iopub.status.idle": "2023-04-04T09:20:45.378287Z",
     "shell.execute_reply": "2023-04-04T09:20:45.377025Z"
    },
    "papermill": {
     "duration": 1.618091,
     "end_time": "2023-04-04T09:20:45.381219",
     "exception": false,
     "start_time": "2023-04-04T09:20:43.763128",
     "status": "completed"
    },
    "tags": []
   },
   "outputs": [
    {
     "name": "stdout",
     "output_type": "stream",
     "text": [
      "df(x,y)/dx =  tensor([[-52.0000,  -0.0000,  -0.0000,  ...,   0.0000,   0.0000,   0.0000],\n",
      "        [ -0.0000, -51.4774,  -0.0000,  ...,   0.0000,   0.0000,   0.0000],\n",
      "        [ -0.0000,  -0.0000, -50.9548,  ...,   0.0000,   0.0000,   0.0000],\n",
      "        ...,\n",
      "        [ -0.0000,  -0.0000,  -0.0000,  ...,  50.9548,   0.0000,   0.0000],\n",
      "        [ -0.0000,  -0.0000,  -0.0000,  ...,   0.0000,  51.4774,   0.0000],\n",
      "        [ -0.0000,  -0.0000,  -0.0000,  ...,   0.0000,   0.0000,  52.0000]])\n",
      "\n",
      "df(x,y)/dy = tensor([[ 1000.0000,     0.0000,     0.0000,  ...,    -0.0000,    -0.0000,\n",
      "            -0.0000],\n",
      "        [    0.0000,   989.9497,     0.0000,  ...,    -0.0000,    -0.0000,\n",
      "            -0.0000],\n",
      "        [    0.0000,     0.0000,   979.8995,  ...,    -0.0000,    -0.0000,\n",
      "            -0.0000],\n",
      "        ...,\n",
      "        [    0.0000,     0.0000,     0.0000,  ...,  -979.8995,    -0.0000,\n",
      "            -0.0000],\n",
      "        [    0.0000,     0.0000,     0.0000,  ...,    -0.0000,  -989.9497,\n",
      "            -0.0000],\n",
      "        [    0.0000,     0.0000,     0.0000,  ...,    -0.0000,    -0.0000,\n",
      "         -1000.0000]])\n"
     ]
    },
    {
     "data": {
      "image/png": "[encoded data removed]",
      "text/plain": [
       "<Figure size 640x480 with 1 Axes>"
      ]
     },
     "metadata": {},
     "output_type": "display_data"
    }
   ],
   "source": [
    "# import the necessary libraries\n",
    "import torch\n",
    "from torch.autograd.functional import jacobian\n",
    "\n",
    "# Assign the input variable\n",
    "x = torch_input=torch.tensor([[1.0,2.0,3.0],[4.0,5.0,6.0]],requires_grad=True)\n",
    "y = torch_input=torch.tensor([[5.0,6.0,7.0],[8.0,9.0,10.0]],requires_grad=True)\n",
    "\n",
    "# defining teh domain of logarithmic function as a pytorch tensor\n",
    "x = torch.linspace(-13, 13, steps=200, requires_grad=True)\n",
    "# defining teh domain of logarithmic function as a pytorch tensor\n",
    "y = torch.linspace(-100, 100, steps=200, requires_grad=True)\n",
    "\n",
    "# define the function\n",
    "def f(x,y):\n",
    "    return 2*(x**2) - 5*(y**2)\n",
    "\n",
    "\n",
    "# Find the gradient value\n",
    "gred = jacobian(func = f,inputs=(x,y))\n",
    "print('df(x,y)/dx = ',gred[0])\n",
    "print('\\ndf(x,y)/dy =',gred[1])\n",
    "\n",
    "\n",
    "# displaying plots\n",
    "# original y = x^3 function\n",
    "plt.plot(x.detach(), f(x,y).detach())#, label=\"y = x^3\")\n",
    "plt.plot(y.detach(), f(x,y).detach())#, label=\"y = x^3\")\n",
    "\n",
    "# derivative of the y = x^3 function\n",
    "plt.plot(x.detach(), gred[0]) #, label=\"y' = 3x^2\")\n",
    "plt.plot(y.detach(), gred[1]) #, label=\"y' = 3x^2\")\n",
    "plt.legend()\n",
    "plt.show()"
   ]
  },
  {
   "cell_type": "code",
   "execution_count": 46,
   "id": "aff630d4",
   "metadata": {
    "execution": {
     "iopub.execute_input": "2023-04-04T09:20:45.422583Z",
     "iopub.status.busy": "2023-04-04T09:20:45.422125Z",
     "iopub.status.idle": "2023-04-04T09:20:45.814413Z",
     "shell.execute_reply": "2023-04-04T09:20:45.813090Z"
    },
    "papermill": {
     "duration": 0.416553,
     "end_time": "2023-04-04T09:20:45.817130",
     "exception": false,
     "start_time": "2023-04-04T09:20:45.400577",
     "status": "completed"
    },
    "tags": []
   },
   "outputs": [
    {
     "data": {
      "image/png": "[encoded data removed]",
      "text/plain": [
       "<Figure size 1300x500 with 2 Axes>"
      ]
     },
     "metadata": {},
     "output_type": "display_data"
    }
   ],
   "source": [
    "# import the necessary libraries\n",
    "import torch\n",
    "import matplotlib.pyplot as plt\n",
    "\n",
    "# Assign the input variable\n",
    "x = torch.linspace(-5, 5, steps=200, requires_grad=True)\n",
    "y = torch.linspace(-5, 5, steps=200, requires_grad=True)\n",
    "\n",
    "# define the function\n",
    "def f(x,y):\n",
    "    return (x**3) + 5*x + (y**2)\n",
    "\n",
    "# create the sclar elements\n",
    "z = f(x,y).sum()\n",
    "\n",
    "# find gradient\n",
    "z.backward()\n",
    "\n",
    "# Plot the figure\n",
    "plt.figure(figsize=(13,5))\n",
    "\n",
    "plt.subplot(1,2,1)\n",
    "# original f(x,y) = x^3 +5x + y^2 function\n",
    "plt.plot(x.detach(), f(x,y).detach(), label=\"f(x,y) = x^3 +5x + y^2\")\n",
    "# derivative of the ff(x,y) = x^3 +5x + y^2 function w.r.t x\n",
    "plt.plot(x.detach(), x.grad, label=\"d(f(x,y))/dx = 3x^2 + 5\")\n",
    "\n",
    "plt.ylabel('f(x,y) & d(f(x,y))/dx')\n",
    "plt.xlabel('x')\n",
    "plt.legend()\n",
    "plt.title(\"d(f'(x,y))/dx\")\n",
    "\n",
    "plt.subplot(1,2,2)\n",
    "# original f(x,y) = x^3 +5x + y^2 function\n",
    "plt.plot(y.detach(), f(x,y).detach(), label=\"f(x,y) = x^3 +5x + y^2\")\n",
    "\n",
    "# derivative of the f(x,y) = x^3 +5x + y^2 function w.r.t y\n",
    "plt.plot(y.detach(), y.grad,  label=\"d(f(x,y))/dy = 2y\")\n",
    "\n",
    "plt.ylabel('f(x,y) & d(f(x,y))/dy')\n",
    "plt.xlabel('y')\n",
    "plt.legend()\n",
    "plt.title(\"d(f'(x,y))/dy\")\n",
    "plt.show()"
   ]
  },
  {
   "cell_type": "code",
   "execution_count": 47,
   "id": "bb16e3dc",
   "metadata": {
    "execution": {
     "iopub.execute_input": "2023-04-04T09:20:45.859043Z",
     "iopub.status.busy": "2023-04-04T09:20:45.858632Z",
     "iopub.status.idle": "2023-04-04T09:20:46.093047Z",
     "shell.execute_reply": "2023-04-04T09:20:46.091755Z"
    },
    "papermill": {
     "duration": 0.258534,
     "end_time": "2023-04-04T09:20:46.095703",
     "exception": false,
     "start_time": "2023-04-04T09:20:45.837169",
     "status": "completed"
    },
    "tags": []
   },
   "outputs": [
    {
     "data": {
      "image/png": "[encoded data removed]",
      "text/plain": [
       "<Figure size 640x480 with 1 Axes>"
      ]
     },
     "metadata": {},
     "output_type": "display_data"
    }
   ],
   "source": [
    "# displaying plots\n",
    "# original f(x,y) = x^2 +5x + y^2 function\n",
    "plt.plot(y.detach(), f(x,y).detach(), label=\"f(x,y) = x^2 +5x + y^2\")\n",
    "\n",
    "# derivative of the f(x,y) = 2x^2 -5y^2 function w.r.t y\n",
    "plt.plot(y.detach(), y.grad,  label=\"d(f(x,y))/dy = 2y\")\n",
    "\n",
    "plt.ylabel('f(x,y) & d(f(x,y))/dy')\n",
    "plt.xlabel('y')\n",
    "plt.legend()\n",
    "plt.show()"
   ]
  },
  {
   "cell_type": "code",
   "execution_count": 48,
   "id": "656d4ff7",
   "metadata": {
    "execution": {
     "iopub.execute_input": "2023-04-04T09:20:46.139447Z",
     "iopub.status.busy": "2023-04-04T09:20:46.138307Z",
     "iopub.status.idle": "2023-04-04T09:20:46.386937Z",
     "shell.execute_reply": "2023-04-04T09:20:46.385531Z"
    },
    "papermill": {
     "duration": 0.273813,
     "end_time": "2023-04-04T09:20:46.390088",
     "exception": false,
     "start_time": "2023-04-04T09:20:46.116275",
     "status": "completed"
    },
    "tags": []
   },
   "outputs": [
    {
     "data": {
      "text/plain": [
       "[<matplotlib.lines.Line2D at 0x777fb6758f90>]"
      ]
     },
     "execution_count": 48,
     "metadata": {},
     "output_type": "execute_result"
    },
    {
     "data": {
      "image/png": "[encoded data removed]",
      "text/plain": [
       "<Figure size 640x480 with 1 Axes>"
      ]
     },
     "metadata": {},
     "output_type": "display_data"
    }
   ],
   "source": [
    "#plt.plot(x.detach(),y.detach())\n",
    "plt.plot(x.grad,y.grad)"
   ]
  },
  {
   "cell_type": "code",
   "execution_count": 49,
   "id": "0c6dedc4",
   "metadata": {
    "execution": {
     "iopub.execute_input": "2023-04-04T09:20:46.438581Z",
     "iopub.status.busy": "2023-04-04T09:20:46.437261Z",
     "iopub.status.idle": "2023-04-04T09:20:46.446591Z",
     "shell.execute_reply": "2023-04-04T09:20:46.445602Z"
    },
    "papermill": {
     "duration": 0.035255,
     "end_time": "2023-04-04T09:20:46.449026",
     "exception": false,
     "start_time": "2023-04-04T09:20:46.413771",
     "status": "completed"
    },
    "tags": []
   },
   "outputs": [
    {
     "data": {
      "text/plain": [
       "tensor([-5.0000, -4.9497, -4.8995, -4.8492, -4.7990, -4.7487, -4.6985, -4.6482,\n",
       "        -4.5980, -4.5477, -4.4975, -4.4472, -4.3970, -4.3467, -4.2965, -4.2462,\n",
       "        -4.1960, -4.1457, -4.0955, -4.0452, -3.9950, -3.9447, -3.8945, -3.8442,\n",
       "        -3.7940, -3.7437, -3.6935, -3.6432, -3.5930, -3.5427, -3.4925, -3.4422,\n",
       "        -3.3920, -3.3417, -3.2915, -3.2412, -3.1910, -3.1407, -3.0905, -3.0402,\n",
       "        -2.9899, -2.9397, -2.8894, -2.8392, -2.7889, -2.7387, -2.6884, -2.6382,\n",
       "        -2.5879, -2.5377, -2.4874, -2.4372, -2.3869, -2.3367, -2.2864, -2.2362,\n",
       "        -2.1859, -2.1357, -2.0854, -2.0352, -1.9849, -1.9347, -1.8844, -1.8342,\n",
       "        -1.7839, -1.7337, -1.6834, -1.6332, -1.5829, -1.5327, -1.4824, -1.4322,\n",
       "        -1.3819, -1.3317, -1.2814, -1.2312, -1.1809, -1.1307, -1.0804, -1.0302,\n",
       "        -0.9799, -0.9296, -0.8794, -0.8291, -0.7789, -0.7286, -0.6784, -0.6281,\n",
       "        -0.5779, -0.5276, -0.4774, -0.4271, -0.3769, -0.3266, -0.2764, -0.2261,\n",
       "        -0.1759, -0.1256, -0.0754, -0.0251,  0.0251,  0.0754,  0.1256,  0.1759,\n",
       "         0.2261,  0.2764,  0.3266,  0.3769,  0.4271,  0.4774,  0.5276,  0.5779,\n",
       "         0.6281,  0.6784,  0.7286,  0.7789,  0.8291,  0.8794,  0.9296,  0.9799,\n",
       "         1.0302,  1.0804,  1.1307,  1.1809,  1.2312,  1.2814,  1.3317,  1.3819,\n",
       "         1.4322,  1.4824,  1.5327,  1.5829,  1.6332,  1.6834,  1.7337,  1.7839,\n",
       "         1.8342,  1.8844,  1.9347,  1.9849,  2.0352,  2.0854,  2.1357,  2.1859,\n",
       "         2.2362,  2.2864,  2.3367,  2.3869,  2.4372,  2.4874,  2.5377,  2.5879,\n",
       "         2.6382,  2.6884,  2.7387,  2.7889,  2.8392,  2.8894,  2.9397,  2.9899,\n",
       "         3.0402,  3.0905,  3.1407,  3.1910,  3.2412,  3.2915,  3.3417,  3.3920,\n",
       "         3.4422,  3.4925,  3.5427,  3.5930,  3.6432,  3.6935,  3.7437,  3.7940,\n",
       "         3.8442,  3.8945,  3.9447,  3.9950,  4.0452,  4.0955,  4.1457,  4.1960,\n",
       "         4.2462,  4.2965,  4.3467,  4.3970,  4.4472,  4.4975,  4.5477,  4.5980,\n",
       "         4.6482,  4.6985,  4.7487,  4.7990,  4.8492,  4.8995,  4.9497,  5.0000])"
      ]
     },
     "execution_count": 49,
     "metadata": {},
     "output_type": "execute_result"
    }
   ],
   "source": [
    "x.detach()"
   ]
  },
  {
   "cell_type": "code",
   "execution_count": 50,
   "id": "b2966d91",
   "metadata": {
    "execution": {
     "iopub.execute_input": "2023-04-04T09:20:46.494267Z",
     "iopub.status.busy": "2023-04-04T09:20:46.493547Z",
     "iopub.status.idle": "2023-04-04T09:20:46.760043Z",
     "shell.execute_reply": "2023-04-04T09:20:46.758504Z"
    },
    "papermill": {
     "duration": 0.29202,
     "end_time": "2023-04-04T09:20:46.762657",
     "exception": false,
     "start_time": "2023-04-04T09:20:46.470637",
     "status": "completed"
    },
    "tags": []
   },
   "outputs": [
    {
     "data": {
      "image/png": "[encoded data removed]",
      "text/plain": [
       "<Figure size 640x480 with 1 Axes>"
      ]
     },
     "metadata": {},
     "output_type": "display_data"
    }
   ],
   "source": [
    "# import the necessary libraries\n",
    "import torch\n",
    "import math\n",
    "\n",
    "# Assign the input variable\n",
    "x = torch.linspace(-5, 5, steps=200, requires_grad=True)\n",
    "\n",
    "# define the function\n",
    "def f(x):\n",
    "    return torch.sin(x)#+torch.cos(y)\n",
    "\n",
    "# create the sclar elements\n",
    "z = f(x).sum()\n",
    "\n",
    "# find gradient\n",
    "z.backward()\n",
    "\n",
    "# Plot the figure\n",
    "# original f(x) = sin(x) function\n",
    "plt.plot(x.detach(), f(x).detach(), label=\"f(x) = sin(x)\")\n",
    "# derivative of the (x) = sin(x) function w.r.t x\n",
    "plt.plot(x.detach(), x.grad, label=\"f'(x) = cos(x)\")\n",
    "\n",
    "plt.ylabel(\"f(x)  or  f'(x)\")\n",
    "plt.xlabel('x')\n",
    "plt.legend()\n",
    "plt.show()"
   ]
  },
  {
   "cell_type": "code",
   "execution_count": 51,
   "id": "be3d26c0",
   "metadata": {
    "execution": {
     "iopub.execute_input": "2023-04-04T09:20:46.809192Z",
     "iopub.status.busy": "2023-04-04T09:20:46.808708Z",
     "iopub.status.idle": "2023-04-04T09:20:46.819550Z",
     "shell.execute_reply": "2023-04-04T09:20:46.818444Z"
    },
    "papermill": {
     "duration": 0.036742,
     "end_time": "2023-04-04T09:20:46.821901",
     "exception": false,
     "start_time": "2023-04-04T09:20:46.785159",
     "status": "completed"
    },
    "tags": []
   },
   "outputs": [
    {
     "name": "stdout",
     "output_type": "stream",
     "text": [
      "df(x,y)/dx =  tensor([[ 4.,  8., 12.],\n",
      "        [16., 20., 24.]])\n",
      "\n",
      "df(x,y)/dy =  tensor([[ 50.,  60.,  70.],\n",
      "        [ 80.,  90., 100.]])\n"
     ]
    }
   ],
   "source": [
    "# import the library\n",
    "import torch\n",
    "from torch.autograd import grad\n",
    "\n",
    "# Assign the input variable\n",
    "x = torch_input=torch.tensor([[1.0,2.0,3.0],[4.0,5.0,6.0]],requires_grad=True)\n",
    "y = torch_input=torch.tensor([[5.0,6.0,7.0],[8.0,9.0,10.0]],requires_grad=True)\n",
    "\n",
    "# define the function\n",
    "def f(x,y):\n",
    "    return 2*(x**2) + 5*(y**2)\n",
    "\n",
    "# Assign the sum to another varibale z\n",
    "z=f(x,y).sum()\n",
    "\n",
    "# Compute the gradient\n",
    "grad_f = grad(z, inputs =(x,y))\n",
    "\n",
    "# Find the gradient value\n",
    "print('df(x,y)/dx = ',grad_f[0])\n",
    "print('\\ndf(x,y)/dy = ',grad_f[1])"
   ]
  },
  {
   "cell_type": "code",
   "execution_count": null,
   "id": "38fb8148",
   "metadata": {
    "papermill": {
     "duration": 0.022012,
     "end_time": "2023-04-04T09:20:46.866045",
     "exception": false,
     "start_time": "2023-04-04T09:20:46.844033",
     "status": "completed"
    },
    "tags": []
   },
   "outputs": [],
   "source": []
  }
 ],
 "metadata": {
  "kernelspec": {
   "display_name": "Python 3",
   "language": "python",
   "name": "python3"
  },
  "language_info": {
   "codemirror_mode": {
    "name": "ipython",
    "version": 3
   },
   "file_extension": ".py",
   "mimetype": "text/x-python",
   "name": "python",
   "nbconvert_exporter": "python",
   "pygments_lexer": "ipython3",
   "version": "3.7.12"
  },
  "papermill": {
   "default_parameters": {},
   "duration": 22.475468,
   "end_time": "2023-04-04T09:20:48.013307",
   "environment_variables": {},
   "exception": null,
   "input_path": "__notebook__.ipynb",
   "output_path": "__notebook__.ipynb",
   "parameters": {},
   "start_time": "2023-04-04T09:20:25.537839",
   "version": "2.4.0"
  }
 },
 "nbformat": 4,
 "nbformat_minor": 5
}
