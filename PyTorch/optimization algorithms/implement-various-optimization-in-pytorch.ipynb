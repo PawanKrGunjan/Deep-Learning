{
 "cells": [
  {
   "cell_type": "markdown",
   "id": "69b8c3b8",
   "metadata": {
    "papermill": {
     "duration": 0.002751,
     "end_time": "2023-04-04T08:29:54.343315",
     "exception": false,
     "start_time": "2023-04-04T08:29:54.340564",
     "status": "completed"
    },
    "tags": []
   },
   "source": [
    "## Use Multiple optimization algorithms"
   ]
  },
  {
   "cell_type": "code",
   "execution_count": 1,
   "id": "9153b0ad",
   "metadata": {
    "execution": {
     "iopub.execute_input": "2023-04-04T08:29:54.348867Z",
     "iopub.status.busy": "2023-04-04T08:29:54.348442Z",
     "iopub.status.idle": "2023-04-04T08:45:47.322470Z",
     "shell.execute_reply": "2023-04-04T08:45:47.321066Z"
    },
    "papermill": {
     "duration": 952.980917,
     "end_time": "2023-04-04T08:45:47.326219",
     "exception": false,
     "start_time": "2023-04-04T08:29:54.345302",
     "status": "completed"
    },
    "tags": []
   },
   "outputs": [
    {
     "name": "stdout",
     "output_type": "stream",
     "text": [
      "Downloading https://www.cs.toronto.edu/~kriz/cifar-10-python.tar.gz to ./data/cifar-10-python.tar.gz\n"
     ]
    },
    {
     "data": {
      "application/vnd.jupyter.widget-view+json": {
       "model_id": "62401f12399343b6a989a0accfb0563f",
       "version_major": 2,
       "version_minor": 0
      },
      "text/plain": [
       "  0%|          | 0/170498071 [00:00<?, ?it/s]"
      ]
     },
     "metadata": {},
     "output_type": "display_data"
    },
    {
     "name": "stdout",
     "output_type": "stream",
     "text": [
      "Extracting ./data/cifar-10-python.tar.gz to ./data\n",
      "Epoch: 1 | Loss: 1.619 | Accuracy: 40.642 %\n",
      "Epoch: 2 | Loss: 1.435 | Accuracy: 48.820 %\n",
      "Epoch: 3 | Loss: 1.361 | Accuracy: 52.240 %\n",
      "Epoch: 4 | Loss: 1.309 | Accuracy: 54.340 %\n",
      "Epoch: 5 | Loss: 1.278 | Accuracy: 55.838 %\n",
      "Epoch: 6 | Loss: 1.259 | Accuracy: 56.660 %\n",
      "Epoch: 7 | Loss: 1.243 | Accuracy: 57.420 %\n",
      "Epoch: 8 | Loss: 1.225 | Accuracy: 58.070 %\n",
      "Epoch: 9 | Loss: 1.209 | Accuracy: 58.690 %\n",
      "Epoch: 10 | Loss: 1.202 | Accuracy: 59.260 %\n"
     ]
    }
   ],
   "source": [
    "import torch\n",
    "import torch.nn as nn\n",
    "import torch.optim as optim\n",
    "import torchvision.datasets as datasets\n",
    "import torchvision.transforms as transforms\n",
    "from torch.utils.data import DataLoader\n",
    "\n",
    "# Define a neural network architecture\n",
    "class Net(nn.Module):\n",
    "    def __init__(self):\n",
    "        super(Net, self).__init__()\n",
    "        self.conv1 = nn.Conv2d(3, 6, 5)\n",
    "        self.pool = nn.MaxPool2d(2, 2)\n",
    "        self.conv2 = nn.Conv2d(6, 16, 5)\n",
    "        self.fc1 = nn.Linear(16 * 5 * 5, 120)\n",
    "        self.fc2 = nn.Linear(120, 84)\n",
    "        self.fc3 = nn.Linear(84, 10)\n",
    "\n",
    "    def forward(self, x):\n",
    "        x = self.pool(torch.relu(self.conv1(x)))\n",
    "        x = self.pool(torch.relu(self.conv2(x)))\n",
    "        x = x.view(-1, 16 * 5 * 5)\n",
    "        x = torch.relu(self.fc1(x))\n",
    "        x = torch.relu(self.fc2(x))\n",
    "        x = self.fc3(x)\n",
    "        return x\n",
    "\n",
    "\n",
    "# Define the training dataset and data loader\n",
    "transform = transforms.Compose([transforms.ToTensor(),\n",
    "                                transforms.Normalize((0.5, 0.5, 0.5), (0.5, 0.5, 0.5))])\n",
    "trainset = datasets.CIFAR10(\n",
    "    root='./data', train=True, download=True, transform=transform)\n",
    "trainloader = DataLoader(trainset, batch_size=4, shuffle=True, num_workers=2)\n",
    "\n",
    "# Move the model to the GPU\n",
    "device = torch.device(\"cuda:0\" if torch.cuda.is_available() else \"cpu\")\n",
    "net = Net().to(device)\n",
    "\n",
    "# Define the loss function and optimization algorithms\n",
    "criterion = nn.CrossEntropyLoss()\n",
    "\n",
    "optimizer_sgd = optim.SGD(net.parameters(), lr=0.001, momentum=0.9)\n",
    "optimizer_adam = optim.Adam(net.parameters(), lr=0.001)\n",
    "optimizer_adagrad = optim.Adagrad(net.parameters(), lr=0.001)\n",
    "optimizer_adadelta = optim.Adadelta(net.parameters(), lr=0.001)\n",
    "\n",
    "# Train the neural network using different optimization algorithms\n",
    "for epoch in range(10):\n",
    "    running_loss = 0.0\n",
    "    correct = 0\n",
    "    total = 0\n",
    "    for i, data in enumerate(trainloader, 0):\n",
    "        inputs, labels = data\n",
    "        # move data and target to the GPU\n",
    "        inputs, labels = inputs.to(device), labels.to(device)\n",
    "        optimizer_sgd.zero_grad()\n",
    "        optimizer_adam.zero_grad()\n",
    "        optimizer_adagrad.zero_grad()\n",
    "        optimizer_adadelta.zero_grad()\n",
    "        outputs = net(inputs)\n",
    "        loss = criterion(outputs, labels)\n",
    "        loss.backward()\n",
    "        optimizer_sgd.step()\n",
    "        optimizer_adam.step()\n",
    "        optimizer_adagrad.step()\n",
    "        optimizer_adadelta.step()\n",
    "        running_loss += loss.item()\n",
    "        _, predicted = torch.max(outputs.data, 1)\n",
    "        total += labels.size(0)\n",
    "        correct += (predicted == labels).sum().item()\n",
    "\n",
    "    print('Epoch: %d | Loss: %.3f | Accuracy: %.3f %%' %\n",
    "          (epoch + 1, running_loss / len(trainloader), 100 * correct / total))"
   ]
  },
  {
   "cell_type": "markdown",
   "id": "007f2308",
   "metadata": {
    "papermill": {
     "duration": 0.002616,
     "end_time": "2023-04-04T08:45:47.331481",
     "exception": false,
     "start_time": "2023-04-04T08:45:47.328865",
     "status": "completed"
    },
    "tags": []
   },
   "source": [
    "## Use different optimization algorithms for different parts of the model"
   ]
  },
  {
   "cell_type": "code",
   "execution_count": 2,
   "id": "c07887bf",
   "metadata": {
    "execution": {
     "iopub.execute_input": "2023-04-04T08:45:47.338659Z",
     "iopub.status.busy": "2023-04-04T08:45:47.337978Z",
     "iopub.status.idle": "2023-04-04T09:00:07.422283Z",
     "shell.execute_reply": "2023-04-04T09:00:07.420987Z"
    },
    "papermill": {
     "duration": 860.092034,
     "end_time": "2023-04-04T09:00:07.426044",
     "exception": false,
     "start_time": "2023-04-04T08:45:47.334010",
     "status": "completed"
    },
    "tags": []
   },
   "outputs": [
    {
     "name": "stdout",
     "output_type": "stream",
     "text": [
      "Files already downloaded and verified\n",
      "Epoch: 1 | Loss: 1.632 | Accuracy: 41.636 %\n",
      "Epoch: 2 | Loss: 1.447 | Accuracy: 50.368 %\n",
      "Epoch: 3 | Loss: 1.383 | Accuracy: 53.862 %\n",
      "Epoch: 4 | Loss: 1.333 | Accuracy: 56.168 %\n",
      "Epoch: 5 | Loss: 1.302 | Accuracy: 57.778 %\n",
      "Epoch: 6 | Loss: 1.282 | Accuracy: 58.842 %\n",
      "Epoch: 7 | Loss: 1.263 | Accuracy: 59.618 %\n",
      "Epoch: 8 | Loss: 1.250 | Accuracy: 60.490 %\n",
      "Epoch: 9 | Loss: 1.242 | Accuracy: 60.926 %\n",
      "Epoch: 10 | Loss: 1.239 | Accuracy: 61.392 %\n"
     ]
    }
   ],
   "source": [
    "import torch\n",
    "import torch.nn as nn\n",
    "import torch.optim as optim\n",
    "import torchvision.datasets as datasets\n",
    "import torchvision.transforms as transforms\n",
    "from torch.utils.data import DataLoader\n",
    "\n",
    "# Define a neural network architecture\n",
    "class Net(nn.Module):\n",
    "    def __init__(self):\n",
    "        super(Net, self).__init__()\n",
    "        self.conv1 = nn.Conv2d(3, 6, 5)\n",
    "        self.pool = nn.MaxPool2d(2, 2)\n",
    "        self.conv2 = nn.Conv2d(6, 16, 5)\n",
    "        self.fc1 = nn.Linear(16 * 5 * 5, 120)\n",
    "        self.fc2 = nn.Linear(120, 84)\n",
    "        self.fc3 = nn.Linear(84, 10)\n",
    "\n",
    "    def forward(self, x):\n",
    "        x = self.pool(torch.relu(self.conv1(x)))\n",
    "        x = self.pool(torch.relu(self.conv2(x)))\n",
    "        x = x.view(-1, 16 * 5 * 5)\n",
    "        x = torch.relu(self.fc1(x))\n",
    "        x = torch.relu(self.fc2(x))\n",
    "        x = self.fc3(x)\n",
    "        return x\n",
    "\n",
    "# Define the training dataset and data loader\n",
    "transform = transforms.Compose([transforms.ToTensor(),\n",
    "                                transforms.Normalize((0.5, 0.5, 0.5), (0.5, 0.5, 0.5))])\n",
    "trainset = datasets.CIFAR10(\n",
    "    root='./data', train=True, download=True, transform=transform)\n",
    "trainloader = DataLoader(trainset, batch_size=4, shuffle=True, num_workers=2)\n",
    "\n",
    "# Move the model to the GPU\n",
    "device = torch.device(\"cuda:0\" if torch.cuda.is_available() else \"cpu\")\n",
    "net = Net().to(device)\n",
    "\n",
    "# Define the optimization algorithms\n",
    "optimizers = [optim.SGD(net.parameters('fc3'), lr=0.001, momentum=0.9),\n",
    "              optim.Adagrad(net.parameters('fc2'), lr=0.001),\n",
    "             optim.Adam(net.parameters('fc1'), lr=0.001)]\n",
    "\n",
    "\n",
    "# Train the neural network using different optimization algorithms\n",
    "for epoch in range(10):\n",
    "    running_loss = 0.0\n",
    "    correct = 0\n",
    "    total = 0\n",
    "    for i, data in enumerate(trainloader, 0):\n",
    "        inputs, labels = data\n",
    "        # move data and target to the GPU\n",
    "        inputs, labels = inputs.to(device), labels.to(device)\n",
    "        for optimizer in optimizers:\n",
    "            optimizer.zero_grad()\n",
    "        outputs = net(inputs)\n",
    "        \n",
    "        EntropyLoss = nn.CrossEntropyLoss()(outputs, labels)\n",
    "        fc1_loss = nn.L1Loss()(net.fc1.weight, torch.zeros_like(net.fc1.weight))\n",
    "        fc2_loss = nn.L1Loss()(net.fc2.weight, torch.zeros_like(net.fc2.weight))\n",
    "        total_loss = EntropyLoss + fc1_loss + fc2_loss\n",
    "        total_loss.backward()\n",
    "        \n",
    "        for optimizer in optimizers:\n",
    "            optimizer.step()\n",
    "        running_loss += total_loss.item()\n",
    "        _, predicted = torch.max(outputs.data, 1)\n",
    "        total += labels.size(0)\n",
    "        correct += (predicted == labels).sum().item()\n",
    "    print('Epoch: %d | Loss: %.3f | Accuracy: %.3f %%' %\n",
    "          (epoch + 1, running_loss / len(trainloader), 100 * correct / total))"
   ]
  },
  {
   "cell_type": "code",
   "execution_count": 3,
   "id": "bb86d46d",
   "metadata": {
    "execution": {
     "iopub.execute_input": "2023-04-04T09:00:07.434504Z",
     "iopub.status.busy": "2023-04-04T09:00:07.433423Z",
     "iopub.status.idle": "2023-04-04T09:00:07.442118Z",
     "shell.execute_reply": "2023-04-04T09:00:07.440972Z"
    },
    "papermill": {
     "duration": 0.015662,
     "end_time": "2023-04-04T09:00:07.444861",
     "exception": false,
     "start_time": "2023-04-04T09:00:07.429199",
     "status": "completed"
    },
    "tags": []
   },
   "outputs": [
    {
     "data": {
      "text/plain": [
       "<bound method Module.parameters of Net(\n",
       "  (conv1): Conv2d(3, 6, kernel_size=(5, 5), stride=(1, 1))\n",
       "  (pool): MaxPool2d(kernel_size=2, stride=2, padding=0, dilation=1, ceil_mode=False)\n",
       "  (conv2): Conv2d(6, 16, kernel_size=(5, 5), stride=(1, 1))\n",
       "  (fc1): Linear(in_features=400, out_features=120, bias=True)\n",
       "  (fc2): Linear(in_features=120, out_features=84, bias=True)\n",
       "  (fc3): Linear(in_features=84, out_features=10, bias=True)\n",
       ")>"
      ]
     },
     "execution_count": 3,
     "metadata": {},
     "output_type": "execute_result"
    }
   ],
   "source": [
    "net.parameters"
   ]
  }
 ],
 "metadata": {
  "kernelspec": {
   "display_name": "Python 3",
   "language": "python",
   "name": "python3"
  },
  "language_info": {
   "codemirror_mode": {
    "name": "ipython",
    "version": 3
   },
   "file_extension": ".py",
   "mimetype": "text/x-python",
   "name": "python",
   "nbconvert_exporter": "python",
   "pygments_lexer": "ipython3",
   "version": "3.7.12"
  },
  "papermill": {
   "default_parameters": {},
   "duration": 1824.77,
   "end_time": "2023-04-04T09:00:09.693160",
   "environment_variables": {},
   "exception": null,
   "input_path": "__notebook__.ipynb",
   "output_path": "__notebook__.ipynb",
   "parameters": {},
   "start_time": "2023-04-04T08:29:44.923160",
   "version": "2.4.0"
  },
  "widgets": {
   "application/vnd.jupyter.widget-state+json": {
    "state": {
     "094c5f805ad44bce81e922fcec7172f6": {
      "model_module": "@jupyter-widgets/base",
      "model_module_version": "1.2.0",
      "model_name": "LayoutModel",
      "state": {
       "_model_module": "@jupyter-widgets/base",
       "_model_module_version": "1.2.0",
       "_model_name": "LayoutModel",
       "_view_count": null,
       "_view_module": "@jupyter-widgets/base",
       "_view_module_version": "1.2.0",
       "_view_name": "LayoutView",
       "align_content": null,
       "align_items": null,
       "align_self": null,
       "border": null,
       "bottom": null,
       "display": null,
       "flex": null,
       "flex_flow": null,
       "grid_area": null,
       "grid_auto_columns": null,
       "grid_auto_flow": null,
       "grid_auto_rows": null,
       "grid_column": null,
       "grid_gap": null,
       "grid_row": null,
       "grid_template_areas": null,
       "grid_template_columns": null,
       "grid_template_rows": null,
       "height": null,
       "justify_content": null,
       "justify_items": null,
       "left": null,
       "margin": null,
       "max_height": null,
       "max_width": null,
       "min_height": null,
       "min_width": null,
       "object_fit": null,
       "object_position": null,
       "order": null,
       "overflow": null,
       "overflow_x": null,
       "overflow_y": null,
       "padding": null,
       "right": null,
       "top": null,
       "visibility": null,
       "width": null
      }
     },
     "0c0c21e2538d4379a94ddcb2046ddf1c": {
      "model_module": "@jupyter-widgets/base",
      "model_module_version": "1.2.0",
      "model_name": "LayoutModel",
      "state": {
       "_model_module": "@jupyter-widgets/base",
       "_model_module_version": "1.2.0",
       "_model_name": "LayoutModel",
       "_view_count": null,
       "_view_module": "@jupyter-widgets/base",
       "_view_module_version": "1.2.0",
       "_view_name": "LayoutView",
       "align_content": null,
       "align_items": null,
       "align_self": null,
       "border": null,
       "bottom": null,
       "display": null,
       "flex": null,
       "flex_flow": null,
       "grid_area": null,
       "grid_auto_columns": null,
       "grid_auto_flow": null,
       "grid_auto_rows": null,
       "grid_column": null,
       "grid_gap": null,
       "grid_row": null,
       "grid_template_areas": null,
       "grid_template_columns": null,
       "grid_template_rows": null,
       "height": null,
       "justify_content": null,
       "justify_items": null,
       "left": null,
       "margin": null,
       "max_height": null,
       "max_width": null,
       "min_height": null,
       "min_width": null,
       "object_fit": null,
       "object_position": null,
       "order": null,
       "overflow": null,
       "overflow_x": null,
       "overflow_y": null,
       "padding": null,
       "right": null,
       "top": null,
       "visibility": null,
       "width": null
      }
     },
     "1ad1b0f3258c4303b57c3c06c9163ff3": {
      "model_module": "@jupyter-widgets/controls",
      "model_module_version": "1.5.0",
      "model_name": "FloatProgressModel",
      "state": {
       "_dom_classes": [],
       "_model_module": "@jupyter-widgets/controls",
       "_model_module_version": "1.5.0",
       "_model_name": "FloatProgressModel",
       "_view_count": null,
       "_view_module": "@jupyter-widgets/controls",
       "_view_module_version": "1.5.0",
       "_view_name": "ProgressView",
       "bar_style": "success",
       "description": "",
       "description_tooltip": null,
       "layout": "IPY_MODEL_ece5bce69b9142ef930f1b20a49dc7d3",
       "max": 170498071.0,
       "min": 0.0,
       "orientation": "horizontal",
       "style": "IPY_MODEL_e13502127035454f9ee76059e4be1c43",
       "value": 170498071.0
      }
     },
     "43f4a63ce86d4c4d80ca49985111d8f4": {
      "model_module": "@jupyter-widgets/controls",
      "model_module_version": "1.5.0",
      "model_name": "HTMLModel",
      "state": {
       "_dom_classes": [],
       "_model_module": "@jupyter-widgets/controls",
       "_model_module_version": "1.5.0",
       "_model_name": "HTMLModel",
       "_view_count": null,
       "_view_module": "@jupyter-widgets/controls",
       "_view_module_version": "1.5.0",
       "_view_name": "HTMLView",
       "description": "",
       "description_tooltip": null,
       "layout": "IPY_MODEL_0c0c21e2538d4379a94ddcb2046ddf1c",
       "placeholder": "​",
       "style": "IPY_MODEL_d544ffd7805940fead70194ef9ba5837",
       "value": " 170498071/170498071 [00:01&lt;00:00, 103138819.74it/s]"
      }
     },
     "62401f12399343b6a989a0accfb0563f": {
      "model_module": "@jupyter-widgets/controls",
      "model_module_version": "1.5.0",
      "model_name": "HBoxModel",
      "state": {
       "_dom_classes": [],
       "_model_module": "@jupyter-widgets/controls",
       "_model_module_version": "1.5.0",
       "_model_name": "HBoxModel",
       "_view_count": null,
       "_view_module": "@jupyter-widgets/controls",
       "_view_module_version": "1.5.0",
       "_view_name": "HBoxView",
       "box_style": "",
       "children": [
        "IPY_MODEL_78ad752dade440629716e640a2eb59c8",
        "IPY_MODEL_1ad1b0f3258c4303b57c3c06c9163ff3",
        "IPY_MODEL_43f4a63ce86d4c4d80ca49985111d8f4"
       ],
       "layout": "IPY_MODEL_edde0734d0dc434fb34f49309d64ef12"
      }
     },
     "78ad752dade440629716e640a2eb59c8": {
      "model_module": "@jupyter-widgets/controls",
      "model_module_version": "1.5.0",
      "model_name": "HTMLModel",
      "state": {
       "_dom_classes": [],
       "_model_module": "@jupyter-widgets/controls",
       "_model_module_version": "1.5.0",
       "_model_name": "HTMLModel",
       "_view_count": null,
       "_view_module": "@jupyter-widgets/controls",
       "_view_module_version": "1.5.0",
       "_view_name": "HTMLView",
       "description": "",
       "description_tooltip": null,
       "layout": "IPY_MODEL_094c5f805ad44bce81e922fcec7172f6",
       "placeholder": "​",
       "style": "IPY_MODEL_eca7746b55694480bd99c48479058b62",
       "value": "100%"
      }
     },
     "d544ffd7805940fead70194ef9ba5837": {
      "model_module": "@jupyter-widgets/controls",
      "model_module_version": "1.5.0",
      "model_name": "DescriptionStyleModel",
      "state": {
       "_model_module": "@jupyter-widgets/controls",
       "_model_module_version": "1.5.0",
       "_model_name": "DescriptionStyleModel",
       "_view_count": null,
       "_view_module": "@jupyter-widgets/base",
       "_view_module_version": "1.2.0",
       "_view_name": "StyleView",
       "description_width": ""
      }
     },
     "e13502127035454f9ee76059e4be1c43": {
      "model_module": "@jupyter-widgets/controls",
      "model_module_version": "1.5.0",
      "model_name": "ProgressStyleModel",
      "state": {
       "_model_module": "@jupyter-widgets/controls",
       "_model_module_version": "1.5.0",
       "_model_name": "ProgressStyleModel",
       "_view_count": null,
       "_view_module": "@jupyter-widgets/base",
       "_view_module_version": "1.2.0",
       "_view_name": "StyleView",
       "bar_color": null,
       "description_width": ""
      }
     },
     "eca7746b55694480bd99c48479058b62": {
      "model_module": "@jupyter-widgets/controls",
      "model_module_version": "1.5.0",
      "model_name": "DescriptionStyleModel",
      "state": {
       "_model_module": "@jupyter-widgets/controls",
       "_model_module_version": "1.5.0",
       "_model_name": "DescriptionStyleModel",
       "_view_count": null,
       "_view_module": "@jupyter-widgets/base",
       "_view_module_version": "1.2.0",
       "_view_name": "StyleView",
       "description_width": ""
      }
     },
     "ece5bce69b9142ef930f1b20a49dc7d3": {
      "model_module": "@jupyter-widgets/base",
      "model_module_version": "1.2.0",
      "model_name": "LayoutModel",
      "state": {
       "_model_module": "@jupyter-widgets/base",
       "_model_module_version": "1.2.0",
       "_model_name": "LayoutModel",
       "_view_count": null,
       "_view_module": "@jupyter-widgets/base",
       "_view_module_version": "1.2.0",
       "_view_name": "LayoutView",
       "align_content": null,
       "align_items": null,
       "align_self": null,
       "border": null,
       "bottom": null,
       "display": null,
       "flex": null,
       "flex_flow": null,
       "grid_area": null,
       "grid_auto_columns": null,
       "grid_auto_flow": null,
       "grid_auto_rows": null,
       "grid_column": null,
       "grid_gap": null,
       "grid_row": null,
       "grid_template_areas": null,
       "grid_template_columns": null,
       "grid_template_rows": null,
       "height": null,
       "justify_content": null,
       "justify_items": null,
       "left": null,
       "margin": null,
       "max_height": null,
       "max_width": null,
       "min_height": null,
       "min_width": null,
       "object_fit": null,
       "object_position": null,
       "order": null,
       "overflow": null,
       "overflow_x": null,
       "overflow_y": null,
       "padding": null,
       "right": null,
       "top": null,
       "visibility": null,
       "width": null
      }
     },
     "edde0734d0dc434fb34f49309d64ef12": {
      "model_module": "@jupyter-widgets/base",
      "model_module_version": "1.2.0",
      "model_name": "LayoutModel",
      "state": {
       "_model_module": "@jupyter-widgets/base",
       "_model_module_version": "1.2.0",
       "_model_name": "LayoutModel",
       "_view_count": null,
       "_view_module": "@jupyter-widgets/base",
       "_view_module_version": "1.2.0",
       "_view_name": "LayoutView",
       "align_content": null,
       "align_items": null,
       "align_self": null,
       "border": null,
       "bottom": null,
       "display": null,
       "flex": null,
       "flex_flow": null,
       "grid_area": null,
       "grid_auto_columns": null,
       "grid_auto_flow": null,
       "grid_auto_rows": null,
       "grid_column": null,
       "grid_gap": null,
       "grid_row": null,
       "grid_template_areas": null,
       "grid_template_columns": null,
       "grid_template_rows": null,
       "height": null,
       "justify_content": null,
       "justify_items": null,
       "left": null,
       "margin": null,
       "max_height": null,
       "max_width": null,
       "min_height": null,
       "min_width": null,
       "object_fit": null,
       "object_position": null,
       "order": null,
       "overflow": null,
       "overflow_x": null,
       "overflow_y": null,
       "padding": null,
       "right": null,
       "top": null,
       "visibility": null,
       "width": null
      }
     }
    },
    "version_major": 2,
    "version_minor": 0
   }
  }
 },
 "nbformat": 4,
 "nbformat_minor": 5
}
